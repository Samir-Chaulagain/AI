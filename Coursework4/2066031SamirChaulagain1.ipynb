{
  "cells": [
    {
      "cell_type": "markdown",
      "id": "w-KjGkzXP08A",
      "metadata": {
        "id": "w-KjGkzXP08A"
      },
      "source": [
        "**Titanic_train(Classification)**\n",
        "\n",
        "**Name**:-  Samir Chaulagain\n",
        "\n",
        "**University ID**:-  2066031\n",
        "\n",
        "**Module leader**:- Siman Giri\n",
        "\n",
        "**Tutor**:- Anmol Adhikari"
      ]
    },
    {
      "cell_type": "markdown",
      "source": [
        "### Overview\n",
        "\n",
        "- In order to estimate the profitability of survived individual, we will use the concept of logistic regression and the dataset of titanic Train."
      ],
      "metadata": {
        "id": "VJkhkJDeg2KU"
      },
      "id": "VJkhkJDeg2KU"
    },
    {
      "cell_type": "markdown",
      "id": "ceeDAp4Wmy7z",
      "metadata": {
        "id": "ceeDAp4Wmy7z"
      },
      "source": [
        "# 1. Data Understanding"
      ]
    },
    {
      "cell_type": "markdown",
      "id": "WiRQDznHw-KN",
      "metadata": {
        "id": "WiRQDznHw-KN"
      },
      "source": [
        "### Importing libraries\n",
        "We will be using: NumPy, pandas,matplotlib, seaborn,sklearn."
      ]
    },
    {
      "cell_type": "code",
      "execution_count": 65,
      "id": "3be94bf9",
      "metadata": {
        "id": "3be94bf9"
      },
      "outputs": [],
      "source": [
        "import numpy as np # for performing mathematical calculations behind ML algorithms\n",
        "import matplotlib.pyplot as plt # for visualization\n",
        "import pandas as pd # for handling and cleaning the df_company\n",
        "import seaborn as sns # for visualization\n",
        "import sklearn # for model evaluation and development"
      ]
    },
    {
      "cell_type": "markdown",
      "id": "JVW4KysXxMfr",
      "metadata": {
        "id": "JVW4KysXxMfr"
      },
      "source": [
        "###Importing the dataset\n",
        "\n",
        "\n",
        "As we have downloaded a “titanic_train.csv” file, we shall be using Pandas to store that data in a variable.\n",
        "\n",
        "# **Explaining Dataset**\n",
        "The Titanic dataset includes data on the people who boarded the ship during its tragic voyage. Many data analysis and machine learning projects have made use of the dataset, which is from the Kaggle website.This dataset is commonly used in data analysis and machine learning projects because it provides a rich set of variables that can be used to build models to predict survival. Additionally, the dataset is relatively small in size, making it easy to work with and suitable for educational purposes.\n",
        "\n",
        "Variable\tDefinition\tKey\n",
        "\n",
        "1. Survived: A binary variable that indicates whether the passenger survived (1) or not (0).\n",
        "2. Pclass: The class of the passenger's ticket. The classes were 1st, 2nd, and 3rd.\n",
        "3. Name: The name of the passenger.\n",
        "4. Sex: The gender of the passenger (male or female).\n",
        "5. Age: The age of the passenger.\n",
        "6. SibSp: The number of siblings or spouses the passenger had on board the Titanic.\n",
        "7. Parch: The number of parents or children the passenger had on board the Titanic.\n",
        "8. Ticket: The ticket number of the passenger.\n",
        "9. Fare: The fare paid by the passenger.\n",
        "10. Cabin: The cabin number of the passenger.\n",
        "11. Embarked: The port where the passenger boarded the Titanic (C = Cherbourg, Q = Queenstown, S = Southampton)."
      ]
    },
    {
      "cell_type": "code",
      "execution_count": 66,
      "id": "fdhm9OGf3j1r",
      "metadata": {
        "colab": {
          "base_uri": "https://localhost:8080/"
        },
        "id": "fdhm9OGf3j1r",
        "outputId": "0d2b4daa-e8a9-486e-c6e1-d269147311db"
      },
      "outputs": [
        {
          "output_type": "stream",
          "name": "stdout",
          "text": [
            "Drive already mounted at /content/drive; to attempt to forcibly remount, call drive.mount(\"/content/drive\", force_remount=True).\n"
          ]
        }
      ],
      "source": [
        "from google.colab import drive # used to mount Google Drive in Google Colab\n",
        "drive.mount('/content/drive')"
      ]
    },
    {
      "cell_type": "code",
      "execution_count": 67,
      "id": "4cSAdq1s4Gpx",
      "metadata": {
        "id": "4cSAdq1s4Gpx"
      },
      "outputs": [],
      "source": [
        "df_titanicTrain = pd.read_csv('/content/drive/MyDrive/Colab Notebooks/ProtfolioAI/13classification.csv') #loads it into a pandas dataframe named "
      ]
    },
    {
      "cell_type": "code",
      "execution_count": 68,
      "id": "Lmoxyvyv74yv",
      "metadata": {
        "colab": {
          "base_uri": "https://localhost:8080/"
        },
        "id": "Lmoxyvyv74yv",
        "outputId": "9651f2d3-5d43-4119-b3b6-8d1cee0f631a"
      },
      "outputs": [
        {
          "output_type": "execute_result",
          "data": {
            "text/plain": [
              "891"
            ]
          },
          "metadata": {},
          "execution_count": 68
        }
      ],
      "source": [
        "len(df_titanicTrain) #numdber of entries"
      ]
    },
    {
      "cell_type": "markdown",
      "id": "f8pxmtFI8I1k",
      "metadata": {
        "id": "f8pxmtFI8I1k"
      },
      "source": [
        "**View the data using head function which returns top rows**"
      ]
    },
    {
      "cell_type": "code",
      "execution_count": 69,
      "id": "a24caecb",
      "metadata": {
        "colab": {
          "base_uri": "https://localhost:8080/"
        },
        "id": "a24caecb",
        "outputId": "9f493bfe-990a-4885-b721-6ea4f5a91f94"
      },
      "outputs": [
        {
          "output_type": "stream",
          "name": "stdout",
          "text": [
            "<class 'pandas.core.frame.DataFrame'>\n",
            "RangeIndex: 891 entries, 0 to 890\n",
            "Data columns (total 9 columns):\n",
            " #   Column    Non-Null Count  Dtype  \n",
            "---  ------    --------------  -----  \n",
            " 0   Pclass    891 non-null    int64  \n",
            " 1   Sex       891 non-null    object \n",
            " 2   Age       714 non-null    float64\n",
            " 3   SibSp     891 non-null    int64  \n",
            " 4   Parch     891 non-null    int64  \n",
            " 5   Fare      891 non-null    float64\n",
            " 6   Cabin     204 non-null    object \n",
            " 7   Embarked  889 non-null    object \n",
            " 8   Survived  891 non-null    int64  \n",
            "dtypes: float64(2), int64(4), object(3)\n",
            "memory usage: 62.8+ KB\n"
          ]
        }
      ],
      "source": [
        "df_titanicTrain.info() #info of dataset"
      ]
    },
    {
      "cell_type": "code",
      "execution_count": 70,
      "id": "469d4b0e",
      "metadata": {
        "colab": {
          "base_uri": "https://localhost:8080/",
          "height": 206
        },
        "id": "469d4b0e",
        "outputId": "f26e0d84-75d1-4c2f-de69-657133c1aa19"
      },
      "outputs": [
        {
          "output_type": "execute_result",
          "data": {
            "text/plain": [
              "   Pclass     Sex   Age  SibSp  Parch     Fare Cabin Embarked  Survived\n",
              "0       3    male  22.0      1      0   7.2500   NaN        S         0\n",
              "1       1  female  38.0      1      0  71.2833   C85        C         1\n",
              "2       3  female  26.0      0      0   7.9250   NaN        S         1\n",
              "3       1  female  35.0      1      0  53.1000  C123        S         1\n",
              "4       3    male  35.0      0      0   8.0500   NaN        S         0"
            ],
            "text/html": [
              "\n",
              "  <div id=\"df-e25b43a0-6eec-43ae-b344-b51f393d98cd\">\n",
              "    <div class=\"colab-df-container\">\n",
              "      <div>\n",
              "<style scoped>\n",
              "    .dataframe tbody tr th:only-of-type {\n",
              "        vertical-align: middle;\n",
              "    }\n",
              "\n",
              "    .dataframe tbody tr th {\n",
              "        vertical-align: top;\n",
              "    }\n",
              "\n",
              "    .dataframe thead th {\n",
              "        text-align: right;\n",
              "    }\n",
              "</style>\n",
              "<table border=\"1\" class=\"dataframe\">\n",
              "  <thead>\n",
              "    <tr style=\"text-align: right;\">\n",
              "      <th></th>\n",
              "      <th>Pclass</th>\n",
              "      <th>Sex</th>\n",
              "      <th>Age</th>\n",
              "      <th>SibSp</th>\n",
              "      <th>Parch</th>\n",
              "      <th>Fare</th>\n",
              "      <th>Cabin</th>\n",
              "      <th>Embarked</th>\n",
              "      <th>Survived</th>\n",
              "    </tr>\n",
              "  </thead>\n",
              "  <tbody>\n",
              "    <tr>\n",
              "      <th>0</th>\n",
              "      <td>3</td>\n",
              "      <td>male</td>\n",
              "      <td>22.0</td>\n",
              "      <td>1</td>\n",
              "      <td>0</td>\n",
              "      <td>7.2500</td>\n",
              "      <td>NaN</td>\n",
              "      <td>S</td>\n",
              "      <td>0</td>\n",
              "    </tr>\n",
              "    <tr>\n",
              "      <th>1</th>\n",
              "      <td>1</td>\n",
              "      <td>female</td>\n",
              "      <td>38.0</td>\n",
              "      <td>1</td>\n",
              "      <td>0</td>\n",
              "      <td>71.2833</td>\n",
              "      <td>C85</td>\n",
              "      <td>C</td>\n",
              "      <td>1</td>\n",
              "    </tr>\n",
              "    <tr>\n",
              "      <th>2</th>\n",
              "      <td>3</td>\n",
              "      <td>female</td>\n",
              "      <td>26.0</td>\n",
              "      <td>0</td>\n",
              "      <td>0</td>\n",
              "      <td>7.9250</td>\n",
              "      <td>NaN</td>\n",
              "      <td>S</td>\n",
              "      <td>1</td>\n",
              "    </tr>\n",
              "    <tr>\n",
              "      <th>3</th>\n",
              "      <td>1</td>\n",
              "      <td>female</td>\n",
              "      <td>35.0</td>\n",
              "      <td>1</td>\n",
              "      <td>0</td>\n",
              "      <td>53.1000</td>\n",
              "      <td>C123</td>\n",
              "      <td>S</td>\n",
              "      <td>1</td>\n",
              "    </tr>\n",
              "    <tr>\n",
              "      <th>4</th>\n",
              "      <td>3</td>\n",
              "      <td>male</td>\n",
              "      <td>35.0</td>\n",
              "      <td>0</td>\n",
              "      <td>0</td>\n",
              "      <td>8.0500</td>\n",
              "      <td>NaN</td>\n",
              "      <td>S</td>\n",
              "      <td>0</td>\n",
              "    </tr>\n",
              "  </tbody>\n",
              "</table>\n",
              "</div>\n",
              "      <button class=\"colab-df-convert\" onclick=\"convertToInteractive('df-e25b43a0-6eec-43ae-b344-b51f393d98cd')\"\n",
              "              title=\"Convert this dataframe to an interactive table.\"\n",
              "              style=\"display:none;\">\n",
              "        \n",
              "  <svg xmlns=\"http://www.w3.org/2000/svg\" height=\"24px\"viewBox=\"0 0 24 24\"\n",
              "       width=\"24px\">\n",
              "    <path d=\"M0 0h24v24H0V0z\" fill=\"none\"/>\n",
              "    <path d=\"M18.56 5.44l.94 2.06.94-2.06 2.06-.94-2.06-.94-.94-2.06-.94 2.06-2.06.94zm-11 1L8.5 8.5l.94-2.06 2.06-.94-2.06-.94L8.5 2.5l-.94 2.06-2.06.94zm10 10l.94 2.06.94-2.06 2.06-.94-2.06-.94-.94-2.06-.94 2.06-2.06.94z\"/><path d=\"M17.41 7.96l-1.37-1.37c-.4-.4-.92-.59-1.43-.59-.52 0-1.04.2-1.43.59L10.3 9.45l-7.72 7.72c-.78.78-.78 2.05 0 2.83L4 21.41c.39.39.9.59 1.41.59.51 0 1.02-.2 1.41-.59l7.78-7.78 2.81-2.81c.8-.78.8-2.07 0-2.86zM5.41 20L4 18.59l7.72-7.72 1.47 1.35L5.41 20z\"/>\n",
              "  </svg>\n",
              "      </button>\n",
              "      \n",
              "  <style>\n",
              "    .colab-df-container {\n",
              "      display:flex;\n",
              "      flex-wrap:wrap;\n",
              "      gap: 12px;\n",
              "    }\n",
              "\n",
              "    .colab-df-convert {\n",
              "      background-color: #E8F0FE;\n",
              "      border: none;\n",
              "      border-radius: 50%;\n",
              "      cursor: pointer;\n",
              "      display: none;\n",
              "      fill: #1967D2;\n",
              "      height: 32px;\n",
              "      padding: 0 0 0 0;\n",
              "      width: 32px;\n",
              "    }\n",
              "\n",
              "    .colab-df-convert:hover {\n",
              "      background-color: #E2EBFA;\n",
              "      box-shadow: 0px 1px 2px rgba(60, 64, 67, 0.3), 0px 1px 3px 1px rgba(60, 64, 67, 0.15);\n",
              "      fill: #174EA6;\n",
              "    }\n",
              "\n",
              "    [theme=dark] .colab-df-convert {\n",
              "      background-color: #3B4455;\n",
              "      fill: #D2E3FC;\n",
              "    }\n",
              "\n",
              "    [theme=dark] .colab-df-convert:hover {\n",
              "      background-color: #434B5C;\n",
              "      box-shadow: 0px 1px 3px 1px rgba(0, 0, 0, 0.15);\n",
              "      filter: drop-shadow(0px 1px 2px rgba(0, 0, 0, 0.3));\n",
              "      fill: #FFFFFF;\n",
              "    }\n",
              "  </style>\n",
              "\n",
              "      <script>\n",
              "        const buttonEl =\n",
              "          document.querySelector('#df-e25b43a0-6eec-43ae-b344-b51f393d98cd button.colab-df-convert');\n",
              "        buttonEl.style.display =\n",
              "          google.colab.kernel.accessAllowed ? 'block' : 'none';\n",
              "\n",
              "        async function convertToInteractive(key) {\n",
              "          const element = document.querySelector('#df-e25b43a0-6eec-43ae-b344-b51f393d98cd');\n",
              "          const dataTable =\n",
              "            await google.colab.kernel.invokeFunction('convertToInteractive',\n",
              "                                                     [key], {});\n",
              "          if (!dataTable) return;\n",
              "\n",
              "          const docLinkHtml = 'Like what you see? Visit the ' +\n",
              "            '<a target=\"_blank\" href=https://colab.research.google.com/notebooks/data_table.ipynb>data table notebook</a>'\n",
              "            + ' to learn more about interactive tables.';\n",
              "          element.innerHTML = '';\n",
              "          dataTable['output_type'] = 'display_data';\n",
              "          await google.colab.output.renderOutput(dataTable, element);\n",
              "          const docLink = document.createElement('div');\n",
              "          docLink.innerHTML = docLinkHtml;\n",
              "          element.appendChild(docLink);\n",
              "        }\n",
              "      </script>\n",
              "    </div>\n",
              "  </div>\n",
              "  "
            ]
          },
          "metadata": {},
          "execution_count": 70
        }
      ],
      "source": [
        "df_titanicTrain.head()# View the data using head function which returns top rows"
      ]
    },
    {
      "cell_type": "markdown",
      "id": "ufSoylc6x0k0",
      "metadata": {
        "id": "ufSoylc6x0k0"
      },
      "source": [
        "The meaning of the values (SibSp, Parch) can be found on the website from which we have downloaded the dataset.\n",
        "\n",
        "We have learned from Kaggle while downloading the data set, that the data has 891 rows and 12 columns.\n",
        "\n",
        "Now, let’s check how many cells are left empty in the table."
      ]
    },
    {
      "cell_type": "code",
      "execution_count": 71,
      "id": "95Mr9MwK9wUa",
      "metadata": {
        "colab": {
          "base_uri": "https://localhost:8080/",
          "height": 206
        },
        "id": "95Mr9MwK9wUa",
        "outputId": "0241a5b9-6e5e-4502-92d5-ba6801611bee"
      },
      "outputs": [
        {
          "output_type": "execute_result",
          "data": {
            "text/plain": [
              "     Pclass     Sex   Age  SibSp  Parch     Fare Cabin Embarked  Survived\n",
              "223       3    male   NaN      0      0   7.8958   NaN        S         0\n",
              "713       3    male  29.0      0      0   9.4833   NaN        S         0\n",
              "816       3  female  23.0      0      0   7.9250   NaN        S         0\n",
              "289       3  female  22.0      0      0   7.7500   NaN        Q         1\n",
              "137       1    male  37.0      1      0  53.1000  C123        S         0"
            ],
            "text/html": [
              "\n",
              "  <div id=\"df-59959307-c0d8-4fd1-994a-ff13614d467a\">\n",
              "    <div class=\"colab-df-container\">\n",
              "      <div>\n",
              "<style scoped>\n",
              "    .dataframe tbody tr th:only-of-type {\n",
              "        vertical-align: middle;\n",
              "    }\n",
              "\n",
              "    .dataframe tbody tr th {\n",
              "        vertical-align: top;\n",
              "    }\n",
              "\n",
              "    .dataframe thead th {\n",
              "        text-align: right;\n",
              "    }\n",
              "</style>\n",
              "<table border=\"1\" class=\"dataframe\">\n",
              "  <thead>\n",
              "    <tr style=\"text-align: right;\">\n",
              "      <th></th>\n",
              "      <th>Pclass</th>\n",
              "      <th>Sex</th>\n",
              "      <th>Age</th>\n",
              "      <th>SibSp</th>\n",
              "      <th>Parch</th>\n",
              "      <th>Fare</th>\n",
              "      <th>Cabin</th>\n",
              "      <th>Embarked</th>\n",
              "      <th>Survived</th>\n",
              "    </tr>\n",
              "  </thead>\n",
              "  <tbody>\n",
              "    <tr>\n",
              "      <th>223</th>\n",
              "      <td>3</td>\n",
              "      <td>male</td>\n",
              "      <td>NaN</td>\n",
              "      <td>0</td>\n",
              "      <td>0</td>\n",
              "      <td>7.8958</td>\n",
              "      <td>NaN</td>\n",
              "      <td>S</td>\n",
              "      <td>0</td>\n",
              "    </tr>\n",
              "    <tr>\n",
              "      <th>713</th>\n",
              "      <td>3</td>\n",
              "      <td>male</td>\n",
              "      <td>29.0</td>\n",
              "      <td>0</td>\n",
              "      <td>0</td>\n",
              "      <td>9.4833</td>\n",
              "      <td>NaN</td>\n",
              "      <td>S</td>\n",
              "      <td>0</td>\n",
              "    </tr>\n",
              "    <tr>\n",
              "      <th>816</th>\n",
              "      <td>3</td>\n",
              "      <td>female</td>\n",
              "      <td>23.0</td>\n",
              "      <td>0</td>\n",
              "      <td>0</td>\n",
              "      <td>7.9250</td>\n",
              "      <td>NaN</td>\n",
              "      <td>S</td>\n",
              "      <td>0</td>\n",
              "    </tr>\n",
              "    <tr>\n",
              "      <th>289</th>\n",
              "      <td>3</td>\n",
              "      <td>female</td>\n",
              "      <td>22.0</td>\n",
              "      <td>0</td>\n",
              "      <td>0</td>\n",
              "      <td>7.7500</td>\n",
              "      <td>NaN</td>\n",
              "      <td>Q</td>\n",
              "      <td>1</td>\n",
              "    </tr>\n",
              "    <tr>\n",
              "      <th>137</th>\n",
              "      <td>1</td>\n",
              "      <td>male</td>\n",
              "      <td>37.0</td>\n",
              "      <td>1</td>\n",
              "      <td>0</td>\n",
              "      <td>53.1000</td>\n",
              "      <td>C123</td>\n",
              "      <td>S</td>\n",
              "      <td>0</td>\n",
              "    </tr>\n",
              "  </tbody>\n",
              "</table>\n",
              "</div>\n",
              "      <button class=\"colab-df-convert\" onclick=\"convertToInteractive('df-59959307-c0d8-4fd1-994a-ff13614d467a')\"\n",
              "              title=\"Convert this dataframe to an interactive table.\"\n",
              "              style=\"display:none;\">\n",
              "        \n",
              "  <svg xmlns=\"http://www.w3.org/2000/svg\" height=\"24px\"viewBox=\"0 0 24 24\"\n",
              "       width=\"24px\">\n",
              "    <path d=\"M0 0h24v24H0V0z\" fill=\"none\"/>\n",
              "    <path d=\"M18.56 5.44l.94 2.06.94-2.06 2.06-.94-2.06-.94-.94-2.06-.94 2.06-2.06.94zm-11 1L8.5 8.5l.94-2.06 2.06-.94-2.06-.94L8.5 2.5l-.94 2.06-2.06.94zm10 10l.94 2.06.94-2.06 2.06-.94-2.06-.94-.94-2.06-.94 2.06-2.06.94z\"/><path d=\"M17.41 7.96l-1.37-1.37c-.4-.4-.92-.59-1.43-.59-.52 0-1.04.2-1.43.59L10.3 9.45l-7.72 7.72c-.78.78-.78 2.05 0 2.83L4 21.41c.39.39.9.59 1.41.59.51 0 1.02-.2 1.41-.59l7.78-7.78 2.81-2.81c.8-.78.8-2.07 0-2.86zM5.41 20L4 18.59l7.72-7.72 1.47 1.35L5.41 20z\"/>\n",
              "  </svg>\n",
              "      </button>\n",
              "      \n",
              "  <style>\n",
              "    .colab-df-container {\n",
              "      display:flex;\n",
              "      flex-wrap:wrap;\n",
              "      gap: 12px;\n",
              "    }\n",
              "\n",
              "    .colab-df-convert {\n",
              "      background-color: #E8F0FE;\n",
              "      border: none;\n",
              "      border-radius: 50%;\n",
              "      cursor: pointer;\n",
              "      display: none;\n",
              "      fill: #1967D2;\n",
              "      height: 32px;\n",
              "      padding: 0 0 0 0;\n",
              "      width: 32px;\n",
              "    }\n",
              "\n",
              "    .colab-df-convert:hover {\n",
              "      background-color: #E2EBFA;\n",
              "      box-shadow: 0px 1px 2px rgba(60, 64, 67, 0.3), 0px 1px 3px 1px rgba(60, 64, 67, 0.15);\n",
              "      fill: #174EA6;\n",
              "    }\n",
              "\n",
              "    [theme=dark] .colab-df-convert {\n",
              "      background-color: #3B4455;\n",
              "      fill: #D2E3FC;\n",
              "    }\n",
              "\n",
              "    [theme=dark] .colab-df-convert:hover {\n",
              "      background-color: #434B5C;\n",
              "      box-shadow: 0px 1px 3px 1px rgba(0, 0, 0, 0.15);\n",
              "      filter: drop-shadow(0px 1px 2px rgba(0, 0, 0, 0.3));\n",
              "      fill: #FFFFFF;\n",
              "    }\n",
              "  </style>\n",
              "\n",
              "      <script>\n",
              "        const buttonEl =\n",
              "          document.querySelector('#df-59959307-c0d8-4fd1-994a-ff13614d467a button.colab-df-convert');\n",
              "        buttonEl.style.display =\n",
              "          google.colab.kernel.accessAllowed ? 'block' : 'none';\n",
              "\n",
              "        async function convertToInteractive(key) {\n",
              "          const element = document.querySelector('#df-59959307-c0d8-4fd1-994a-ff13614d467a');\n",
              "          const dataTable =\n",
              "            await google.colab.kernel.invokeFunction('convertToInteractive',\n",
              "                                                     [key], {});\n",
              "          if (!dataTable) return;\n",
              "\n",
              "          const docLinkHtml = 'Like what you see? Visit the ' +\n",
              "            '<a target=\"_blank\" href=https://colab.research.google.com/notebooks/data_table.ipynb>data table notebook</a>'\n",
              "            + ' to learn more about interactive tables.';\n",
              "          element.innerHTML = '';\n",
              "          dataTable['output_type'] = 'display_data';\n",
              "          await google.colab.output.renderOutput(dataTable, element);\n",
              "          const docLink = document.createElement('div');\n",
              "          docLink.innerHTML = docLinkHtml;\n",
              "          element.appendChild(docLink);\n",
              "        }\n",
              "      </script>\n",
              "    </div>\n",
              "  </div>\n",
              "  "
            ]
          },
          "metadata": {},
          "execution_count": 71
        }
      ],
      "source": [
        "df_titanicTrain.sample(5) #display a random sample of 5 rows"
      ]
    },
    {
      "cell_type": "code",
      "execution_count": 72,
      "id": "Jyv8gzw-9wUf",
      "metadata": {
        "colab": {
          "base_uri": "https://localhost:8080/"
        },
        "id": "Jyv8gzw-9wUf",
        "outputId": "52e341ee-17de-4517-b64e-d664adda86c8"
      },
      "outputs": [
        {
          "output_type": "execute_result",
          "data": {
            "text/plain": [
              "RangeIndex(start=0, stop=891, step=1)"
            ]
          },
          "metadata": {},
          "execution_count": 72
        }
      ],
      "source": [
        "df_titanicTrain.index # uniquely identify each row in the dataframe."
      ]
    },
    {
      "cell_type": "code",
      "execution_count": 73,
      "id": "j4uqoViY9wUn",
      "metadata": {
        "colab": {
          "base_uri": "https://localhost:8080/"
        },
        "id": "j4uqoViY9wUn",
        "outputId": "ba181112-ec3d-4032-eba4-f4083a3d1cce"
      },
      "outputs": [
        {
          "output_type": "execute_result",
          "data": {
            "text/plain": [
              "Pclass        int64\n",
              "Sex          object\n",
              "Age         float64\n",
              "SibSp         int64\n",
              "Parch         int64\n",
              "Fare        float64\n",
              "Cabin        object\n",
              "Embarked     object\n",
              "Survived      int64\n",
              "dtype: object"
            ]
          },
          "metadata": {},
          "execution_count": 73
        }
      ],
      "source": [
        "df_titanicTrain.dtypes"
      ]
    },
    {
      "cell_type": "code",
      "execution_count": 74,
      "id": "6pN__2Uj9wUq",
      "metadata": {
        "colab": {
          "base_uri": "https://localhost:8080/",
          "height": 300
        },
        "id": "6pN__2Uj9wUq",
        "outputId": "7b7ebb85-d567-4c11-b8f0-1f8d8bd72eaf"
      },
      "outputs": [
        {
          "output_type": "execute_result",
          "data": {
            "text/plain": [
              "           Pclass         Age       SibSp       Parch        Fare    Survived\n",
              "count  891.000000  714.000000  891.000000  891.000000  891.000000  891.000000\n",
              "mean     2.308642   29.699118    0.523008    0.381594   32.204208    0.383838\n",
              "std      0.836071   14.526497    1.102743    0.806057   49.693429    0.486592\n",
              "min      1.000000    0.420000    0.000000    0.000000    0.000000    0.000000\n",
              "25%      2.000000   20.125000    0.000000    0.000000    7.910400    0.000000\n",
              "50%      3.000000   28.000000    0.000000    0.000000   14.454200    0.000000\n",
              "75%      3.000000   38.000000    1.000000    0.000000   31.000000    1.000000\n",
              "max      3.000000   80.000000    8.000000    6.000000  512.329200    1.000000"
            ],
            "text/html": [
              "\n",
              "  <div id=\"df-dccc027a-f3f3-4b9e-b9e9-a57a9f758f63\">\n",
              "    <div class=\"colab-df-container\">\n",
              "      <div>\n",
              "<style scoped>\n",
              "    .dataframe tbody tr th:only-of-type {\n",
              "        vertical-align: middle;\n",
              "    }\n",
              "\n",
              "    .dataframe tbody tr th {\n",
              "        vertical-align: top;\n",
              "    }\n",
              "\n",
              "    .dataframe thead th {\n",
              "        text-align: right;\n",
              "    }\n",
              "</style>\n",
              "<table border=\"1\" class=\"dataframe\">\n",
              "  <thead>\n",
              "    <tr style=\"text-align: right;\">\n",
              "      <th></th>\n",
              "      <th>Pclass</th>\n",
              "      <th>Age</th>\n",
              "      <th>SibSp</th>\n",
              "      <th>Parch</th>\n",
              "      <th>Fare</th>\n",
              "      <th>Survived</th>\n",
              "    </tr>\n",
              "  </thead>\n",
              "  <tbody>\n",
              "    <tr>\n",
              "      <th>count</th>\n",
              "      <td>891.000000</td>\n",
              "      <td>714.000000</td>\n",
              "      <td>891.000000</td>\n",
              "      <td>891.000000</td>\n",
              "      <td>891.000000</td>\n",
              "      <td>891.000000</td>\n",
              "    </tr>\n",
              "    <tr>\n",
              "      <th>mean</th>\n",
              "      <td>2.308642</td>\n",
              "      <td>29.699118</td>\n",
              "      <td>0.523008</td>\n",
              "      <td>0.381594</td>\n",
              "      <td>32.204208</td>\n",
              "      <td>0.383838</td>\n",
              "    </tr>\n",
              "    <tr>\n",
              "      <th>std</th>\n",
              "      <td>0.836071</td>\n",
              "      <td>14.526497</td>\n",
              "      <td>1.102743</td>\n",
              "      <td>0.806057</td>\n",
              "      <td>49.693429</td>\n",
              "      <td>0.486592</td>\n",
              "    </tr>\n",
              "    <tr>\n",
              "      <th>min</th>\n",
              "      <td>1.000000</td>\n",
              "      <td>0.420000</td>\n",
              "      <td>0.000000</td>\n",
              "      <td>0.000000</td>\n",
              "      <td>0.000000</td>\n",
              "      <td>0.000000</td>\n",
              "    </tr>\n",
              "    <tr>\n",
              "      <th>25%</th>\n",
              "      <td>2.000000</td>\n",
              "      <td>20.125000</td>\n",
              "      <td>0.000000</td>\n",
              "      <td>0.000000</td>\n",
              "      <td>7.910400</td>\n",
              "      <td>0.000000</td>\n",
              "    </tr>\n",
              "    <tr>\n",
              "      <th>50%</th>\n",
              "      <td>3.000000</td>\n",
              "      <td>28.000000</td>\n",
              "      <td>0.000000</td>\n",
              "      <td>0.000000</td>\n",
              "      <td>14.454200</td>\n",
              "      <td>0.000000</td>\n",
              "    </tr>\n",
              "    <tr>\n",
              "      <th>75%</th>\n",
              "      <td>3.000000</td>\n",
              "      <td>38.000000</td>\n",
              "      <td>1.000000</td>\n",
              "      <td>0.000000</td>\n",
              "      <td>31.000000</td>\n",
              "      <td>1.000000</td>\n",
              "    </tr>\n",
              "    <tr>\n",
              "      <th>max</th>\n",
              "      <td>3.000000</td>\n",
              "      <td>80.000000</td>\n",
              "      <td>8.000000</td>\n",
              "      <td>6.000000</td>\n",
              "      <td>512.329200</td>\n",
              "      <td>1.000000</td>\n",
              "    </tr>\n",
              "  </tbody>\n",
              "</table>\n",
              "</div>\n",
              "      <button class=\"colab-df-convert\" onclick=\"convertToInteractive('df-dccc027a-f3f3-4b9e-b9e9-a57a9f758f63')\"\n",
              "              title=\"Convert this dataframe to an interactive table.\"\n",
              "              style=\"display:none;\">\n",
              "        \n",
              "  <svg xmlns=\"http://www.w3.org/2000/svg\" height=\"24px\"viewBox=\"0 0 24 24\"\n",
              "       width=\"24px\">\n",
              "    <path d=\"M0 0h24v24H0V0z\" fill=\"none\"/>\n",
              "    <path d=\"M18.56 5.44l.94 2.06.94-2.06 2.06-.94-2.06-.94-.94-2.06-.94 2.06-2.06.94zm-11 1L8.5 8.5l.94-2.06 2.06-.94-2.06-.94L8.5 2.5l-.94 2.06-2.06.94zm10 10l.94 2.06.94-2.06 2.06-.94-2.06-.94-.94-2.06-.94 2.06-2.06.94z\"/><path d=\"M17.41 7.96l-1.37-1.37c-.4-.4-.92-.59-1.43-.59-.52 0-1.04.2-1.43.59L10.3 9.45l-7.72 7.72c-.78.78-.78 2.05 0 2.83L4 21.41c.39.39.9.59 1.41.59.51 0 1.02-.2 1.41-.59l7.78-7.78 2.81-2.81c.8-.78.8-2.07 0-2.86zM5.41 20L4 18.59l7.72-7.72 1.47 1.35L5.41 20z\"/>\n",
              "  </svg>\n",
              "      </button>\n",
              "      \n",
              "  <style>\n",
              "    .colab-df-container {\n",
              "      display:flex;\n",
              "      flex-wrap:wrap;\n",
              "      gap: 12px;\n",
              "    }\n",
              "\n",
              "    .colab-df-convert {\n",
              "      background-color: #E8F0FE;\n",
              "      border: none;\n",
              "      border-radius: 50%;\n",
              "      cursor: pointer;\n",
              "      display: none;\n",
              "      fill: #1967D2;\n",
              "      height: 32px;\n",
              "      padding: 0 0 0 0;\n",
              "      width: 32px;\n",
              "    }\n",
              "\n",
              "    .colab-df-convert:hover {\n",
              "      background-color: #E2EBFA;\n",
              "      box-shadow: 0px 1px 2px rgba(60, 64, 67, 0.3), 0px 1px 3px 1px rgba(60, 64, 67, 0.15);\n",
              "      fill: #174EA6;\n",
              "    }\n",
              "\n",
              "    [theme=dark] .colab-df-convert {\n",
              "      background-color: #3B4455;\n",
              "      fill: #D2E3FC;\n",
              "    }\n",
              "\n",
              "    [theme=dark] .colab-df-convert:hover {\n",
              "      background-color: #434B5C;\n",
              "      box-shadow: 0px 1px 3px 1px rgba(0, 0, 0, 0.15);\n",
              "      filter: drop-shadow(0px 1px 2px rgba(0, 0, 0, 0.3));\n",
              "      fill: #FFFFFF;\n",
              "    }\n",
              "  </style>\n",
              "\n",
              "      <script>\n",
              "        const buttonEl =\n",
              "          document.querySelector('#df-dccc027a-f3f3-4b9e-b9e9-a57a9f758f63 button.colab-df-convert');\n",
              "        buttonEl.style.display =\n",
              "          google.colab.kernel.accessAllowed ? 'block' : 'none';\n",
              "\n",
              "        async function convertToInteractive(key) {\n",
              "          const element = document.querySelector('#df-dccc027a-f3f3-4b9e-b9e9-a57a9f758f63');\n",
              "          const dataTable =\n",
              "            await google.colab.kernel.invokeFunction('convertToInteractive',\n",
              "                                                     [key], {});\n",
              "          if (!dataTable) return;\n",
              "\n",
              "          const docLinkHtml = 'Like what you see? Visit the ' +\n",
              "            '<a target=\"_blank\" href=https://colab.research.google.com/notebooks/data_table.ipynb>data table notebook</a>'\n",
              "            + ' to learn more about interactive tables.';\n",
              "          element.innerHTML = '';\n",
              "          dataTable['output_type'] = 'display_data';\n",
              "          await google.colab.output.renderOutput(dataTable, element);\n",
              "          const docLink = document.createElement('div');\n",
              "          docLink.innerHTML = docLinkHtml;\n",
              "          element.appendChild(docLink);\n",
              "        }\n",
              "      </script>\n",
              "    </div>\n",
              "  </div>\n",
              "  "
            ]
          },
          "metadata": {},
          "execution_count": 74
        }
      ],
      "source": [
        "df_titanicTrain.describe()"
      ]
    },
    {
      "cell_type": "markdown",
      "id": "e3876fe8",
      "metadata": {
        "id": "e3876fe8"
      },
      "source": [
        "# 2. Exploratory Data Analysis\n",
        "\n"
      ]
    },
    {
      "cell_type": "markdown",
      "id": "fec0ad3e",
      "metadata": {
        "id": "fec0ad3e"
      },
      "source": [
        "<p>We found out a lot of the Cabin data is missing, and a significant Age data is missing.</p>\n",
        "<p>We might need to remove the entire cabin column as the imbalance might lead to over/under sampling</p>"
      ]
    },
    {
      "cell_type": "markdown",
      "id": "eec351b2",
      "metadata": {
        "id": "eec351b2"
      },
      "source": [
        "<h3>Survived</h3>"
      ]
    },
    {
      "cell_type": "code",
      "execution_count": 75,
      "id": "9415b392",
      "metadata": {
        "colab": {
          "base_uri": "https://localhost:8080/",
          "height": 297
        },
        "id": "9415b392",
        "outputId": "64c99456-cb18-4674-ca1f-cb8079979df4"
      },
      "outputs": [
        {
          "output_type": "execute_result",
          "data": {
            "text/plain": [
              "<matplotlib.axes._subplots.AxesSubplot at 0x7fb61cd518b0>"
            ]
          },
          "metadata": {},
          "execution_count": 75
        },
        {
          "output_type": "display_data",
          "data": {
            "text/plain": [
              "<Figure size 432x288 with 1 Axes>"
            ],
            "image/png": "[encoded data removed]"
          },
          "metadata": {
            "needs_background": "light"
          }
        }
      ],
      "source": [
        "\n",
        "sns.countplot(x='Survived',data=df_titanicTrain)#plotting  countplot"
      ]
    },
    {
      "cell_type": "markdown",
      "id": "e7d56132",
      "metadata": {
        "id": "e7d56132"
      },
      "source": [
        "<p>A quick plot count to glance the rough ratio of survivor and victim </p>\n",
        "    "
      ]
    },
    {
      "cell_type": "code",
      "execution_count": 76,
      "id": "e99d7a26",
      "metadata": {
        "colab": {
          "base_uri": "https://localhost:8080/",
          "height": 297
        },
        "id": "e99d7a26",
        "outputId": "c5bd9adf-e39e-4f43-befa-3bde13699b86"
      },
      "outputs": [
        {
          "output_type": "execute_result",
          "data": {
            "text/plain": [
              "<matplotlib.axes._subplots.AxesSubplot at 0x7fb61c0ab250>"
            ]
          },
          "metadata": {},
          "execution_count": 76
        },
        {
          "output_type": "display_data",
          "data": {
            "text/plain": [
              "<Figure size 432x288 with 1 Axes>"
            ],
            "image/png": "[encoded data removed]"
          },
          "metadata": {
            "needs_background": "light"
          }
        }
      ],
      "source": [
        "sns.countplot(x='Survived',data=df_titanicTrain, hue='Sex') # Plotting a countplot using the seaborn library\n",
        "# x = the categorical column 'Survived' from the dataframe 'df_titanicTrain'\n",
        "# data = the data source 'df_titanicTrain'\n",
        "# hue = the categorical column 'Sex' from the dataframe 'df_titanicTrain'"
      ]
    },
    {
      "cell_type": "markdown",
      "id": "4ZUMrrx7wFsO",
      "metadata": {
        "id": "4ZUMrrx7wFsO"
      },
      "source": [
        "**See age group of passengeres travelled **<br>\n",
        "Note: We will use displot method to see the histogram. However some records does not have age hence the method will throw an error. In order to avoid that we will use dropna method to eliminate null values from graph"
      ]
    },
    {
      "cell_type": "code",
      "execution_count": 77,
      "id": "RtYTMN-RwFsP",
      "metadata": {
        "id": "RtYTMN-RwFsP",
        "colab": {
          "base_uri": "https://localhost:8080/",
          "height": 423
        },
        "outputId": "b2e0f6df-eaa4-4bda-a95a-eb6464e4ba82"
      },
      "outputs": [
        {
          "output_type": "execute_result",
          "data": {
            "text/plain": [
              "     Pclass    Sex    Age  SibSp  Parch   Fare  Cabin  Embarked  Survived\n",
              "0     False  False  False  False  False  False   True     False     False\n",
              "1     False  False  False  False  False  False  False     False     False\n",
              "2     False  False  False  False  False  False   True     False     False\n",
              "3     False  False  False  False  False  False  False     False     False\n",
              "4     False  False  False  False  False  False   True     False     False\n",
              "..      ...    ...    ...    ...    ...    ...    ...       ...       ...\n",
              "886   False  False  False  False  False  False   True     False     False\n",
              "887   False  False  False  False  False  False  False     False     False\n",
              "888   False  False   True  False  False  False   True     False     False\n",
              "889   False  False  False  False  False  False  False     False     False\n",
              "890   False  False  False  False  False  False   True     False     False\n",
              "\n",
              "[891 rows x 9 columns]"
            ],
            "text/html": [
              "\n",
              "  <div id=\"df-4f9a7c7b-9b6a-40ed-ac28-178a193e74bc\">\n",
              "    <div class=\"colab-df-container\">\n",
              "      <div>\n",
              "<style scoped>\n",
              "    .dataframe tbody tr th:only-of-type {\n",
              "        vertical-align: middle;\n",
              "    }\n",
              "\n",
              "    .dataframe tbody tr th {\n",
              "        vertical-align: top;\n",
              "    }\n",
              "\n",
              "    .dataframe thead th {\n",
              "        text-align: right;\n",
              "    }\n",
              "</style>\n",
              "<table border=\"1\" class=\"dataframe\">\n",
              "  <thead>\n",
              "    <tr style=\"text-align: right;\">\n",
              "      <th></th>\n",
              "      <th>Pclass</th>\n",
              "      <th>Sex</th>\n",
              "      <th>Age</th>\n",
              "      <th>SibSp</th>\n",
              "      <th>Parch</th>\n",
              "      <th>Fare</th>\n",
              "      <th>Cabin</th>\n",
              "      <th>Embarked</th>\n",
              "      <th>Survived</th>\n",
              "    </tr>\n",
              "  </thead>\n",
              "  <tbody>\n",
              "    <tr>\n",
              "      <th>0</th>\n",
              "      <td>False</td>\n",
              "      <td>False</td>\n",
              "      <td>False</td>\n",
              "      <td>False</td>\n",
              "      <td>False</td>\n",
              "      <td>False</td>\n",
              "      <td>True</td>\n",
              "      <td>False</td>\n",
              "      <td>False</td>\n",
              "    </tr>\n",
              "    <tr>\n",
              "      <th>1</th>\n",
              "      <td>False</td>\n",
              "      <td>False</td>\n",
              "      <td>False</td>\n",
              "      <td>False</td>\n",
              "      <td>False</td>\n",
              "      <td>False</td>\n",
              "      <td>False</td>\n",
              "      <td>False</td>\n",
              "      <td>False</td>\n",
              "    </tr>\n",
              "    <tr>\n",
              "      <th>2</th>\n",
              "      <td>False</td>\n",
              "      <td>False</td>\n",
              "      <td>False</td>\n",
              "      <td>False</td>\n",
              "      <td>False</td>\n",
              "      <td>False</td>\n",
              "      <td>True</td>\n",
              "      <td>False</td>\n",
              "      <td>False</td>\n",
              "    </tr>\n",
              "    <tr>\n",
              "      <th>3</th>\n",
              "      <td>False</td>\n",
              "      <td>False</td>\n",
              "      <td>False</td>\n",
              "      <td>False</td>\n",
              "      <td>False</td>\n",
              "      <td>False</td>\n",
              "      <td>False</td>\n",
              "      <td>False</td>\n",
              "      <td>False</td>\n",
              "    </tr>\n",
              "    <tr>\n",
              "      <th>4</th>\n",
              "      <td>False</td>\n",
              "      <td>False</td>\n",
              "      <td>False</td>\n",
              "      <td>False</td>\n",
              "      <td>False</td>\n",
              "      <td>False</td>\n",
              "      <td>True</td>\n",
              "      <td>False</td>\n",
              "      <td>False</td>\n",
              "    </tr>\n",
              "    <tr>\n",
              "      <th>...</th>\n",
              "      <td>...</td>\n",
              "      <td>...</td>\n",
              "      <td>...</td>\n",
              "      <td>...</td>\n",
              "      <td>...</td>\n",
              "      <td>...</td>\n",
              "      <td>...</td>\n",
              "      <td>...</td>\n",
              "      <td>...</td>\n",
              "    </tr>\n",
              "    <tr>\n",
              "      <th>886</th>\n",
              "      <td>False</td>\n",
              "      <td>False</td>\n",
              "      <td>False</td>\n",
              "      <td>False</td>\n",
              "      <td>False</td>\n",
              "      <td>False</td>\n",
              "      <td>True</td>\n",
              "      <td>False</td>\n",
              "      <td>False</td>\n",
              "    </tr>\n",
              "    <tr>\n",
              "      <th>887</th>\n",
              "      <td>False</td>\n",
              "      <td>False</td>\n",
              "      <td>False</td>\n",
              "      <td>False</td>\n",
              "      <td>False</td>\n",
              "      <td>False</td>\n",
              "      <td>False</td>\n",
              "      <td>False</td>\n",
              "      <td>False</td>\n",
              "    </tr>\n",
              "    <tr>\n",
              "      <th>888</th>\n",
              "      <td>False</td>\n",
              "      <td>False</td>\n",
              "      <td>True</td>\n",
              "      <td>False</td>\n",
              "      <td>False</td>\n",
              "      <td>False</td>\n",
              "      <td>True</td>\n",
              "      <td>False</td>\n",
              "      <td>False</td>\n",
              "    </tr>\n",
              "    <tr>\n",
              "      <th>889</th>\n",
              "      <td>False</td>\n",
              "      <td>False</td>\n",
              "      <td>False</td>\n",
              "      <td>False</td>\n",
              "      <td>False</td>\n",
              "      <td>False</td>\n",
              "      <td>False</td>\n",
              "      <td>False</td>\n",
              "      <td>False</td>\n",
              "    </tr>\n",
              "    <tr>\n",
              "      <th>890</th>\n",
              "      <td>False</td>\n",
              "      <td>False</td>\n",
              "      <td>False</td>\n",
              "      <td>False</td>\n",
              "      <td>False</td>\n",
              "      <td>False</td>\n",
              "      <td>True</td>\n",
              "      <td>False</td>\n",
              "      <td>False</td>\n",
              "    </tr>\n",
              "  </tbody>\n",
              "</table>\n",
              "<p>891 rows × 9 columns</p>\n",
              "</div>\n",
              "      <button class=\"colab-df-convert\" onclick=\"convertToInteractive('df-4f9a7c7b-9b6a-40ed-ac28-178a193e74bc')\"\n",
              "              title=\"Convert this dataframe to an interactive table.\"\n",
              "              style=\"display:none;\">\n",
              "        \n",
              "  <svg xmlns=\"http://www.w3.org/2000/svg\" height=\"24px\"viewBox=\"0 0 24 24\"\n",
              "       width=\"24px\">\n",
              "    <path d=\"M0 0h24v24H0V0z\" fill=\"none\"/>\n",
              "    <path d=\"M18.56 5.44l.94 2.06.94-2.06 2.06-.94-2.06-.94-.94-2.06-.94 2.06-2.06.94zm-11 1L8.5 8.5l.94-2.06 2.06-.94-2.06-.94L8.5 2.5l-.94 2.06-2.06.94zm10 10l.94 2.06.94-2.06 2.06-.94-2.06-.94-.94-2.06-.94 2.06-2.06.94z\"/><path d=\"M17.41 7.96l-1.37-1.37c-.4-.4-.92-.59-1.43-.59-.52 0-1.04.2-1.43.59L10.3 9.45l-7.72 7.72c-.78.78-.78 2.05 0 2.83L4 21.41c.39.39.9.59 1.41.59.51 0 1.02-.2 1.41-.59l7.78-7.78 2.81-2.81c.8-.78.8-2.07 0-2.86zM5.41 20L4 18.59l7.72-7.72 1.47 1.35L5.41 20z\"/>\n",
              "  </svg>\n",
              "      </button>\n",
              "      \n",
              "  <style>\n",
              "    .colab-df-container {\n",
              "      display:flex;\n",
              "      flex-wrap:wrap;\n",
              "      gap: 12px;\n",
              "    }\n",
              "\n",
              "    .colab-df-convert {\n",
              "      background-color: #E8F0FE;\n",
              "      border: none;\n",
              "      border-radius: 50%;\n",
              "      cursor: pointer;\n",
              "      display: none;\n",
              "      fill: #1967D2;\n",
              "      height: 32px;\n",
              "      padding: 0 0 0 0;\n",
              "      width: 32px;\n",
              "    }\n",
              "\n",
              "    .colab-df-convert:hover {\n",
              "      background-color: #E2EBFA;\n",
              "      box-shadow: 0px 1px 2px rgba(60, 64, 67, 0.3), 0px 1px 3px 1px rgba(60, 64, 67, 0.15);\n",
              "      fill: #174EA6;\n",
              "    }\n",
              "\n",
              "    [theme=dark] .colab-df-convert {\n",
              "      background-color: #3B4455;\n",
              "      fill: #D2E3FC;\n",
              "    }\n",
              "\n",
              "    [theme=dark] .colab-df-convert:hover {\n",
              "      background-color: #434B5C;\n",
              "      box-shadow: 0px 1px 3px 1px rgba(0, 0, 0, 0.15);\n",
              "      filter: drop-shadow(0px 1px 2px rgba(0, 0, 0, 0.3));\n",
              "      fill: #FFFFFF;\n",
              "    }\n",
              "  </style>\n",
              "\n",
              "      <script>\n",
              "        const buttonEl =\n",
              "          document.querySelector('#df-4f9a7c7b-9b6a-40ed-ac28-178a193e74bc button.colab-df-convert');\n",
              "        buttonEl.style.display =\n",
              "          google.colab.kernel.accessAllowed ? 'block' : 'none';\n",
              "\n",
              "        async function convertToInteractive(key) {\n",
              "          const element = document.querySelector('#df-4f9a7c7b-9b6a-40ed-ac28-178a193e74bc');\n",
              "          const dataTable =\n",
              "            await google.colab.kernel.invokeFunction('convertToInteractive',\n",
              "                                                     [key], {});\n",
              "          if (!dataTable) return;\n",
              "\n",
              "          const docLinkHtml = 'Like what you see? Visit the ' +\n",
              "            '<a target=\"_blank\" href=https://colab.research.google.com/notebooks/data_table.ipynb>data table notebook</a>'\n",
              "            + ' to learn more about interactive tables.';\n",
              "          element.innerHTML = '';\n",
              "          dataTable['output_type'] = 'display_data';\n",
              "          await google.colab.output.renderOutput(dataTable, element);\n",
              "          const docLink = document.createElement('div');\n",
              "          docLink.innerHTML = docLinkHtml;\n",
              "          element.appendChild(docLink);\n",
              "        }\n",
              "      </script>\n",
              "    </div>\n",
              "  </div>\n",
              "  "
            ]
          },
          "metadata": {},
          "execution_count": 77
        }
      ],
      "source": [
        "#Check for null\n",
        "df_titanicTrain.isnull()"
      ]
    },
    {
      "cell_type": "code",
      "execution_count": 78,
      "id": "G2tXOTzDwFsP",
      "metadata": {
        "colab": {
          "base_uri": "https://localhost:8080/",
          "height": 423
        },
        "id": "G2tXOTzDwFsP",
        "outputId": "bb892e1c-470b-45ff-e255-8cfe7ce4210a"
      },
      "outputs": [
        {
          "output_type": "execute_result",
          "data": {
            "text/plain": [
              "     Pclass    Sex    Age  SibSp  Parch   Fare  Cabin  Embarked  Survived\n",
              "0     False  False  False  False  False  False   True     False     False\n",
              "1     False  False  False  False  False  False  False     False     False\n",
              "2     False  False  False  False  False  False   True     False     False\n",
              "3     False  False  False  False  False  False  False     False     False\n",
              "4     False  False  False  False  False  False   True     False     False\n",
              "..      ...    ...    ...    ...    ...    ...    ...       ...       ...\n",
              "886   False  False  False  False  False  False   True     False     False\n",
              "887   False  False  False  False  False  False  False     False     False\n",
              "888   False  False   True  False  False  False   True     False     False\n",
              "889   False  False  False  False  False  False  False     False     False\n",
              "890   False  False  False  False  False  False   True     False     False\n",
              "\n",
              "[891 rows x 9 columns]"
            ],
            "text/html": [
              "\n",
              "  <div id=\"df-e3433bb4-9e0c-4a77-97c6-03d61cedbbd8\">\n",
              "    <div class=\"colab-df-container\">\n",
              "      <div>\n",
              "<style scoped>\n",
              "    .dataframe tbody tr th:only-of-type {\n",
              "        vertical-align: middle;\n",
              "    }\n",
              "\n",
              "    .dataframe tbody tr th {\n",
              "        vertical-align: top;\n",
              "    }\n",
              "\n",
              "    .dataframe thead th {\n",
              "        text-align: right;\n",
              "    }\n",
              "</style>\n",
              "<table border=\"1\" class=\"dataframe\">\n",
              "  <thead>\n",
              "    <tr style=\"text-align: right;\">\n",
              "      <th></th>\n",
              "      <th>Pclass</th>\n",
              "      <th>Sex</th>\n",
              "      <th>Age</th>\n",
              "      <th>SibSp</th>\n",
              "      <th>Parch</th>\n",
              "      <th>Fare</th>\n",
              "      <th>Cabin</th>\n",
              "      <th>Embarked</th>\n",
              "      <th>Survived</th>\n",
              "    </tr>\n",
              "  </thead>\n",
              "  <tbody>\n",
              "    <tr>\n",
              "      <th>0</th>\n",
              "      <td>False</td>\n",
              "      <td>False</td>\n",
              "      <td>False</td>\n",
              "      <td>False</td>\n",
              "      <td>False</td>\n",
              "      <td>False</td>\n",
              "      <td>True</td>\n",
              "      <td>False</td>\n",
              "      <td>False</td>\n",
              "    </tr>\n",
              "    <tr>\n",
              "      <th>1</th>\n",
              "      <td>False</td>\n",
              "      <td>False</td>\n",
              "      <td>False</td>\n",
              "      <td>False</td>\n",
              "      <td>False</td>\n",
              "      <td>False</td>\n",
              "      <td>False</td>\n",
              "      <td>False</td>\n",
              "      <td>False</td>\n",
              "    </tr>\n",
              "    <tr>\n",
              "      <th>2</th>\n",
              "      <td>False</td>\n",
              "      <td>False</td>\n",
              "      <td>False</td>\n",
              "      <td>False</td>\n",
              "      <td>False</td>\n",
              "      <td>False</td>\n",
              "      <td>True</td>\n",
              "      <td>False</td>\n",
              "      <td>False</td>\n",
              "    </tr>\n",
              "    <tr>\n",
              "      <th>3</th>\n",
              "      <td>False</td>\n",
              "      <td>False</td>\n",
              "      <td>False</td>\n",
              "      <td>False</td>\n",
              "      <td>False</td>\n",
              "      <td>False</td>\n",
              "      <td>False</td>\n",
              "      <td>False</td>\n",
              "      <td>False</td>\n",
              "    </tr>\n",
              "    <tr>\n",
              "      <th>4</th>\n",
              "      <td>False</td>\n",
              "      <td>False</td>\n",
              "      <td>False</td>\n",
              "      <td>False</td>\n",
              "      <td>False</td>\n",
              "      <td>False</td>\n",
              "      <td>True</td>\n",
              "      <td>False</td>\n",
              "      <td>False</td>\n",
              "    </tr>\n",
              "    <tr>\n",
              "      <th>...</th>\n",
              "      <td>...</td>\n",
              "      <td>...</td>\n",
              "      <td>...</td>\n",
              "      <td>...</td>\n",
              "      <td>...</td>\n",
              "      <td>...</td>\n",
              "      <td>...</td>\n",
              "      <td>...</td>\n",
              "      <td>...</td>\n",
              "    </tr>\n",
              "    <tr>\n",
              "      <th>886</th>\n",
              "      <td>False</td>\n",
              "      <td>False</td>\n",
              "      <td>False</td>\n",
              "      <td>False</td>\n",
              "      <td>False</td>\n",
              "      <td>False</td>\n",
              "      <td>True</td>\n",
              "      <td>False</td>\n",
              "      <td>False</td>\n",
              "    </tr>\n",
              "    <tr>\n",
              "      <th>887</th>\n",
              "      <td>False</td>\n",
              "      <td>False</td>\n",
              "      <td>False</td>\n",
              "      <td>False</td>\n",
              "      <td>False</td>\n",
              "      <td>False</td>\n",
              "      <td>False</td>\n",
              "      <td>False</td>\n",
              "      <td>False</td>\n",
              "    </tr>\n",
              "    <tr>\n",
              "      <th>888</th>\n",
              "      <td>False</td>\n",
              "      <td>False</td>\n",
              "      <td>True</td>\n",
              "      <td>False</td>\n",
              "      <td>False</td>\n",
              "      <td>False</td>\n",
              "      <td>True</td>\n",
              "      <td>False</td>\n",
              "      <td>False</td>\n",
              "    </tr>\n",
              "    <tr>\n",
              "      <th>889</th>\n",
              "      <td>False</td>\n",
              "      <td>False</td>\n",
              "      <td>False</td>\n",
              "      <td>False</td>\n",
              "      <td>False</td>\n",
              "      <td>False</td>\n",
              "      <td>False</td>\n",
              "      <td>False</td>\n",
              "      <td>False</td>\n",
              "    </tr>\n",
              "    <tr>\n",
              "      <th>890</th>\n",
              "      <td>False</td>\n",
              "      <td>False</td>\n",
              "      <td>False</td>\n",
              "      <td>False</td>\n",
              "      <td>False</td>\n",
              "      <td>False</td>\n",
              "      <td>True</td>\n",
              "      <td>False</td>\n",
              "      <td>False</td>\n",
              "    </tr>\n",
              "  </tbody>\n",
              "</table>\n",
              "<p>891 rows × 9 columns</p>\n",
              "</div>\n",
              "      <button class=\"colab-df-convert\" onclick=\"convertToInteractive('df-e3433bb4-9e0c-4a77-97c6-03d61cedbbd8')\"\n",
              "              title=\"Convert this dataframe to an interactive table.\"\n",
              "              style=\"display:none;\">\n",
              "        \n",
              "  <svg xmlns=\"http://www.w3.org/2000/svg\" height=\"24px\"viewBox=\"0 0 24 24\"\n",
              "       width=\"24px\">\n",
              "    <path d=\"M0 0h24v24H0V0z\" fill=\"none\"/>\n",
              "    <path d=\"M18.56 5.44l.94 2.06.94-2.06 2.06-.94-2.06-.94-.94-2.06-.94 2.06-2.06.94zm-11 1L8.5 8.5l.94-2.06 2.06-.94-2.06-.94L8.5 2.5l-.94 2.06-2.06.94zm10 10l.94 2.06.94-2.06 2.06-.94-2.06-.94-.94-2.06-.94 2.06-2.06.94z\"/><path d=\"M17.41 7.96l-1.37-1.37c-.4-.4-.92-.59-1.43-.59-.52 0-1.04.2-1.43.59L10.3 9.45l-7.72 7.72c-.78.78-.78 2.05 0 2.83L4 21.41c.39.39.9.59 1.41.59.51 0 1.02-.2 1.41-.59l7.78-7.78 2.81-2.81c.8-.78.8-2.07 0-2.86zM5.41 20L4 18.59l7.72-7.72 1.47 1.35L5.41 20z\"/>\n",
              "  </svg>\n",
              "      </button>\n",
              "      \n",
              "  <style>\n",
              "    .colab-df-container {\n",
              "      display:flex;\n",
              "      flex-wrap:wrap;\n",
              "      gap: 12px;\n",
              "    }\n",
              "\n",
              "    .colab-df-convert {\n",
              "      background-color: #E8F0FE;\n",
              "      border: none;\n",
              "      border-radius: 50%;\n",
              "      cursor: pointer;\n",
              "      display: none;\n",
              "      fill: #1967D2;\n",
              "      height: 32px;\n",
              "      padding: 0 0 0 0;\n",
              "      width: 32px;\n",
              "    }\n",
              "\n",
              "    .colab-df-convert:hover {\n",
              "      background-color: #E2EBFA;\n",
              "      box-shadow: 0px 1px 2px rgba(60, 64, 67, 0.3), 0px 1px 3px 1px rgba(60, 64, 67, 0.15);\n",
              "      fill: #174EA6;\n",
              "    }\n",
              "\n",
              "    [theme=dark] .colab-df-convert {\n",
              "      background-color: #3B4455;\n",
              "      fill: #D2E3FC;\n",
              "    }\n",
              "\n",
              "    [theme=dark] .colab-df-convert:hover {\n",
              "      background-color: #434B5C;\n",
              "      box-shadow: 0px 1px 3px 1px rgba(0, 0, 0, 0.15);\n",
              "      filter: drop-shadow(0px 1px 2px rgba(0, 0, 0, 0.3));\n",
              "      fill: #FFFFFF;\n",
              "    }\n",
              "  </style>\n",
              "\n",
              "      <script>\n",
              "        const buttonEl =\n",
              "          document.querySelector('#df-e3433bb4-9e0c-4a77-97c6-03d61cedbbd8 button.colab-df-convert');\n",
              "        buttonEl.style.display =\n",
              "          google.colab.kernel.accessAllowed ? 'block' : 'none';\n",
              "\n",
              "        async function convertToInteractive(key) {\n",
              "          const element = document.querySelector('#df-e3433bb4-9e0c-4a77-97c6-03d61cedbbd8');\n",
              "          const dataTable =\n",
              "            await google.colab.kernel.invokeFunction('convertToInteractive',\n",
              "                                                     [key], {});\n",
              "          if (!dataTable) return;\n",
              "\n",
              "          const docLinkHtml = 'Like what you see? Visit the ' +\n",
              "            '<a target=\"_blank\" href=https://colab.research.google.com/notebooks/data_table.ipynb>data table notebook</a>'\n",
              "            + ' to learn more about interactive tables.';\n",
              "          element.innerHTML = '';\n",
              "          dataTable['output_type'] = 'display_data';\n",
              "          await google.colab.output.renderOutput(dataTable, element);\n",
              "          const docLink = document.createElement('div');\n",
              "          docLink.innerHTML = docLinkHtml;\n",
              "          element.appendChild(docLink);\n",
              "        }\n",
              "      </script>\n",
              "    </div>\n",
              "  </div>\n",
              "  "
            ]
          },
          "metadata": {},
          "execution_count": 78
        }
      ],
      "source": [
        "df_titanicTrain.isna()"
      ]
    },
    {
      "cell_type": "markdown",
      "id": "fd34ff5e",
      "metadata": {
        "id": "fd34ff5e"
      },
      "source": [
        "<p>Separating survival data with genders by adding hue. </p>\n",
        "<br>\n",
        "<h3>Sex</h3>\n",
        "Lets try seeing the initial passenger data based on gender proportion"
      ]
    },
    {
      "cell_type": "code",
      "execution_count": 79,
      "id": "27a8acb3",
      "metadata": {
        "colab": {
          "base_uri": "https://localhost:8080/",
          "height": 299
        },
        "id": "27a8acb3",
        "outputId": "bcc40e18-b106-4d9e-89bf-65ca1db00e1c"
      },
      "outputs": [
        {
          "output_type": "execute_result",
          "data": {
            "text/plain": [
              "<matplotlib.axes._subplots.AxesSubplot at 0x7fb61ccde3a0>"
            ]
          },
          "metadata": {},
          "execution_count": 79
        },
        {
          "output_type": "display_data",
          "data": {
            "text/plain": [
              "<Figure size 432x288 with 1 Axes>"
            ],
            "image/png": "[encoded data removed]"
          },
          "metadata": {
            "needs_background": "light"
          }
        }
      ],
      "source": [
        "sns.countplot(x='Sex',data=df_titanicTrain) #plotting countplot"
      ]
    },
    {
      "cell_type": "code",
      "execution_count": 80,
      "id": "c1ffcbb9",
      "metadata": {
        "colab": {
          "base_uri": "https://localhost:8080/",
          "height": 297
        },
        "id": "c1ffcbb9",
        "outputId": "0fa24825-75d6-43b6-fdaa-794990067056"
      },
      "outputs": [
        {
          "output_type": "execute_result",
          "data": {
            "text/plain": [
              "<matplotlib.axes._subplots.AxesSubplot at 0x7fb61c042b20>"
            ]
          },
          "metadata": {},
          "execution_count": 80
        },
        {
          "output_type": "display_data",
          "data": {
            "text/plain": [
              "<Figure size 432x288 with 1 Axes>"
            ],
            "image/png": "[encoded data removed]"
          },
          "metadata": {
            "needs_background": "light"
          }
        }
      ],
      "source": [
        "sns.countplot(x='Sex',data=df_titanicTrain, hue='Survived')# Plotting a countplot using the seaborn library\n",
        "# x = the categorical column 'Sex' from the dataframe 'df_titanicTrain'\n",
        "# data = the data source 'df_titanicTrain'\n",
        "# hue = the categorical column 'Survived' from the dataframe 'df_titanicTrain'"
      ]
    },
    {
      "cell_type": "markdown",
      "id": "92547562",
      "metadata": {
        "id": "92547562"
      },
      "source": [
        "\n",
        "<p>Adding hue to survival status, we see male passengers are way more likely to not survive</p>\n",
        "<br>\n",
        "<h2>Passenger Class</h2>\n",
        "<p>Lets try to separate them based on Passenger class data</p>"
      ]
    },
    {
      "cell_type": "code",
      "execution_count": 81,
      "id": "dc028147",
      "metadata": {
        "colab": {
          "base_uri": "https://localhost:8080/",
          "height": 297
        },
        "id": "dc028147",
        "outputId": "c22becd2-4b31-4a71-d770-b9e4d701676e"
      },
      "outputs": [
        {
          "output_type": "execute_result",
          "data": {
            "text/plain": [
              "<matplotlib.axes._subplots.AxesSubplot at 0x7fb613f8a940>"
            ]
          },
          "metadata": {},
          "execution_count": 81
        },
        {
          "output_type": "display_data",
          "data": {
            "text/plain": [
              "<Figure size 432x288 with 1 Axes>"
            ],
            "image/png": "[encoded data removed]"
          },
          "metadata": {
            "needs_background": "light"
          }
        }
      ],
      "source": [
        "\n",
        "sns.countplot(x='Sex',data=df_titanicTrain, hue='Pclass') # Plotting a countplot using the seaborn library\n",
        "# x = the categorical column 'Sex' from the dataframe 'df_titanicTrain'\n",
        "# data = the data source 'df_titanicTrain'\n",
        "# hue = the categorical column 'Pclass' from the dataframe 'df_titanicTrain'"
      ]
    },
    {
      "cell_type": "code",
      "execution_count": 82,
      "id": "631e6613",
      "metadata": {
        "colab": {
          "base_uri": "https://localhost:8080/",
          "height": 297
        },
        "id": "631e6613",
        "outputId": "060712a4-1010-4ae5-b972-b0bcc88b7dff"
      },
      "outputs": [
        {
          "output_type": "execute_result",
          "data": {
            "text/plain": [
              "<matplotlib.axes._subplots.AxesSubplot at 0x7fb613f69c40>"
            ]
          },
          "metadata": {},
          "execution_count": 82
        },
        {
          "output_type": "display_data",
          "data": {
            "text/plain": [
              "<Figure size 432x288 with 1 Axes>"
            ],
            "image/png": "[encoded data removed]"
          },
          "metadata": {
            "needs_background": "light"
          }
        }
      ],
      "source": [
        "sns.countplot(x='Survived',data=df_titanicTrain, hue='Pclass') # Plotting a countplot using the seaborn library\n",
        "# x = the categorical column 'survivde' from the dataframe 'df_titanicTrain'\n",
        "# data = the data source 'df_titanicTrain'\n",
        "# hue = the categorical column 'Pclass' from the dataframe 'df_titanicTrain'"
      ]
    },
    {
      "cell_type": "code",
      "execution_count": 83,
      "id": "ccfac3cf",
      "metadata": {
        "colab": {
          "base_uri": "https://localhost:8080/",
          "height": 297
        },
        "id": "ccfac3cf",
        "outputId": "5966cc81-a418-488d-a62b-91825ed9936b"
      },
      "outputs": [
        {
          "output_type": "execute_result",
          "data": {
            "text/plain": [
              "<matplotlib.axes._subplots.AxesSubplot at 0x7fb613ed08e0>"
            ]
          },
          "metadata": {},
          "execution_count": 83
        },
        {
          "output_type": "display_data",
          "data": {
            "text/plain": [
              "<Figure size 432x288 with 1 Axes>"
            ],
            "image/png": "[encoded data removed]"
          },
          "metadata": {
            "needs_background": "light"
          }
        }
      ],
      "source": [
        "sns.countplot(x='Pclass',data=df_titanicTrain, hue='Survived') # Plotting a countplot using the seaborn library\n",
        "# x = the categorical column 'Pclass' from the dataframe 'df_titanicTrain'\n",
        "# data = the data source 'df_titanicTrain'\n",
        "# hue = the categorical column 'Survived' from the dataframe 'df_titanicTrain'"
      ]
    },
    {
      "cell_type": "markdown",
      "id": "8c73a1e4",
      "metadata": {
        "id": "8c73a1e4"
      },
      "source": [
        "<p>Third Class passengers were more likely to die in the incident. However, it might be due to high proportion of male passengers there as well.</p>\n",
        "<p>First class passengers has most likelihood to survive. And the Third Class passengers has lowest likelihood of survival</p>\n",
        "<br>\n",
        "<p>Lets now see passengers age distribution data</p>"
      ]
    },
    {
      "cell_type": "code",
      "execution_count": 84,
      "id": "de802907",
      "metadata": {
        "colab": {
          "base_uri": "https://localhost:8080/",
          "height": 387
        },
        "id": "de802907",
        "outputId": "aeff296e-cc8d-4c9c-b89f-db8ab92d1495"
      },
      "outputs": [
        {
          "output_type": "execute_result",
          "data": {
            "text/plain": [
              "<seaborn.axisgrid.FacetGrid at 0x7fb613e97340>"
            ]
          },
          "metadata": {},
          "execution_count": 84
        },
        {
          "output_type": "display_data",
          "data": {
            "text/plain": [
              "<Figure size 360x360 with 1 Axes>"
            ],
            "image/png": "[encoded data removed]"
          },
          "metadata": {
            "needs_background": "light"
          }
        }
      ],
      "source": [
        "sns.displot(df_titanicTrain['Age'].dropna(),kde=False,bins=30) # Display showing the probability density function of the data."
      ]
    },
    {
      "cell_type": "markdown",
      "id": "300846b4",
      "metadata": {
        "id": "300846b4"
      },
      "source": [
        "<p>We observe a Normal Distribution curve, with Mean in between 20-30.</p>\n"
      ]
    },
    {
      "cell_type": "code",
      "execution_count": 85,
      "id": "0dc0ee1f",
      "metadata": {
        "colab": {
          "base_uri": "https://localhost:8080/"
        },
        "id": "0dc0ee1f",
        "outputId": "ff267209-2eb7-468d-ce51-77d536bd00a3"
      },
      "outputs": [
        {
          "output_type": "stream",
          "name": "stdout",
          "text": [
            "<class 'pandas.core.frame.DataFrame'>\n",
            "RangeIndex: 891 entries, 0 to 890\n",
            "Data columns (total 9 columns):\n",
            " #   Column    Non-Null Count  Dtype  \n",
            "---  ------    --------------  -----  \n",
            " 0   Pclass    891 non-null    int64  \n",
            " 1   Sex       891 non-null    object \n",
            " 2   Age       714 non-null    float64\n",
            " 3   SibSp     891 non-null    int64  \n",
            " 4   Parch     891 non-null    int64  \n",
            " 5   Fare      891 non-null    float64\n",
            " 6   Cabin     204 non-null    object \n",
            " 7   Embarked  889 non-null    object \n",
            " 8   Survived  891 non-null    int64  \n",
            "dtypes: float64(2), int64(4), object(3)\n",
            "memory usage: 62.8+ KB\n"
          ]
        }
      ],
      "source": [
        "df_titanicTrain.info()"
      ]
    },
    {
      "cell_type": "code",
      "execution_count": 86,
      "id": "a6d5d595",
      "metadata": {
        "colab": {
          "base_uri": "https://localhost:8080/",
          "height": 297
        },
        "id": "a6d5d595",
        "outputId": "a8afca37-c72c-4935-c991-fb43375cc4b4"
      },
      "outputs": [
        {
          "output_type": "execute_result",
          "data": {
            "text/plain": [
              "<matplotlib.axes._subplots.AxesSubplot at 0x7fb613eb6580>"
            ]
          },
          "metadata": {},
          "execution_count": 86
        },
        {
          "output_type": "display_data",
          "data": {
            "text/plain": [
              "<Figure size 432x288 with 1 Axes>"
            ],
            "image/png": "[encoded data removed]"
          },
          "metadata": {
            "needs_background": "light"
          }
        }
      ],
      "source": [
        "\n",
        "sns.countplot(x=\"SibSp\",data=df_titanicTrain) #plotting count plot of SibSp of column"
      ]
    },
    {
      "cell_type": "markdown",
      "id": "ad482fd6",
      "metadata": {
        "id": "ad482fd6"
      },
      "source": [
        "<p>Most people in the Titanice has zero Sibling/Spouse, which suggested they might be solo traveler.</p>\n",
        "<p> I hypothesized the high number of 0 SibSp is probably related to the high level of males in the third class passengers.</p>\n",
        "\n",
        "<p>Lets try to dig deeper into the hypothesis</p>"
      ]
    },
    {
      "cell_type": "code",
      "execution_count": 87,
      "id": "c83524cc",
      "metadata": {
        "colab": {
          "base_uri": "https://localhost:8080/",
          "height": 297
        },
        "id": "c83524cc",
        "outputId": "7c31a2e3-e537-4d50-a769-7f74f08c0318"
      },
      "outputs": [
        {
          "output_type": "execute_result",
          "data": {
            "text/plain": [
              "<matplotlib.axes._subplots.AxesSubplot at 0x7fb613d9f280>"
            ]
          },
          "metadata": {},
          "execution_count": 87
        },
        {
          "output_type": "display_data",
          "data": {
            "text/plain": [
              "<Figure size 432x288 with 1 Axes>"
            ],
            "image/png": "[encoded data removed]"
          },
          "metadata": {
            "needs_background": "light"
          }
        }
      ],
      "source": [
        "sns.countplot(x=\"SibSp\",data=df_titanicTrain,hue=\"Survived\") # Plotting a countplot using the seaborn library\n",
        "# x = the categorical column 'SibSp' from the dataframe 'df_titanicTrain'\n",
        "# data = the data source 'df_titanicTrain'\n",
        "# hue = the categorical column 'Survived' from the dataframe 'df_titanicTrain'"
      ]
    },
    {
      "cell_type": "markdown",
      "id": "4470bf01",
      "metadata": {
        "id": "4470bf01"
      },
      "source": [
        "<p>Small observation that people with only 1 spouse/siblings has higher survival ratio than other SibSp category</p>"
      ]
    },
    {
      "cell_type": "code",
      "execution_count": 88,
      "id": "33712628",
      "metadata": {
        "colab": {
          "base_uri": "https://localhost:8080/",
          "height": 297
        },
        "id": "33712628",
        "outputId": "4777c376-f4e8-4614-abc6-76e5a90932f0"
      },
      "outputs": [
        {
          "output_type": "execute_result",
          "data": {
            "text/plain": [
              "<matplotlib.axes._subplots.AxesSubplot at 0x7fb613d081c0>"
            ]
          },
          "metadata": {},
          "execution_count": 88
        },
        {
          "output_type": "display_data",
          "data": {
            "text/plain": [
              "<Figure size 432x288 with 1 Axes>"
            ],
            "image/png": "[encoded data removed]"
          },
          "metadata": {
            "needs_background": "light"
          }
        }
      ],
      "source": [
        "sns.countplot(x=\"SibSp\",data=df_titanicTrain,hue=\"Sex\")# Plotting a countplot using the seaborn library\n",
        "# x = the categorical column 'SibSp' from the dataframe 'df_titanicTrain'\n",
        "# data = the data source 'df_titanicTrain'\n",
        "# hue = the categorical column 'Sex' from the dataframe 'df_titanicTrain'\n"
      ]
    },
    {
      "cell_type": "code",
      "execution_count": 89,
      "id": "f1eac029",
      "metadata": {
        "colab": {
          "base_uri": "https://localhost:8080/",
          "height": 297
        },
        "id": "f1eac029",
        "outputId": "2b3766be-703a-4473-a680-1c7406b5d03a"
      },
      "outputs": [
        {
          "output_type": "execute_result",
          "data": {
            "text/plain": [
              "<matplotlib.axes._subplots.AxesSubplot at 0x7fb613c57d90>"
            ]
          },
          "metadata": {},
          "execution_count": 89
        },
        {
          "output_type": "display_data",
          "data": {
            "text/plain": [
              "<Figure size 432x288 with 1 Axes>"
            ],
            "image/png": "[encoded data removed]"
          },
          "metadata": {
            "needs_background": "light"
          }
        }
      ],
      "source": [
        "sns.countplot(x=\"SibSp\",data=df_titanicTrain,hue=\"Pclass\") # Plotting a countplot using the seaborn library\n",
        "# x = the categorical column 'SibSp' from the dataframe 'df_titanicTrain'\n",
        "# data = the data source 'df_titanicTrain'\n",
        "# hue = the categorical column 'Pclass' from the dataframe 'df_titanicTrain'"
      ]
    },
    {
      "cell_type": "markdown",
      "id": "a3acb1d2",
      "metadata": {
        "id": "a3acb1d2"
      },
      "source": [
        "<p> The data above prove the hypothesis that the high number of 0 SibSp is probably related to the high level of males in the third class passengers.</p>\n",
        "<br>\n",
        "<p>Lets try to see distribution of fare people pay to get on board.</p>"
      ]
    },
    {
      "cell_type": "code",
      "execution_count": 90,
      "id": "2c56ecf1",
      "metadata": {
        "colab": {
          "base_uri": "https://localhost:8080/",
          "height": 603
        },
        "id": "2c56ecf1",
        "outputId": "66a4fe68-f3e2-4673-a9c9-0d9b1069fc3d"
      },
      "outputs": [
        {
          "output_type": "execute_result",
          "data": {
            "text/plain": [
              "<seaborn.axisgrid.FacetGrid at 0x7fb613ea7130>"
            ]
          },
          "metadata": {},
          "execution_count": 90
        },
        {
          "output_type": "display_data",
          "data": {
            "text/plain": [
              "<Figure size 1036.8x576 with 1 Axes>"
            ],
            "image/png": "[encoded data removed]"
          },
          "metadata": {
            "needs_background": "light"
          }
        }
      ],
      "source": [
        "\n",
        "sns.displot(df_titanicTrain['Fare'].dropna(),kde=False,bins=50,height=8,aspect=1.8) # Create a histogram of the Fare column"
      ]
    },
    {
      "cell_type": "markdown",
      "id": "3b8e5d16",
      "metadata": {
        "id": "3b8e5d16"
      },
      "source": [
        "<p>Majority of Titanic passengers pay the cheapest fare, which falls under the first bin.</p>"
      ]
    },
    {
      "cell_type": "markdown",
      "id": "e2112512",
      "metadata": {
        "id": "e2112512"
      },
      "source": [
        "# Data Cleaning\n",
        "<p>So firstly, we found out that a significant portion of age was missing from the data set. Instead of dropping all the missing ages, we can simply fill in the age with the mean age.</p>\n"
      ]
    },
    {
      "cell_type": "code",
      "execution_count": 91,
      "id": "5f2ba5a1",
      "metadata": {
        "colab": {
          "base_uri": "https://localhost:8080/",
          "height": 460
        },
        "id": "5f2ba5a1",
        "outputId": "781f0a5a-6f4b-41ad-a090-2e4ae6c16dc1"
      },
      "outputs": [
        {
          "output_type": "execute_result",
          "data": {
            "text/plain": [
              "<matplotlib.axes._subplots.AxesSubplot at 0x7fb61d126f10>"
            ]
          },
          "metadata": {},
          "execution_count": 91
        },
        {
          "output_type": "display_data",
          "data": {
            "text/plain": [
              "<Figure size 720x504 with 1 Axes>"
            ],
            "image/png": "[encoded data removed]"
          },
          "metadata": {
            "needs_background": "light"
          }
        }
      ],
      "source": [
        "plt.figure(figsize=(10,7))\n",
        "sns.boxplot(x='Pclass',y='Age',data=df_titanicTrain)#ploting boxplot"
      ]
    },
    {
      "cell_type": "markdown",
      "id": "2e27de50",
      "metadata": {
        "id": "2e27de50"
      },
      "source": [
        "<p>Each passenger class has different age spread, probably due to wealthier passengers were usually older.</p>\n",
        "<p>Now we are ready to impute by making a function</p>"
      ]
    },
    {
      "cell_type": "code",
      "execution_count": 92,
      "id": "e17429ca",
      "metadata": {
        "colab": {
          "base_uri": "https://localhost:8080/"
        },
        "id": "e17429ca",
        "outputId": "e41eb3ce-9ec6-43eb-e17d-d2acad96bfa2"
      },
      "outputs": [
        {
          "output_type": "stream",
          "name": "stdout",
          "text": [
            "Pclass\n",
            "1    38.233441\n",
            "2    29.877630\n",
            "3    25.140620\n",
            "Name: Age, dtype: float64\n"
          ]
        }
      ],
      "source": [
        "pclass_age_mean = df_titanicTrain.groupby('Pclass')['Age'].mean()\n",
        "print(pclass_age_mean) #grouped Pclass and Age"
      ]
    },
    {
      "cell_type": "code",
      "execution_count": 93,
      "id": "3c3b17eb",
      "metadata": {
        "id": "3c3b17eb"
      },
      "outputs": [],
      "source": [
        "def impute_age(cols):\n",
        "    Age = cols[0] #1st column\n",
        "    Pclass=cols[1] #2nd column\n",
        "    if pd.isnull(Age):\n",
        "        if Pclass == 1:\n",
        "            return 38\n",
        "        elif Pclass == 2:\n",
        "            return 29\n",
        "        else:\n",
        "            return 24\n",
        "    else:\n",
        "        return Age"
      ]
    },
    {
      "cell_type": "code",
      "execution_count": 94,
      "id": "a8f795b7",
      "metadata": {
        "id": "a8f795b7"
      },
      "outputs": [],
      "source": [
        "df_titanicTrain['Age'] = df_titanicTrain[['Age','Pclass']].apply(impute_age,axis=1) # Impute the missing values in the Age column using the impute_age function"
      ]
    },
    {
      "cell_type": "markdown",
      "id": "860cc89b",
      "metadata": {
        "id": "860cc89b"
      },
      "source": [
        "The Age data has now been cleaned, as we had imputed the nulls with average age of respective passenger classes.We will also write imputation method for Fare, as it is needed for the test data.\n"
      ]
    },
    {
      "cell_type": "markdown",
      "id": "1addf5de",
      "metadata": {
        "id": "1addf5de"
      },
      "source": []
    },
    {
      "cell_type": "code",
      "execution_count": 95,
      "id": "64d0b6bd",
      "metadata": {
        "colab": {
          "base_uri": "https://localhost:8080/",
          "height": 460
        },
        "id": "64d0b6bd",
        "outputId": "8a70c645-1c6d-46f3-d718-ee2197beeb3d"
      },
      "outputs": [
        {
          "output_type": "execute_result",
          "data": {
            "text/plain": [
              "<matplotlib.axes._subplots.AxesSubplot at 0x7fb61c0ffa90>"
            ]
          },
          "metadata": {},
          "execution_count": 95
        },
        {
          "output_type": "display_data",
          "data": {
            "text/plain": [
              "<Figure size 720x504 with 1 Axes>"
            ],
            "image/png": "[encoded data removed]"
          },
          "metadata": {
            "needs_background": "light"
          }
        }
      ],
      "source": [
        "plt.figure(figsize=(10,7))\n",
        "sns.boxplot(x='Pclass',y='Fare',data=df_titanicTrain) #plotting boxplot"
      ]
    },
    {
      "cell_type": "code",
      "execution_count": 96,
      "id": "727817d4",
      "metadata": {
        "colab": {
          "base_uri": "https://localhost:8080/"
        },
        "id": "727817d4",
        "outputId": "445f7663-575c-49ef-c6a6-3baf33d7f5e3"
      },
      "outputs": [
        {
          "output_type": "stream",
          "name": "stdout",
          "text": [
            "Pclass\n",
            "1    84.154687\n",
            "2    20.662183\n",
            "3    13.675550\n",
            "Name: Fare, dtype: float64\n"
          ]
        }
      ],
      "source": [
        "pclass_fare_mean = df_titanicTrain.groupby('Pclass')['Fare'].mean()\n",
        "print(pclass_fare_mean) #grouping column Pclass and Fare "
      ]
    },
    {
      "cell_type": "markdown",
      "id": "Rib3oMe23Drf",
      "metadata": {
        "id": "Rib3oMe23Drf"
      },
      "source": [
        "impute average age values to null age values:"
      ]
    },
    {
      "cell_type": "code",
      "execution_count": 97,
      "id": "9ed9a144",
      "metadata": {
        "id": "9ed9a144"
      },
      "outputs": [],
      "source": [
        "def add_age(cols):\n",
        "    Age = cols[0]\n",
        "    Pclass = cols[1]\n",
        "    if pd.isnull(Age):\n",
        "      # Get the mean age of passengers in the same Pclass\n",
        "        return int(train[train[\"Pclass\"] == Pclass][\"Age\"].mean())\n",
        "         # If the value in the Age column is not missing, return the original value\n",
        "    else:\n",
        "        return Age"
      ]
    },
    {
      "cell_type": "markdown",
      "id": "R8Ui3ebI3GYQ",
      "metadata": {
        "id": "R8Ui3ebI3GYQ"
      },
      "source": [
        "call the function"
      ]
    },
    {
      "cell_type": "code",
      "execution_count": 98,
      "id": "zX_PBDAh3Nxx",
      "metadata": {
        "id": "zX_PBDAh3Nxx"
      },
      "outputs": [],
      "source": [
        "df_titanicTrain[\"Age\"] = df_titanicTrain[[\"Age\", \"Pclass\"]].apply(add_age,axis=1) # Assigns the result of the \"add_age\" function applied to the \"Age\" and \"Pclass\" columns to the \"Age\" column of the \"df_titanicTrain\" dataframe."
      ]
    },
    {
      "cell_type": "markdown",
      "id": "TikYUMtQ3WlQ",
      "metadata": {
        "id": "TikYUMtQ3WlQ"
      },
      "source": [
        "We have lots of null values for Cabin column, so we just remove it."
      ]
    },
    {
      "cell_type": "code",
      "execution_count": 99,
      "id": "JKPTW3rS3WAx",
      "metadata": {
        "id": "JKPTW3rS3WAx"
      },
      "outputs": [],
      "source": [
        "df_titanicTrain.drop(\"Cabin\",inplace=True,axis=1) # removes the \"Cabin\" column"
      ]
    },
    {
      "cell_type": "markdown",
      "id": "6eMqofMA3okq",
      "metadata": {
        "id": "6eMqofMA3okq"
      },
      "source": [
        "Finally, we remove some rows with null values:"
      ]
    },
    {
      "cell_type": "code",
      "execution_count": 100,
      "id": "QwN-J4AG3V-Y",
      "metadata": {
        "id": "QwN-J4AG3V-Y"
      },
      "outputs": [],
      "source": [
        "df_titanicTrain.dropna(inplace=True) #used to remove rows or columns in a DataFrame that contain missing values."
      ]
    },
    {
      "cell_type": "code",
      "execution_count": 101,
      "id": "ayZwc3Rt3x2f",
      "metadata": {
        "colab": {
          "base_uri": "https://localhost:8080/",
          "height": 423
        },
        "id": "ayZwc3Rt3x2f",
        "outputId": "09afb9d3-5bdf-4917-8382-df0244e1284a"
      },
      "outputs": [
        {
          "output_type": "execute_result",
          "data": {
            "text/plain": [
              "     female  male\n",
              "0         0     1\n",
              "1         1     0\n",
              "2         1     0\n",
              "3         1     0\n",
              "4         0     1\n",
              "..      ...   ...\n",
              "886       0     1\n",
              "887       1     0\n",
              "888       1     0\n",
              "889       0     1\n",
              "890       0     1\n",
              "\n",
              "[889 rows x 2 columns]"
            ],
            "text/html": [
              "\n",
              "  <div id=\"df-ebbe475f-7422-433d-9cd9-0db13fac4e43\">\n",
              "    <div class=\"colab-df-container\">\n",
              "      <div>\n",
              "<style scoped>\n",
              "    .dataframe tbody tr th:only-of-type {\n",
              "        vertical-align: middle;\n",
              "    }\n",
              "\n",
              "    .dataframe tbody tr th {\n",
              "        vertical-align: top;\n",
              "    }\n",
              "\n",
              "    .dataframe thead th {\n",
              "        text-align: right;\n",
              "    }\n",
              "</style>\n",
              "<table border=\"1\" class=\"dataframe\">\n",
              "  <thead>\n",
              "    <tr style=\"text-align: right;\">\n",
              "      <th></th>\n",
              "      <th>female</th>\n",
              "      <th>male</th>\n",
              "    </tr>\n",
              "  </thead>\n",
              "  <tbody>\n",
              "    <tr>\n",
              "      <th>0</th>\n",
              "      <td>0</td>\n",
              "      <td>1</td>\n",
              "    </tr>\n",
              "    <tr>\n",
              "      <th>1</th>\n",
              "      <td>1</td>\n",
              "      <td>0</td>\n",
              "    </tr>\n",
              "    <tr>\n",
              "      <th>2</th>\n",
              "      <td>1</td>\n",
              "      <td>0</td>\n",
              "    </tr>\n",
              "    <tr>\n",
              "      <th>3</th>\n",
              "      <td>1</td>\n",
              "      <td>0</td>\n",
              "    </tr>\n",
              "    <tr>\n",
              "      <th>4</th>\n",
              "      <td>0</td>\n",
              "      <td>1</td>\n",
              "    </tr>\n",
              "    <tr>\n",
              "      <th>...</th>\n",
              "      <td>...</td>\n",
              "      <td>...</td>\n",
              "    </tr>\n",
              "    <tr>\n",
              "      <th>886</th>\n",
              "      <td>0</td>\n",
              "      <td>1</td>\n",
              "    </tr>\n",
              "    <tr>\n",
              "      <th>887</th>\n",
              "      <td>1</td>\n",
              "      <td>0</td>\n",
              "    </tr>\n",
              "    <tr>\n",
              "      <th>888</th>\n",
              "      <td>1</td>\n",
              "      <td>0</td>\n",
              "    </tr>\n",
              "    <tr>\n",
              "      <th>889</th>\n",
              "      <td>0</td>\n",
              "      <td>1</td>\n",
              "    </tr>\n",
              "    <tr>\n",
              "      <th>890</th>\n",
              "      <td>0</td>\n",
              "      <td>1</td>\n",
              "    </tr>\n",
              "  </tbody>\n",
              "</table>\n",
              "<p>889 rows × 2 columns</p>\n",
              "</div>\n",
              "      <button class=\"colab-df-convert\" onclick=\"convertToInteractive('df-ebbe475f-7422-433d-9cd9-0db13fac4e43')\"\n",
              "              title=\"Convert this dataframe to an interactive table.\"\n",
              "              style=\"display:none;\">\n",
              "        \n",
              "  <svg xmlns=\"http://www.w3.org/2000/svg\" height=\"24px\"viewBox=\"0 0 24 24\"\n",
              "       width=\"24px\">\n",
              "    <path d=\"M0 0h24v24H0V0z\" fill=\"none\"/>\n",
              "    <path d=\"M18.56 5.44l.94 2.06.94-2.06 2.06-.94-2.06-.94-.94-2.06-.94 2.06-2.06.94zm-11 1L8.5 8.5l.94-2.06 2.06-.94-2.06-.94L8.5 2.5l-.94 2.06-2.06.94zm10 10l.94 2.06.94-2.06 2.06-.94-2.06-.94-.94-2.06-.94 2.06-2.06.94z\"/><path d=\"M17.41 7.96l-1.37-1.37c-.4-.4-.92-.59-1.43-.59-.52 0-1.04.2-1.43.59L10.3 9.45l-7.72 7.72c-.78.78-.78 2.05 0 2.83L4 21.41c.39.39.9.59 1.41.59.51 0 1.02-.2 1.41-.59l7.78-7.78 2.81-2.81c.8-.78.8-2.07 0-2.86zM5.41 20L4 18.59l7.72-7.72 1.47 1.35L5.41 20z\"/>\n",
              "  </svg>\n",
              "      </button>\n",
              "      \n",
              "  <style>\n",
              "    .colab-df-container {\n",
              "      display:flex;\n",
              "      flex-wrap:wrap;\n",
              "      gap: 12px;\n",
              "    }\n",
              "\n",
              "    .colab-df-convert {\n",
              "      background-color: #E8F0FE;\n",
              "      border: none;\n",
              "      border-radius: 50%;\n",
              "      cursor: pointer;\n",
              "      display: none;\n",
              "      fill: #1967D2;\n",
              "      height: 32px;\n",
              "      padding: 0 0 0 0;\n",
              "      width: 32px;\n",
              "    }\n",
              "\n",
              "    .colab-df-convert:hover {\n",
              "      background-color: #E2EBFA;\n",
              "      box-shadow: 0px 1px 2px rgba(60, 64, 67, 0.3), 0px 1px 3px 1px rgba(60, 64, 67, 0.15);\n",
              "      fill: #174EA6;\n",
              "    }\n",
              "\n",
              "    [theme=dark] .colab-df-convert {\n",
              "      background-color: #3B4455;\n",
              "      fill: #D2E3FC;\n",
              "    }\n",
              "\n",
              "    [theme=dark] .colab-df-convert:hover {\n",
              "      background-color: #434B5C;\n",
              "      box-shadow: 0px 1px 3px 1px rgba(0, 0, 0, 0.15);\n",
              "      filter: drop-shadow(0px 1px 2px rgba(0, 0, 0, 0.3));\n",
              "      fill: #FFFFFF;\n",
              "    }\n",
              "  </style>\n",
              "\n",
              "      <script>\n",
              "        const buttonEl =\n",
              "          document.querySelector('#df-ebbe475f-7422-433d-9cd9-0db13fac4e43 button.colab-df-convert');\n",
              "        buttonEl.style.display =\n",
              "          google.colab.kernel.accessAllowed ? 'block' : 'none';\n",
              "\n",
              "        async function convertToInteractive(key) {\n",
              "          const element = document.querySelector('#df-ebbe475f-7422-433d-9cd9-0db13fac4e43');\n",
              "          const dataTable =\n",
              "            await google.colab.kernel.invokeFunction('convertToInteractive',\n",
              "                                                     [key], {});\n",
              "          if (!dataTable) return;\n",
              "\n",
              "          const docLinkHtml = 'Like what you see? Visit the ' +\n",
              "            '<a target=\"_blank\" href=https://colab.research.google.com/notebooks/data_table.ipynb>data table notebook</a>'\n",
              "            + ' to learn more about interactive tables.';\n",
              "          element.innerHTML = '';\n",
              "          dataTable['output_type'] = 'display_data';\n",
              "          await google.colab.output.renderOutput(dataTable, element);\n",
              "          const docLink = document.createElement('div');\n",
              "          docLink.innerHTML = docLinkHtml;\n",
              "          element.appendChild(docLink);\n",
              "        }\n",
              "      </script>\n",
              "    </div>\n",
              "  </div>\n",
              "  "
            ]
          },
          "metadata": {},
          "execution_count": 101
        }
      ],
      "source": [
        "pd.get_dummies(df_titanicTrain[\"Sex\"]) #represent categorical variables as numerical data "
      ]
    },
    {
      "cell_type": "markdown",
      "id": "998e48cb",
      "metadata": {
        "id": "998e48cb"
      },
      "source": [
        "<p>One of the two columns above is redundant because we only need one column to identify sex. Having two columns will introduce multicollinearity, as the two columns are perfect predictors of each other.</p>"
      ]
    },
    {
      "cell_type": "code",
      "execution_count": 102,
      "id": "90edd34a",
      "metadata": {
        "id": "90edd34a"
      },
      "outputs": [],
      "source": [
        "sex = pd.get_dummies(df_titanicTrain['Sex'],drop_first=True) #convert categorical variables into numerical values."
      ]
    },
    {
      "cell_type": "code",
      "execution_count": 103,
      "id": "f768c224",
      "metadata": {
        "id": "f768c224"
      },
      "outputs": [],
      "source": [
        "embarked = pd.get_dummies(df_titanicTrain[\"Embarked\"],drop_first=True)\n",
        "pclass = pd.get_dummies(df_titanicTrain[\"Pclass\"],drop_first=True)"
      ]
    },
    {
      "cell_type": "markdown",
      "id": "tHES7FH44wqv",
      "metadata": {
        "id": "tHES7FH44wqv"
      },
      "source": [
        "We add these variables to the dataset:"
      ]
    },
    {
      "cell_type": "code",
      "execution_count": 104,
      "id": "974d5d4e",
      "metadata": {
        "id": "974d5d4e"
      },
      "outputs": [],
      "source": [
        "train = pd.concat([df_titanicTrain,pclass,sex,embarked],axis=1) ## Concatenate the df_titanicTrain dataframe with the pclass, sex, and embarked dataframes"
      ]
    },
    {
      "cell_type": "markdown",
      "id": "uUfj6D7B4x9o",
      "metadata": {
        "id": "uUfj6D7B4x9o"
      },
      "source": [
        "Then, we remove some columns that we are not going to use for our model."
      ]
    },
    {
      "cell_type": "code",
      "execution_count": 105,
      "id": "ggP6g-rM40Pv",
      "metadata": {
        "id": "ggP6g-rM40Pv"
      },
      "outputs": [],
      "source": [
        "df_titanicTrain.drop([\"Pclass\",\"Sex\",\"Embarked\"],axis=1,inplace=True) # Drop the Pclass, Sex, and Embarked columns from the df_titanicTrain dataframe"
      ]
    },
    {
      "cell_type": "code",
      "execution_count": 413,
      "id": "1bb83072",
      "metadata": {
        "colab": {
          "base_uri": "https://localhost:8080/",
          "height": 206
        },
        "id": "1bb83072",
        "outputId": "bb8ddef0-8ccf-4622-e21a-d7ff8893308d"
      },
      "outputs": [
        {
          "output_type": "execute_result",
          "data": {
            "text/plain": [
              "   Pclass     Sex   Age  SibSp  Parch     Fare Embarked  Survived  2  3  male  \\\n",
              "0       3    male  22.0      1      0   7.2500        S         0  0  1     1   \n",
              "1       1  female  38.0      1      0  71.2833        C         1  0  0     0   \n",
              "2       3  female  26.0      0      0   7.9250        S         1  0  1     0   \n",
              "3       1  female  35.0      1      0  53.1000        S         1  0  0     0   \n",
              "4       3    male  35.0      0      0   8.0500        S         0  0  1     1   \n",
              "\n",
              "   Q  S  \n",
              "0  0  1  \n",
              "1  0  0  \n",
              "2  0  1  \n",
              "3  0  1  \n",
              "4  0  1  "
            ],
            "text/html": [
              "\n",
              "  <div id=\"df-0c03e645-0845-4699-8365-1627f64f58d3\">\n",
              "    <div class=\"colab-df-container\">\n",
              "      <div>\n",
              "<style scoped>\n",
              "    .dataframe tbody tr th:only-of-type {\n",
              "        vertical-align: middle;\n",
              "    }\n",
              "\n",
              "    .dataframe tbody tr th {\n",
              "        vertical-align: top;\n",
              "    }\n",
              "\n",
              "    .dataframe thead th {\n",
              "        text-align: right;\n",
              "    }\n",
              "</style>\n",
              "<table border=\"1\" class=\"dataframe\">\n",
              "  <thead>\n",
              "    <tr style=\"text-align: right;\">\n",
              "      <th></th>\n",
              "      <th>Pclass</th>\n",
              "      <th>Sex</th>\n",
              "      <th>Age</th>\n",
              "      <th>SibSp</th>\n",
              "      <th>Parch</th>\n",
              "      <th>Fare</th>\n",
              "      <th>Embarked</th>\n",
              "      <th>Survived</th>\n",
              "      <th>2</th>\n",
              "      <th>3</th>\n",
              "      <th>male</th>\n",
              "      <th>Q</th>\n",
              "      <th>S</th>\n",
              "    </tr>\n",
              "  </thead>\n",
              "  <tbody>\n",
              "    <tr>\n",
              "      <th>0</th>\n",
              "      <td>3</td>\n",
              "      <td>male</td>\n",
              "      <td>22.0</td>\n",
              "      <td>1</td>\n",
              "      <td>0</td>\n",
              "      <td>7.2500</td>\n",
              "      <td>S</td>\n",
              "      <td>0</td>\n",
              "      <td>0</td>\n",
              "      <td>1</td>\n",
              "      <td>1</td>\n",
              "      <td>0</td>\n",
              "      <td>1</td>\n",
              "    </tr>\n",
              "    <tr>\n",
              "      <th>1</th>\n",
              "      <td>1</td>\n",
              "      <td>female</td>\n",
              "      <td>38.0</td>\n",
              "      <td>1</td>\n",
              "      <td>0</td>\n",
              "      <td>71.2833</td>\n",
              "      <td>C</td>\n",
              "      <td>1</td>\n",
              "      <td>0</td>\n",
              "      <td>0</td>\n",
              "      <td>0</td>\n",
              "      <td>0</td>\n",
              "      <td>0</td>\n",
              "    </tr>\n",
              "    <tr>\n",
              "      <th>2</th>\n",
              "      <td>3</td>\n",
              "      <td>female</td>\n",
              "      <td>26.0</td>\n",
              "      <td>0</td>\n",
              "      <td>0</td>\n",
              "      <td>7.9250</td>\n",
              "      <td>S</td>\n",
              "      <td>1</td>\n",
              "      <td>0</td>\n",
              "      <td>1</td>\n",
              "      <td>0</td>\n",
              "      <td>0</td>\n",
              "      <td>1</td>\n",
              "    </tr>\n",
              "    <tr>\n",
              "      <th>3</th>\n",
              "      <td>1</td>\n",
              "      <td>female</td>\n",
              "      <td>35.0</td>\n",
              "      <td>1</td>\n",
              "      <td>0</td>\n",
              "      <td>53.1000</td>\n",
              "      <td>S</td>\n",
              "      <td>1</td>\n",
              "      <td>0</td>\n",
              "      <td>0</td>\n",
              "      <td>0</td>\n",
              "      <td>0</td>\n",
              "      <td>1</td>\n",
              "    </tr>\n",
              "    <tr>\n",
              "      <th>4</th>\n",
              "      <td>3</td>\n",
              "      <td>male</td>\n",
              "      <td>35.0</td>\n",
              "      <td>0</td>\n",
              "      <td>0</td>\n",
              "      <td>8.0500</td>\n",
              "      <td>S</td>\n",
              "      <td>0</td>\n",
              "      <td>0</td>\n",
              "      <td>1</td>\n",
              "      <td>1</td>\n",
              "      <td>0</td>\n",
              "      <td>1</td>\n",
              "    </tr>\n",
              "  </tbody>\n",
              "</table>\n",
              "</div>\n",
              "      <button class=\"colab-df-convert\" onclick=\"convertToInteractive('df-0c03e645-0845-4699-8365-1627f64f58d3')\"\n",
              "              title=\"Convert this dataframe to an interactive table.\"\n",
              "              style=\"display:none;\">\n",
              "        \n",
              "  <svg xmlns=\"http://www.w3.org/2000/svg\" height=\"24px\"viewBox=\"0 0 24 24\"\n",
              "       width=\"24px\">\n",
              "    <path d=\"M0 0h24v24H0V0z\" fill=\"none\"/>\n",
              "    <path d=\"M18.56 5.44l.94 2.06.94-2.06 2.06-.94-2.06-.94-.94-2.06-.94 2.06-2.06.94zm-11 1L8.5 8.5l.94-2.06 2.06-.94-2.06-.94L8.5 2.5l-.94 2.06-2.06.94zm10 10l.94 2.06.94-2.06 2.06-.94-2.06-.94-.94-2.06-.94 2.06-2.06.94z\"/><path d=\"M17.41 7.96l-1.37-1.37c-.4-.4-.92-.59-1.43-.59-.52 0-1.04.2-1.43.59L10.3 9.45l-7.72 7.72c-.78.78-.78 2.05 0 2.83L4 21.41c.39.39.9.59 1.41.59.51 0 1.02-.2 1.41-.59l7.78-7.78 2.81-2.81c.8-.78.8-2.07 0-2.86zM5.41 20L4 18.59l7.72-7.72 1.47 1.35L5.41 20z\"/>\n",
              "  </svg>\n",
              "      </button>\n",
              "      \n",
              "  <style>\n",
              "    .colab-df-container {\n",
              "      display:flex;\n",
              "      flex-wrap:wrap;\n",
              "      gap: 12px;\n",
              "    }\n",
              "\n",
              "    .colab-df-convert {\n",
              "      background-color: #E8F0FE;\n",
              "      border: none;\n",
              "      border-radius: 50%;\n",
              "      cursor: pointer;\n",
              "      display: none;\n",
              "      fill: #1967D2;\n",
              "      height: 32px;\n",
              "      padding: 0 0 0 0;\n",
              "      width: 32px;\n",
              "    }\n",
              "\n",
              "    .colab-df-convert:hover {\n",
              "      background-color: #E2EBFA;\n",
              "      box-shadow: 0px 1px 2px rgba(60, 64, 67, 0.3), 0px 1px 3px 1px rgba(60, 64, 67, 0.15);\n",
              "      fill: #174EA6;\n",
              "    }\n",
              "\n",
              "    [theme=dark] .colab-df-convert {\n",
              "      background-color: #3B4455;\n",
              "      fill: #D2E3FC;\n",
              "    }\n",
              "\n",
              "    [theme=dark] .colab-df-convert:hover {\n",
              "      background-color: #434B5C;\n",
              "      box-shadow: 0px 1px 3px 1px rgba(0, 0, 0, 0.15);\n",
              "      filter: drop-shadow(0px 1px 2px rgba(0, 0, 0, 0.3));\n",
              "      fill: #FFFFFF;\n",
              "    }\n",
              "  </style>\n",
              "\n",
              "      <script>\n",
              "        const buttonEl =\n",
              "          document.querySelector('#df-0c03e645-0845-4699-8365-1627f64f58d3 button.colab-df-convert');\n",
              "        buttonEl.style.display =\n",
              "          google.colab.kernel.accessAllowed ? 'block' : 'none';\n",
              "\n",
              "        async function convertToInteractive(key) {\n",
              "          const element = document.querySelector('#df-0c03e645-0845-4699-8365-1627f64f58d3');\n",
              "          const dataTable =\n",
              "            await google.colab.kernel.invokeFunction('convertToInteractive',\n",
              "                                                     [key], {});\n",
              "          if (!dataTable) return;\n",
              "\n",
              "          const docLinkHtml = 'Like what you see? Visit the ' +\n",
              "            '<a target=\"_blank\" href=https://colab.research.google.com/notebooks/data_table.ipynb>data table notebook</a>'\n",
              "            + ' to learn more about interactive tables.';\n",
              "          element.innerHTML = '';\n",
              "          dataTable['output_type'] = 'display_data';\n",
              "          await google.colab.output.renderOutput(dataTable, element);\n",
              "          const docLink = document.createElement('div');\n",
              "          docLink.innerHTML = docLinkHtml;\n",
              "          element.appendChild(docLink);\n",
              "        }\n",
              "      </script>\n",
              "    </div>\n",
              "  </div>\n",
              "  "
            ]
          },
          "metadata": {},
          "execution_count": 413
        }
      ],
      "source": [
        "train.head()"
      ]
    },
    {
      "cell_type": "markdown",
      "id": "17c47e53",
      "metadata": {
        "id": "17c47e53"
      },
      "source": [
        "<p>We also need to convert Pclass into dummy variables as well. We will do that later</p>"
      ]
    },
    {
      "cell_type": "markdown",
      "id": "jFymtIcY8ChB",
      "metadata": {
        "id": "jFymtIcY8ChB"
      },
      "source": [
        "#3. LOGISTIC REGRESSION(Build primary model)\n",
        "\n"
      ]
    },
    {
      "cell_type": "code",
      "execution_count": 107,
      "id": "b0f57c4a",
      "metadata": {
        "id": "b0f57c4a"
      },
      "outputs": [],
      "source": [
        "X= df_titanicTrain.drop('Survived',axis=1) # Assign features to X by dropping the Survived column from df_titanicTrain\n",
        "y=df_titanicTrain['Survived'] ## Assign the target variable to y by extracting the Survived column from df_titanicTrain"
      ]
    },
    {
      "cell_type": "code",
      "execution_count": 108,
      "id": "59e7d6be",
      "metadata": {
        "id": "59e7d6be"
      },
      "outputs": [],
      "source": [
        "from sklearn.model_selection import train_test_split # Import the train_test_split function from the sklearn.model_selection module"
      ]
    },
    {
      "cell_type": "code",
      "execution_count": 394,
      "id": "81eea817",
      "metadata": {
        "id": "81eea817"
      },
      "outputs": [],
      "source": [
        "X_train, X_test, y_train, y_test = train_test_split(X, y, test_size=0.3, random_state=19) ## Split the data into training and test sets"
      ]
    },
    {
      "cell_type": "code",
      "execution_count": 395,
      "id": "191cd917",
      "metadata": {
        "id": "191cd917"
      },
      "outputs": [],
      "source": [
        "class LogisticRegression:\n",
        "    def __init__(self, learning_rate=0.01, num_iterations=10000, num_classes=5):\n",
        "       # Initialize the hyperparameters for the logistic regression model\n",
        "        self.learning_rate = learning_rate\n",
        "        self.num_iterations = num_iterations\n",
        "        self.weights = None\n",
        "        self.num_classes = num_classes\n",
        "        # Calculate the softmax function\n",
        "    def softmax(self, z):\n",
        "        return np.exp(z) / np.sum(np.exp(z), axis=1, keepdims=True)\n",
        "    \n",
        "    def one_hot_encoding(self, y):\n",
        "      # Perform one-hot encoding on the target variable\n",
        "        one_hot = np.zeros((y.shape[0], self.num_classes))\n",
        "        one_hot[np.arange(y.shape[0]), y] = 1\n",
        "        return one_hot\n",
        "    \n",
        "    def loss(self, h, y_encoded):\n",
        "      # Calculate the cross-entropy loss for the model\n",
        "        return -np.mean(y_encoded * np.log(h))\n",
        "    \n",
        "    def fit(self, X, y):\n",
        "      # Add a column of ones to X to represent the bias term\n",
        "        X = np.hstack((np.ones((X.shape[0], 1)), X))\n",
        "        self.weights = np.zeros((X.shape[1], self.num_classes))\n",
        "        y_encoded = self.one_hot_encoding(y)\n",
        "         # Train the model using gradient descent \n",
        "        for i in range(self.num_iterations):\n",
        "            z = X @ self.weights\n",
        "            h = self.softmax(z)\n",
        "            gradient = X.T @ (h - y_encoded) / y.size\n",
        "            self.weights -= self.learning_rate * gradient\n",
        "           \n",
        "    def predict_probability(self, X):\n",
        "        # Add a column of ones to X to represent the bias term\n",
        "        X = np.hstack((np.ones((X.shape[0], 1)), X))\n",
        "        z = X @ self.weights\n",
        "        # Return the predicted class probabilities\n",
        "        return self.softmax(z)\n",
        "    \n",
        "    def predict(self, X):\n",
        "        # Return the predicted class labels\n",
        "        return np.argmax(self.predict_probability(X), axis=1)"
      ]
    },
    {
      "cell_type": "markdown",
      "source": [
        "Train a logistic regression model"
      ],
      "metadata": {
        "id": "jmFxOVfTmbSc"
      },
      "id": "jmFxOVfTmbSc"
    },
    {
      "cell_type": "code",
      "source": [
        "logmodel= LogisticRegression();"
      ],
      "metadata": {
        "id": "Jja3rO0fKRtk"
      },
      "id": "Jja3rO0fKRtk",
      "execution_count": 396,
      "outputs": []
    },
    {
      "cell_type": "code",
      "execution_count": 397,
      "id": "e6198dd9",
      "metadata": {
        "id": "e6198dd9"
      },
      "outputs": [],
      "source": [
        "logmodel.fit(X_train,y_train)"
      ]
    },
    {
      "cell_type": "markdown",
      "id": "29d43a0e",
      "metadata": {
        "id": "29d43a0e"
      },
      "source": [
        "#4. Model Evaluation"
      ]
    },
    {
      "cell_type": "markdown",
      "id": "loJwN8JT8I94",
      "metadata": {
        "id": "loJwN8JT8I94"
      },
      "source": [
        "# Prediction"
      ]
    },
    {
      "cell_type": "code",
      "execution_count": 398,
      "id": "9c62ba3d",
      "metadata": {
        "id": "9c62ba3d"
      },
      "outputs": [],
      "source": [
        "predictions = logmodel.predict(X_test)  # generate predictions for the test data."
      ]
    },
    {
      "cell_type": "code",
      "execution_count": 399,
      "id": "eb855473",
      "metadata": {
        "id": "eb855473"
      },
      "outputs": [],
      "source": [
        "from sklearn.metrics import classification_report  "
      ]
    },
    {
      "cell_type": "code",
      "execution_count": 400,
      "id": "8e7d07b1",
      "metadata": {
        "colab": {
          "base_uri": "https://localhost:8080/"
        },
        "id": "8e7d07b1",
        "outputId": "d20bcb66-0977-42cd-c53c-fcfcb6695585"
      },
      "outputs": [
        {
          "output_type": "stream",
          "name": "stdout",
          "text": [
            "              precision    recall  f1-score   support\n",
            "\n",
            "           0       0.70      0.98      0.82       175\n",
            "           1       0.83      0.22      0.34        92\n",
            "\n",
            "    accuracy                           0.72       267\n",
            "   macro avg       0.77      0.60      0.58       267\n",
            "weighted avg       0.75      0.72      0.66       267\n",
            "\n"
          ]
        }
      ],
      "source": [
        "print(classification_report(y_test,predictions))"
      ]
    },
    {
      "cell_type": "code",
      "execution_count": 401,
      "id": "2f851796",
      "metadata": {
        "id": "2f851796"
      },
      "outputs": [],
      "source": [
        "from sklearn.metrics import confusion_matrix"
      ]
    },
    {
      "cell_type": "code",
      "execution_count": 402,
      "id": "64b62586",
      "metadata": {
        "colab": {
          "base_uri": "https://localhost:8080/"
        },
        "id": "64b62586",
        "outputId": "4dd33794-c2be-4500-a3d5-9de4ba336db7"
      },
      "outputs": [
        {
          "output_type": "execute_result",
          "data": {
            "text/plain": [
              "array([[171,   4],\n",
              "       [ 72,  20]])"
            ]
          },
          "metadata": {},
          "execution_count": 402
        }
      ],
      "source": [
        "confusion_matrix(y_test,predictions) # Compute the confusion matrix"
      ]
    },
    {
      "cell_type": "code",
      "execution_count": 403,
      "id": "843074c6",
      "metadata": {
        "colab": {
          "base_uri": "https://localhost:8080/"
        },
        "id": "843074c6",
        "outputId": "b83b2cea-65c4-4a95-df70-77abf69664e3"
      },
      "outputs": [
        {
          "output_type": "execute_result",
          "data": {
            "text/plain": [
              "array([0, 0, 0, 1, 0, 0, 0, 0, 0, 0, 0, 0, 0, 0, 0, 0, 0, 1, 0, 0, 0, 0,\n",
              "       0, 0, 0, 0, 0, 0, 0, 0, 0, 0, 0, 0, 0, 0, 0, 0, 0, 0, 1, 0, 0, 0,\n",
              "       0, 0, 0, 0, 0, 0, 0, 0, 0, 0, 0, 0, 1, 1, 0, 0, 0, 0, 0, 0, 0, 0,\n",
              "       0, 0, 0, 0, 0, 0, 0, 0, 0, 0, 0, 0, 1, 0, 0, 0, 0, 1, 0, 0, 0, 0,\n",
              "       0, 1, 0, 0, 0, 0, 0, 0, 0, 1, 0, 0, 0, 1, 0, 0, 0, 0, 0, 0, 0, 0,\n",
              "       0, 0, 0, 0, 1, 0, 0, 0, 0, 1, 0, 0, 0, 0, 1, 0, 0, 0, 0, 0, 0, 0,\n",
              "       0, 0, 0, 1, 0, 0, 0, 0, 0, 0, 1, 1, 0, 0, 0, 0, 0, 0, 0, 0, 0, 0,\n",
              "       0, 0, 0, 0, 0, 1, 0, 1, 0, 0, 0, 0, 0, 0, 0, 0, 0, 0, 0, 0, 0, 0,\n",
              "       0, 0, 0, 0, 0, 0, 0, 0, 0, 0, 0, 0, 0, 1, 1, 0, 0, 0, 0, 0, 0, 0,\n",
              "       0, 0, 0, 0, 0, 0, 0, 0, 0, 0, 0, 0, 0, 0, 0, 0, 0, 0, 0, 0, 0, 0,\n",
              "       0, 1, 0, 0, 0, 0, 0, 0, 0, 0, 0, 0, 0, 0, 0, 0, 0, 0, 0, 0, 1, 0,\n",
              "       0, 0, 0, 0, 0, 0, 0, 0, 0, 0, 1, 1, 0, 0, 0, 0, 0, 0, 0, 0, 0, 0,\n",
              "       0, 0, 0])"
            ]
          },
          "metadata": {},
          "execution_count": 403
        }
      ],
      "source": [
        "predictions"
      ]
    },
    {
      "cell_type": "markdown",
      "source": [
        "- In model evaluation we can use  various metrics, such as accuracy, precision, recall, and F1 score, to assess the model's performance. To determine whether a model is overfitting or underfitting, compare its performance on the training set to its performance on the test set."
      ],
      "metadata": {
        "id": "uZ8JVyT5lB10"
      },
      "id": "uZ8JVyT5lB10"
    },
    {
      "cell_type": "code",
      "execution_count": 404,
      "id": "fee179c3",
      "metadata": {
        "id": "fee179c3"
      },
      "outputs": [],
      "source": [
        "from sklearn.metrics import classification_report #importing sklearn.metrics"
      ]
    },
    {
      "cell_type": "code",
      "execution_count": 405,
      "id": "d31b6b64",
      "metadata": {
        "colab": {
          "base_uri": "https://localhost:8080/"
        },
        "id": "d31b6b64",
        "outputId": "ead8bb1d-6da1-4b1e-f5f7-5b6e929dc46e"
      },
      "outputs": [
        {
          "output_type": "stream",
          "name": "stdout",
          "text": [
            "              precision    recall  f1-score   support\n",
            "\n",
            "           0       0.70      0.98      0.82       175\n",
            "           1       0.83      0.22      0.34        92\n",
            "\n",
            "    accuracy                           0.72       267\n",
            "   macro avg       0.77      0.60      0.58       267\n",
            "weighted avg       0.75      0.72      0.66       267\n",
            "\n"
          ]
        }
      ],
      "source": [
        "print(classification_report(y_test,predictions))  #evaluate the performance of a binary classification model."
      ]
    },
    {
      "cell_type": "markdown",
      "id": "-KVT_7XG6AlP",
      "metadata": {
        "id": "-KVT_7XG6AlP"
      },
      "source": [
        "# Accuracy"
      ]
    },
    {
      "cell_type": "code",
      "execution_count": 406,
      "id": "LK3TcKo_6HLg",
      "metadata": {
        "id": "LK3TcKo_6HLg"
      },
      "outputs": [],
      "source": [
        "from sklearn.metrics import accuracy_score  #accuracy of the binary classification model on the test data"
      ]
    },
    {
      "cell_type": "code",
      "execution_count": 407,
      "id": "GJONmuWG6CQv",
      "metadata": {
        "colab": {
          "base_uri": "https://localhost:8080/"
        },
        "id": "GJONmuWG6CQv",
        "outputId": "36d61a9c-177e-4071-82a8-4345781cbadd"
      },
      "outputs": [
        {
          "output_type": "stream",
          "name": "stdout",
          "text": [
            "The accuracy on test set using Logistic Regression is: 71.5%\n"
          ]
        }
      ],
      "source": [
        "#calculates the accuracy of the model\n",
        "\n",
        "accuracy = accuracy_score(predictions, y_test)\n",
        "\n",
        "print(f\"The accuracy on test set using Logistic Regression is: {np.round(accuracy, 3)*100.0}%\")"
      ]
    },
    {
      "cell_type": "markdown",
      "id": "9700d234",
      "metadata": {
        "id": "9700d234"
      },
      "source": [
        "# 5. **Dimensionality** Reuction"
      ]
    },
    {
      "cell_type": "code",
      "execution_count": 408,
      "id": "9722d509",
      "metadata": {
        "colab": {
          "base_uri": "https://localhost:8080/",
          "height": 519
        },
        "id": "9722d509",
        "outputId": "9b1a153a-71ac-40eb-af12-3d5bcea12a87"
      },
      "outputs": [
        {
          "output_type": "execute_result",
          "data": {
            "text/plain": [
              "     Actual  Predicted\n",
              "114       1          1\n",
              "0         0          0\n",
              "161       1          1\n",
              "219       1          0\n",
              "103       0          0\n",
              "197       0          0\n",
              "46        0          0\n",
              "65        0          0\n",
              "203       0          0\n",
              "243       0          0\n",
              "265       0          0\n",
              "217       0          0\n",
              "43        0          0\n",
              "63        0          0\n",
              "244       0          0"
            ],
            "text/html": [
              "\n",
              "  <div id=\"df-dcfba35a-ea9c-4b58-8207-b6e3d89d2eb2\">\n",
              "    <div class=\"colab-df-container\">\n",
              "      <div>\n",
              "<style scoped>\n",
              "    .dataframe tbody tr th:only-of-type {\n",
              "        vertical-align: middle;\n",
              "    }\n",
              "\n",
              "    .dataframe tbody tr th {\n",
              "        vertical-align: top;\n",
              "    }\n",
              "\n",
              "    .dataframe thead th {\n",
              "        text-align: right;\n",
              "    }\n",
              "</style>\n",
              "<table border=\"1\" class=\"dataframe\">\n",
              "  <thead>\n",
              "    <tr style=\"text-align: right;\">\n",
              "      <th></th>\n",
              "      <th>Actual</th>\n",
              "      <th>Predicted</th>\n",
              "    </tr>\n",
              "  </thead>\n",
              "  <tbody>\n",
              "    <tr>\n",
              "      <th>114</th>\n",
              "      <td>1</td>\n",
              "      <td>1</td>\n",
              "    </tr>\n",
              "    <tr>\n",
              "      <th>0</th>\n",
              "      <td>0</td>\n",
              "      <td>0</td>\n",
              "    </tr>\n",
              "    <tr>\n",
              "      <th>161</th>\n",
              "      <td>1</td>\n",
              "      <td>1</td>\n",
              "    </tr>\n",
              "    <tr>\n",
              "      <th>219</th>\n",
              "      <td>1</td>\n",
              "      <td>0</td>\n",
              "    </tr>\n",
              "    <tr>\n",
              "      <th>103</th>\n",
              "      <td>0</td>\n",
              "      <td>0</td>\n",
              "    </tr>\n",
              "    <tr>\n",
              "      <th>197</th>\n",
              "      <td>0</td>\n",
              "      <td>0</td>\n",
              "    </tr>\n",
              "    <tr>\n",
              "      <th>46</th>\n",
              "      <td>0</td>\n",
              "      <td>0</td>\n",
              "    </tr>\n",
              "    <tr>\n",
              "      <th>65</th>\n",
              "      <td>0</td>\n",
              "      <td>0</td>\n",
              "    </tr>\n",
              "    <tr>\n",
              "      <th>203</th>\n",
              "      <td>0</td>\n",
              "      <td>0</td>\n",
              "    </tr>\n",
              "    <tr>\n",
              "      <th>243</th>\n",
              "      <td>0</td>\n",
              "      <td>0</td>\n",
              "    </tr>\n",
              "    <tr>\n",
              "      <th>265</th>\n",
              "      <td>0</td>\n",
              "      <td>0</td>\n",
              "    </tr>\n",
              "    <tr>\n",
              "      <th>217</th>\n",
              "      <td>0</td>\n",
              "      <td>0</td>\n",
              "    </tr>\n",
              "    <tr>\n",
              "      <th>43</th>\n",
              "      <td>0</td>\n",
              "      <td>0</td>\n",
              "    </tr>\n",
              "    <tr>\n",
              "      <th>63</th>\n",
              "      <td>0</td>\n",
              "      <td>0</td>\n",
              "    </tr>\n",
              "    <tr>\n",
              "      <th>244</th>\n",
              "      <td>0</td>\n",
              "      <td>0</td>\n",
              "    </tr>\n",
              "  </tbody>\n",
              "</table>\n",
              "</div>\n",
              "      <button class=\"colab-df-convert\" onclick=\"convertToInteractive('df-dcfba35a-ea9c-4b58-8207-b6e3d89d2eb2')\"\n",
              "              title=\"Convert this dataframe to an interactive table.\"\n",
              "              style=\"display:none;\">\n",
              "        \n",
              "  <svg xmlns=\"http://www.w3.org/2000/svg\" height=\"24px\"viewBox=\"0 0 24 24\"\n",
              "       width=\"24px\">\n",
              "    <path d=\"M0 0h24v24H0V0z\" fill=\"none\"/>\n",
              "    <path d=\"M18.56 5.44l.94 2.06.94-2.06 2.06-.94-2.06-.94-.94-2.06-.94 2.06-2.06.94zm-11 1L8.5 8.5l.94-2.06 2.06-.94-2.06-.94L8.5 2.5l-.94 2.06-2.06.94zm10 10l.94 2.06.94-2.06 2.06-.94-2.06-.94-.94-2.06-.94 2.06-2.06.94z\"/><path d=\"M17.41 7.96l-1.37-1.37c-.4-.4-.92-.59-1.43-.59-.52 0-1.04.2-1.43.59L10.3 9.45l-7.72 7.72c-.78.78-.78 2.05 0 2.83L4 21.41c.39.39.9.59 1.41.59.51 0 1.02-.2 1.41-.59l7.78-7.78 2.81-2.81c.8-.78.8-2.07 0-2.86zM5.41 20L4 18.59l7.72-7.72 1.47 1.35L5.41 20z\"/>\n",
              "  </svg>\n",
              "      </button>\n",
              "      \n",
              "  <style>\n",
              "    .colab-df-container {\n",
              "      display:flex;\n",
              "      flex-wrap:wrap;\n",
              "      gap: 12px;\n",
              "    }\n",
              "\n",
              "    .colab-df-convert {\n",
              "      background-color: #E8F0FE;\n",
              "      border: none;\n",
              "      border-radius: 50%;\n",
              "      cursor: pointer;\n",
              "      display: none;\n",
              "      fill: #1967D2;\n",
              "      height: 32px;\n",
              "      padding: 0 0 0 0;\n",
              "      width: 32px;\n",
              "    }\n",
              "\n",
              "    .colab-df-convert:hover {\n",
              "      background-color: #E2EBFA;\n",
              "      box-shadow: 0px 1px 2px rgba(60, 64, 67, 0.3), 0px 1px 3px 1px rgba(60, 64, 67, 0.15);\n",
              "      fill: #174EA6;\n",
              "    }\n",
              "\n",
              "    [theme=dark] .colab-df-convert {\n",
              "      background-color: #3B4455;\n",
              "      fill: #D2E3FC;\n",
              "    }\n",
              "\n",
              "    [theme=dark] .colab-df-convert:hover {\n",
              "      background-color: #434B5C;\n",
              "      box-shadow: 0px 1px 3px 1px rgba(0, 0, 0, 0.15);\n",
              "      filter: drop-shadow(0px 1px 2px rgba(0, 0, 0, 0.3));\n",
              "      fill: #FFFFFF;\n",
              "    }\n",
              "  </style>\n",
              "\n",
              "      <script>\n",
              "        const buttonEl =\n",
              "          document.querySelector('#df-dcfba35a-ea9c-4b58-8207-b6e3d89d2eb2 button.colab-df-convert');\n",
              "        buttonEl.style.display =\n",
              "          google.colab.kernel.accessAllowed ? 'block' : 'none';\n",
              "\n",
              "        async function convertToInteractive(key) {\n",
              "          const element = document.querySelector('#df-dcfba35a-ea9c-4b58-8207-b6e3d89d2eb2');\n",
              "          const dataTable =\n",
              "            await google.colab.kernel.invokeFunction('convertToInteractive',\n",
              "                                                     [key], {});\n",
              "          if (!dataTable) return;\n",
              "\n",
              "          const docLinkHtml = 'Like what you see? Visit the ' +\n",
              "            '<a target=\"_blank\" href=https://colab.research.google.com/notebooks/data_table.ipynb>data table notebook</a>'\n",
              "            + ' to learn more about interactive tables.';\n",
              "          element.innerHTML = '';\n",
              "          dataTable['output_type'] = 'display_data';\n",
              "          await google.colab.output.renderOutput(dataTable, element);\n",
              "          const docLink = document.createElement('div');\n",
              "          docLink.innerHTML = docLinkHtml;\n",
              "          element.appendChild(docLink);\n",
              "        }\n",
              "      </script>\n",
              "    </div>\n",
              "  </div>\n",
              "  "
            ]
          },
          "metadata": {},
          "execution_count": 408
        }
      ],
      "source": [
        "from sklearn.decomposition import PCA\n",
        "\n",
        "pca = PCA(n_components=3)\n",
        "\n",
        "# Fit and transform the first_train dataset using the sc instance of StandardScaler\n",
        "first_train1 = pca.fit_transform(X_train)\n",
        "\n",
        "# Transform the first_test dataset using the sc instance of StandardScaler\n",
        "first_test1 = pca.transform(X_test)\n",
        "\n",
        "# Create an instance of the LogisticRegression class\n",
        "log_reg1 = LogisticRegression()\n",
        "\n",
        "# Fit the logistic regression model to the first_train and second_train datasets\n",
        "log_reg1.fit(first_train1, y_train)\n",
        "\n",
        "# predicting the target vectors\n",
        "second_pred1=log_reg1.predict(first_test1)\n",
        "\n",
        "# Predict the target values for the first_test dataset using the trained logistic regression model\n",
        "log_reg_pred1 = log_reg1.predict(first_test1)\n",
        "\n",
        "# Create a dataframe to display the actual target values and the predicted target values\n",
        "result1 = pd.DataFrame(np.c_[y_test, log_reg_pred1], columns=['Actual', 'Predicted'])\n",
        "\n",
        "# Display the first 5 rows of the result dataframe\n",
        "result1.sample(15)"
      ]
    },
    {
      "cell_type": "code",
      "execution_count": 409,
      "id": "a6c16696",
      "metadata": {
        "colab": {
          "base_uri": "https://localhost:8080/"
        },
        "id": "a6c16696",
        "outputId": "255e2721-0de2-4091-8535-0d27a73ed64e"
      },
      "outputs": [
        {
          "output_type": "stream",
          "name": "stdout",
          "text": [
            "              precision    recall  f1-score   support\n",
            "\n",
            "           0       0.73      0.87      0.80       175\n",
            "           1       0.62      0.39      0.48        92\n",
            "\n",
            "    accuracy                           0.71       267\n",
            "   macro avg       0.68      0.63      0.64       267\n",
            "weighted avg       0.69      0.71      0.69       267\n",
            "\n"
          ]
        }
      ],
      "source": [
        "# getting precision, recall and f1-score via classification report using PCA\n",
        "\n",
        "print(classification_report(y_test, second_pred1))"
      ]
    },
    {
      "cell_type": "code",
      "execution_count": 410,
      "id": "63471d54",
      "metadata": {
        "colab": {
          "base_uri": "https://localhost:8080/"
        },
        "id": "63471d54",
        "outputId": "b15a1375-e642-4abe-c1be-0adbaa1f2d1f"
      },
      "outputs": [
        {
          "output_type": "stream",
          "name": "stdout",
          "text": [
            "The accuracy on test set using Logistic Regression(With PCA) is: 70.8%\n"
          ]
        }
      ],
      "source": [
        "# Calculate the accuracy of the logistic regression model using PCA\n",
        "accuracy1 = accuracy_score(second_pred1, y_test)\n",
        "\n",
        "# Print the accuracy of the model, rounded to 3 decimal places and expressed as a percentage using PCA\n",
        "print(f\"The accuracy on test set using Logistic Regression(With PCA) is: {np.round(accuracy1, 3)*100.0}%\")"
      ]
    },
    {
      "cell_type": "markdown",
      "id": "2NrQliJw7e5u",
      "metadata": {
        "id": "2NrQliJw7e5u"
      },
      "source": [
        "# Confusion Matrix"
      ]
    },
    {
      "cell_type": "markdown",
      "id": "c09524b2",
      "metadata": {
        "id": "c09524b2"
      },
      "source": [
        "- It summarizes the number of correct and incorrect predictions made by the model on the test data.The confusion matrix obtained by training a classifier and evaluating the trained model on this test dataset.\n",
        "- In Python, we ahe option to output the confusion matrix as a heatmap using the ConfusionMatrixDisplay function, visually showcasing which cases have a more significant error rate. However, to use the heatmap, it is wiser to use a normalized confusion matrix because the dataset may be imbalanced. Thus, the representation in such cases might not be accurate. "
      ]
    },
    {
      "cell_type": "code",
      "execution_count": 411,
      "id": "cHgwjvMc7bHq",
      "metadata": {
        "colab": {
          "base_uri": "https://localhost:8080/"
        },
        "id": "cHgwjvMc7bHq",
        "outputId": "9a5072b5-4579-4d7a-8cc5-05f7f0654bbe"
      },
      "outputs": [
        {
          "output_type": "execute_result",
          "data": {
            "text/plain": [
              "array([[171,   4],\n",
              "       [ 72,  20]])"
            ]
          },
          "metadata": {},
          "execution_count": 411
        }
      ],
      "source": [
        "confusion_matrix(y_test, predictions) # compute various metrics"
      ]
    },
    {
      "cell_type": "code",
      "execution_count": 412,
      "id": "17UMitGX7hun",
      "metadata": {
        "colab": {
          "base_uri": "https://localhost:8080/",
          "height": 458
        },
        "id": "17UMitGX7hun",
        "outputId": "ecfea331-e1ae-40b7-ad67-ffb04f4f5e5b"
      },
      "outputs": [
        {
          "output_type": "display_data",
          "data": {
            "text/plain": [
              "<Figure size 720x504 with 2 Axes>"
            ],
            "image/png": "[encoded data removed]"
          },
          "metadata": {
            "needs_background": "light"
          }
        }
      ],
      "source": [
        "# creating confusion matrix heatmap\n",
        "\n",
        "\n",
        "# Create a DataFrame of the confusion matrix with the \"confusion_matrix\" function\n",
        "conf_mat = pd.DataFrame(confusion_matrix(predictions, y_test))\n",
        "\n",
        "# Create a figure with a specific size using matplotlib's \"figure\" function\n",
        "fig = plt.figure(figsize=(10,7))\n",
        "\n",
        "# Plot the confusion matrix as a heatmap using seaborn's \"heatmap\" function\n",
        "sns.heatmap(conf_mat, annot=True, annot_kws={\"size\": 16}, fmt='g')\n",
        "\n",
        "# Add a title to the plot using matplotlib's \"title\" function\n",
        "plt.title(\"Confusion Matrix\")\n",
        "\n",
        "# Label the x-axis using matplotlib's \"xlabel\" function\n",
        "plt.xlabel(\"Predicted Label\")\n",
        "\n",
        "# Label the y-axis using matplotlib's \"ylabel\" function\n",
        "plt.ylabel(\"True Label\")\n",
        "\n",
        "# Display the plot using matplotlib's \"show\" function\n",
        "plt.show()"
      ]
    },
    {
      "cell_type": "markdown",
      "source": [
        "# **Conclusion**"
      ],
      "metadata": {
        "id": "Yo7zj7C2kDxv"
      },
      "id": "Yo7zj7C2kDxv"
    },
    {
      "cell_type": "markdown",
      "source": [
        "- The Titanic dataset from Kaggle is a well-known dataset used for predictive modeling and machine learning. Logistic regression is a commonly used method for binary classification problems, such as the problem of predicting survival on the Titanic.In the context of the Titanic dataset, the logistic regression model can be trained on the available features, such as passenger age, fare, and class, to predict whether a passenger survived or not. Based on its accuracy, precision, recall, and F1 score, the logistic regression model can be evaluated on the Titanic dataset. Overall, logistic regression can be a useful tool for analyzing the Titanic dataset and making predictions about passenger survival. However, it's important to keep in mind that the performance of the model can be influenced by the choice of features, the sample size, and the presence of outliers or confounding variables in the data.\n",
        "- The accuracy of this module is concluded to be 70.8%\n",
        "\n",
        "\n",
        "To improve things in this model for future:\n",
        "1. Use categorical data of Pclass. (use dummy variables instead of 1,2,3).\n",
        "2. Remove Embarked dummy variables and replace with categorical Pclass dummy variables\n"
      ],
      "metadata": {
        "id": "MtrJKzLIjSZD"
      },
      "id": "MtrJKzLIjSZD"
    }
  ],
  "metadata": {
    "colab": {
      "provenance": []
    },
    "kernelspec": {
      "display_name": "Python 3",
      "language": "python",
      "name": "python3"
    },
    "language_info": {
      "codemirror_mode": {
        "name": "ipython",
        "version": 3
      },
      "file_extension": ".py",
      "mimetype": "text/x-python",
      "name": "python",
      "nbconvert_exporter": "python",
      "pygments_lexer": "ipython3",
      "version": "3.10.7"
    },
    "papermill": {
      "default_parameters": {},
      "duration": 38.222222,
      "end_time": "2022-02-02T16:20:28.941433",
      "environment_variables": {},
      "exception": null,
      "input_path": "__notebook__.ipynb",
      "output_path": "__notebook__.ipynb",
      "parameters": {},
      "start_time": "2022-02-02T16:19:50.719211",
      "version": "2.3.3"
    },
    "vscode": {
      "interpreter": {
        "hash": "52634da84371cba311ea128a5ea7cdc41ff074b781779e754b270ff9f8153cee"
      }
    }
  },
  "nbformat": 4,
  "nbformat_minor": 5
}