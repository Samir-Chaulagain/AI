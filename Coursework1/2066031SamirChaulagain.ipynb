{
  "cells": [
    {
      "cell_type": "markdown",
      "metadata": {
        "id": "tmR_C50x552O"
      },
      "source": [
        "**Name**:-  Samir Chaulagain\n",
        "\n",
        "**University ID**:-  2066031\n",
        "\n",
        "**Module leader**:- Siman Giri\n",
        "\n",
        "**Tutor**:-Anmol Adhikari\n"
      ]
    },
    {
      "cell_type": "markdown",
      "metadata": {
        "id": "JHRcTjPh6VxM"
      },
      "source": [
        "6 Tasks and Marks Division.\n",
        "\n",
        "6.1 Data Understanding and Cleaning: [1]\n",
        "\n",
        "1. Use pandas to upload your data.\n",
        "\n",
        "2. Once you make your initial observation, please explain why do you think the data was collected, what kind of information you can extract from the dataset. Please write your answer in text cell of the Jupyter Notebook.\n",
        "3. Check for null values and datatypes for all the columns present in the dataset."
      ]
    },
    {
      "cell_type": "markdown",
      "metadata": {
        "id": "7SImEhKdN3eg"
      },
      "source": [
        "-Ans:-\n",
        " - Importing 4 library of python  for Statistical Interpretation and Data Visualization(Numpy,Matplotlib,seaborn and pandas)\n",
        " - Mounting Google drive \n",
        " - Storing path of dataset in variable\n",
        " \n",
        "\n"
      ]
    },
    {
      "cell_type": "code",
      "execution_count": 5,
      "metadata": {
        "id": "wHxfAE8P5zwP"
      },
      "outputs": [],
      "source": [
        "\n",
        "#Necessary imports:\n",
        "import numpy as np\n",
        "#mathmetics calculation\n",
        "import matplotlib.pyplot as plt\n",
        "# for data visulalization \n",
        "import seaborn as sns\n",
        "import pandas as pd\n",
        "# for data manipulation"
      ]
    },
    {
      "cell_type": "code",
      "execution_count": null,
      "metadata": {
        "colab": {
          "base_uri": "https://localhost:8080/"
        },
        "id": "5tngxQzk6n5V",
        "outputId": "af50cd67-5146-4128-f4fb-9873ec3cb9af"
      },
      "outputs": [
        {
          "name": "stdout",
          "output_type": "stream",
          "text": [
            "Mounted at /content/drive\n"
          ]
        }
      ],
      "source": [
        "#mounting google drive\n",
        "from google.colab import drive\n",
        "drive.mount('/content/drive')"
      ]
    },
    {
      "cell_type": "code",
      "execution_count": null,
      "metadata": {
        "id": "Qe8S273R6vvV"
      },
      "outputs": [],
      "source": [
        "#path of dataset\n",
        "path_datasets=\"/content/drive/MyDrive/Course work/performance.csv\""
      ]
    },
    {
      "cell_type": "markdown",
      "metadata": {
        "id": "q4CcounSaGVc"
      },
      "source": [
        "- \"pd.read\" reads the csv file .i.e stored in df which is resulting dataframe.\n",
        "- It can be manipulated and analyzed"
      ]
    },
    {
      "cell_type": "code",
      "execution_count": null,
      "metadata": {
        "id": "EFN8IJWS6zHF"
      },
      "outputs": [],
      "source": [
        "df=pd.read_csv(path_datasets)"
      ]
    },
    {
      "cell_type": "markdown",
      "metadata": {
        "id": "aWNuWMCClYi9"
      },
      "source": [
        "2. Once you make your initial observation, please explain why do you think the data was collected, what kind of information you can extract from the dataset. Please write your answer in text cell of the Jupyter Notebook."
      ]
    },
    {
      "cell_type": "markdown",
      "metadata": {
        "id": "XaP1HoQRlilV"
      },
      "source": [
        "- This \"performance.csv\" contains data on student achievement in secondary education at two schools, \"Gabriel Pereira\" and \"Mousinho da Silveira\". Among the dataset's attributes are student grades in demographics, social studies, and mathematics, as well as many other school-related characteristics, all collected via school reports and questionnaires. We have collected student details from two schools. Using this data, we are able to analyze and also visualize the details of the parents of each student, the educational details with the acquired marks, the absences, and many other factors. Datasets consist of a collection of structured and organized data that are organized for a particular purpose. We can extract numeric data, categorical data, text data, such as travel times, study time, Fjob, Mjob, etc.\n",
        "\n",
        "  This dataset keeps record of 395 students obtained mark. This type of datasets are provideed to school to keep the record of students. It is very important to track record to monitor the students behaviour. "
      ]
    },
    {
      "cell_type": "code",
      "execution_count": null,
      "metadata": {
        "colab": {
          "base_uri": "https://localhost:8080/",
          "height": 835
        },
        "id": "lWjRbofg65sl",
        "outputId": "4dc30b19-41f3-4dec-e226-7726a6079334"
      },
      "outputs": [
        {
          "data": {
            "text/html": [
              "\n",
              "  <div id=\"df-86ecc8f3-ad64-4291-94d6-789d45f153b5\">\n",
              "    <div class=\"colab-df-container\">\n",
              "      <div>\n",
              "<style scoped>\n",
              "    .dataframe tbody tr th:only-of-type {\n",
              "        vertical-align: middle;\n",
              "    }\n",
              "\n",
              "    .dataframe tbody tr th {\n",
              "        vertical-align: top;\n",
              "    }\n",
              "\n",
              "    .dataframe thead th {\n",
              "        text-align: right;\n",
              "    }\n",
              "</style>\n",
              "<table border=\"1\" class=\"dataframe\">\n",
              "  <thead>\n",
              "    <tr style=\"text-align: right;\">\n",
              "      <th></th>\n",
              "      <th>school</th>\n",
              "      <th>sex</th>\n",
              "      <th>age</th>\n",
              "      <th>address</th>\n",
              "      <th>famsize</th>\n",
              "      <th>Pstatus</th>\n",
              "      <th>Medu</th>\n",
              "      <th>Fedu</th>\n",
              "      <th>Mjob</th>\n",
              "      <th>Fjob</th>\n",
              "      <th>...</th>\n",
              "      <th>romantic_Binary</th>\n",
              "      <th>Medu_ON</th>\n",
              "      <th>Fedu_ON</th>\n",
              "      <th>reason_ON</th>\n",
              "      <th>guardain_ON</th>\n",
              "      <th>studytime_ON</th>\n",
              "      <th>freetime_ON</th>\n",
              "      <th>health_ON</th>\n",
              "      <th>passed</th>\n",
              "      <th>category_age</th>\n",
              "    </tr>\n",
              "  </thead>\n",
              "  <tbody>\n",
              "    <tr>\n",
              "      <th>0</th>\n",
              "      <td>GP</td>\n",
              "      <td>F</td>\n",
              "      <td>18</td>\n",
              "      <td>U</td>\n",
              "      <td>GT3</td>\n",
              "      <td>A</td>\n",
              "      <td>higher education</td>\n",
              "      <td>higher education</td>\n",
              "      <td>at_home</td>\n",
              "      <td>teacher</td>\n",
              "      <td>...</td>\n",
              "      <td>0</td>\n",
              "      <td>4</td>\n",
              "      <td>4</td>\n",
              "      <td>3</td>\n",
              "      <td>2</td>\n",
              "      <td>1</td>\n",
              "      <td>2</td>\n",
              "      <td>2</td>\n",
              "      <td>no</td>\n",
              "      <td>2</td>\n",
              "    </tr>\n",
              "    <tr>\n",
              "      <th>1</th>\n",
              "      <td>GP</td>\n",
              "      <td>F</td>\n",
              "      <td>17</td>\n",
              "      <td>U</td>\n",
              "      <td>GT3</td>\n",
              "      <td>T</td>\n",
              "      <td>primary education (4th grade)</td>\n",
              "      <td>primary education (4th grade)</td>\n",
              "      <td>at_home</td>\n",
              "      <td>other</td>\n",
              "      <td>...</td>\n",
              "      <td>0</td>\n",
              "      <td>1</td>\n",
              "      <td>1</td>\n",
              "      <td>3</td>\n",
              "      <td>1</td>\n",
              "      <td>1</td>\n",
              "      <td>2</td>\n",
              "      <td>2</td>\n",
              "      <td>no</td>\n",
              "      <td>1</td>\n",
              "    </tr>\n",
              "    <tr>\n",
              "      <th>2</th>\n",
              "      <td>GP</td>\n",
              "      <td>F</td>\n",
              "      <td>15</td>\n",
              "      <td>U</td>\n",
              "      <td>LE3</td>\n",
              "      <td>T</td>\n",
              "      <td>primary education (4th grade)</td>\n",
              "      <td>primary education (4th grade)</td>\n",
              "      <td>at_home</td>\n",
              "      <td>other</td>\n",
              "      <td>...</td>\n",
              "      <td>0</td>\n",
              "      <td>1</td>\n",
              "      <td>1</td>\n",
              "      <td>0</td>\n",
              "      <td>2</td>\n",
              "      <td>1</td>\n",
              "      <td>2</td>\n",
              "      <td>2</td>\n",
              "      <td>yes</td>\n",
              "      <td>1</td>\n",
              "    </tr>\n",
              "    <tr>\n",
              "      <th>3</th>\n",
              "      <td>GP</td>\n",
              "      <td>F</td>\n",
              "      <td>15</td>\n",
              "      <td>U</td>\n",
              "      <td>GT3</td>\n",
              "      <td>T</td>\n",
              "      <td>higher education</td>\n",
              "      <td>5th to 9th grade</td>\n",
              "      <td>health</td>\n",
              "      <td>services</td>\n",
              "      <td>...</td>\n",
              "      <td>1</td>\n",
              "      <td>4</td>\n",
              "      <td>2</td>\n",
              "      <td>2</td>\n",
              "      <td>2</td>\n",
              "      <td>2</td>\n",
              "      <td>1</td>\n",
              "      <td>4</td>\n",
              "      <td>yes</td>\n",
              "      <td>1</td>\n",
              "    </tr>\n",
              "    <tr>\n",
              "      <th>4</th>\n",
              "      <td>GP</td>\n",
              "      <td>F</td>\n",
              "      <td>16</td>\n",
              "      <td>U</td>\n",
              "      <td>GT3</td>\n",
              "      <td>T</td>\n",
              "      <td>secondary education</td>\n",
              "      <td>secondary education</td>\n",
              "      <td>other</td>\n",
              "      <td>other</td>\n",
              "      <td>...</td>\n",
              "      <td>0</td>\n",
              "      <td>3</td>\n",
              "      <td>3</td>\n",
              "      <td>2</td>\n",
              "      <td>1</td>\n",
              "      <td>1</td>\n",
              "      <td>2</td>\n",
              "      <td>4</td>\n",
              "      <td>yes</td>\n",
              "      <td>1</td>\n",
              "    </tr>\n",
              "    <tr>\n",
              "      <th>...</th>\n",
              "      <td>...</td>\n",
              "      <td>...</td>\n",
              "      <td>...</td>\n",
              "      <td>...</td>\n",
              "      <td>...</td>\n",
              "      <td>...</td>\n",
              "      <td>...</td>\n",
              "      <td>...</td>\n",
              "      <td>...</td>\n",
              "      <td>...</td>\n",
              "      <td>...</td>\n",
              "      <td>...</td>\n",
              "      <td>...</td>\n",
              "      <td>...</td>\n",
              "      <td>...</td>\n",
              "      <td>...</td>\n",
              "      <td>...</td>\n",
              "      <td>...</td>\n",
              "      <td>...</td>\n",
              "      <td>...</td>\n",
              "      <td>...</td>\n",
              "    </tr>\n",
              "    <tr>\n",
              "      <th>390</th>\n",
              "      <td>MS</td>\n",
              "      <td>M</td>\n",
              "      <td>20</td>\n",
              "      <td>U</td>\n",
              "      <td>LE3</td>\n",
              "      <td>A</td>\n",
              "      <td>5th to 9th grade</td>\n",
              "      <td>5th to 9th grade</td>\n",
              "      <td>services</td>\n",
              "      <td>services</td>\n",
              "      <td>...</td>\n",
              "      <td>0</td>\n",
              "      <td>2</td>\n",
              "      <td>2</td>\n",
              "      <td>3</td>\n",
              "      <td>0</td>\n",
              "      <td>1</td>\n",
              "      <td>4</td>\n",
              "      <td>3</td>\n",
              "      <td>yes</td>\n",
              "      <td>2</td>\n",
              "    </tr>\n",
              "    <tr>\n",
              "      <th>391</th>\n",
              "      <td>MS</td>\n",
              "      <td>M</td>\n",
              "      <td>17</td>\n",
              "      <td>U</td>\n",
              "      <td>LE3</td>\n",
              "      <td>T</td>\n",
              "      <td>secondary education</td>\n",
              "      <td>primary education (4th grade)</td>\n",
              "      <td>services</td>\n",
              "      <td>services</td>\n",
              "      <td>...</td>\n",
              "      <td>0</td>\n",
              "      <td>3</td>\n",
              "      <td>1</td>\n",
              "      <td>3</td>\n",
              "      <td>2</td>\n",
              "      <td>0</td>\n",
              "      <td>3</td>\n",
              "      <td>1</td>\n",
              "      <td>yes</td>\n",
              "      <td>1</td>\n",
              "    </tr>\n",
              "    <tr>\n",
              "      <th>392</th>\n",
              "      <td>MS</td>\n",
              "      <td>M</td>\n",
              "      <td>21</td>\n",
              "      <td>R</td>\n",
              "      <td>GT3</td>\n",
              "      <td>T</td>\n",
              "      <td>primary education (4th grade)</td>\n",
              "      <td>primary education (4th grade)</td>\n",
              "      <td>other</td>\n",
              "      <td>other</td>\n",
              "      <td>...</td>\n",
              "      <td>0</td>\n",
              "      <td>1</td>\n",
              "      <td>1</td>\n",
              "      <td>3</td>\n",
              "      <td>0</td>\n",
              "      <td>0</td>\n",
              "      <td>4</td>\n",
              "      <td>2</td>\n",
              "      <td>no</td>\n",
              "      <td>3</td>\n",
              "    </tr>\n",
              "    <tr>\n",
              "      <th>393</th>\n",
              "      <td>MS</td>\n",
              "      <td>M</td>\n",
              "      <td>18</td>\n",
              "      <td>R</td>\n",
              "      <td>LE3</td>\n",
              "      <td>T</td>\n",
              "      <td>secondary education</td>\n",
              "      <td>5th to 9th grade</td>\n",
              "      <td>services</td>\n",
              "      <td>other</td>\n",
              "      <td>...</td>\n",
              "      <td>0</td>\n",
              "      <td>3</td>\n",
              "      <td>2</td>\n",
              "      <td>3</td>\n",
              "      <td>2</td>\n",
              "      <td>0</td>\n",
              "      <td>3</td>\n",
              "      <td>4</td>\n",
              "      <td>yes</td>\n",
              "      <td>2</td>\n",
              "    </tr>\n",
              "    <tr>\n",
              "      <th>394</th>\n",
              "      <td>MS</td>\n",
              "      <td>M</td>\n",
              "      <td>19</td>\n",
              "      <td>U</td>\n",
              "      <td>LE3</td>\n",
              "      <td>T</td>\n",
              "      <td>primary education (4th grade)</td>\n",
              "      <td>primary education (4th grade)</td>\n",
              "      <td>other</td>\n",
              "      <td>at_home</td>\n",
              "      <td>...</td>\n",
              "      <td>0</td>\n",
              "      <td>1</td>\n",
              "      <td>1</td>\n",
              "      <td>3</td>\n",
              "      <td>1</td>\n",
              "      <td>0</td>\n",
              "      <td>1</td>\n",
              "      <td>4</td>\n",
              "      <td>yes</td>\n",
              "      <td>2</td>\n",
              "    </tr>\n",
              "  </tbody>\n",
              "</table>\n",
              "<p>395 rows × 51 columns</p>\n",
              "</div>\n",
              "      <button class=\"colab-df-convert\" onclick=\"convertToInteractive('df-86ecc8f3-ad64-4291-94d6-789d45f153b5')\"\n",
              "              title=\"Convert this dataframe to an interactive table.\"\n",
              "              style=\"display:none;\">\n",
              "        \n",
              "  <svg xmlns=\"http://www.w3.org/2000/svg\" height=\"24px\"viewBox=\"0 0 24 24\"\n",
              "       width=\"24px\">\n",
              "    <path d=\"M0 0h24v24H0V0z\" fill=\"none\"/>\n",
              "    <path d=\"M18.56 5.44l.94 2.06.94-2.06 2.06-.94-2.06-.94-.94-2.06-.94 2.06-2.06.94zm-11 1L8.5 8.5l.94-2.06 2.06-.94-2.06-.94L8.5 2.5l-.94 2.06-2.06.94zm10 10l.94 2.06.94-2.06 2.06-.94-2.06-.94-.94-2.06-.94 2.06-2.06.94z\"/><path d=\"M17.41 7.96l-1.37-1.37c-.4-.4-.92-.59-1.43-.59-.52 0-1.04.2-1.43.59L10.3 9.45l-7.72 7.72c-.78.78-.78 2.05 0 2.83L4 21.41c.39.39.9.59 1.41.59.51 0 1.02-.2 1.41-.59l7.78-7.78 2.81-2.81c.8-.78.8-2.07 0-2.86zM5.41 20L4 18.59l7.72-7.72 1.47 1.35L5.41 20z\"/>\n",
              "  </svg>\n",
              "      </button>\n",
              "      \n",
              "  <style>\n",
              "    .colab-df-container {\n",
              "      display:flex;\n",
              "      flex-wrap:wrap;\n",
              "      gap: 12px;\n",
              "    }\n",
              "\n",
              "    .colab-df-convert {\n",
              "      background-color: #E8F0FE;\n",
              "      border: none;\n",
              "      border-radius: 50%;\n",
              "      cursor: pointer;\n",
              "      display: none;\n",
              "      fill: #1967D2;\n",
              "      height: 32px;\n",
              "      padding: 0 0 0 0;\n",
              "      width: 32px;\n",
              "    }\n",
              "\n",
              "    .colab-df-convert:hover {\n",
              "      background-color: #E2EBFA;\n",
              "      box-shadow: 0px 1px 2px rgba(60, 64, 67, 0.3), 0px 1px 3px 1px rgba(60, 64, 67, 0.15);\n",
              "      fill: #174EA6;\n",
              "    }\n",
              "\n",
              "    [theme=dark] .colab-df-convert {\n",
              "      background-color: #3B4455;\n",
              "      fill: #D2E3FC;\n",
              "    }\n",
              "\n",
              "    [theme=dark] .colab-df-convert:hover {\n",
              "      background-color: #434B5C;\n",
              "      box-shadow: 0px 1px 3px 1px rgba(0, 0, 0, 0.15);\n",
              "      filter: drop-shadow(0px 1px 2px rgba(0, 0, 0, 0.3));\n",
              "      fill: #FFFFFF;\n",
              "    }\n",
              "  </style>\n",
              "\n",
              "      <script>\n",
              "        const buttonEl =\n",
              "          document.querySelector('#df-86ecc8f3-ad64-4291-94d6-789d45f153b5 button.colab-df-convert');\n",
              "        buttonEl.style.display =\n",
              "          google.colab.kernel.accessAllowed ? 'block' : 'none';\n",
              "\n",
              "        async function convertToInteractive(key) {\n",
              "          const element = document.querySelector('#df-86ecc8f3-ad64-4291-94d6-789d45f153b5');\n",
              "          const dataTable =\n",
              "            await google.colab.kernel.invokeFunction('convertToInteractive',\n",
              "                                                     [key], {});\n",
              "          if (!dataTable) return;\n",
              "\n",
              "          const docLinkHtml = 'Like what you see? Visit the ' +\n",
              "            '<a target=\"_blank\" href=https://colab.research.google.com/notebooks/data_table.ipynb>data table notebook</a>'\n",
              "            + ' to learn more about interactive tables.';\n",
              "          element.innerHTML = '';\n",
              "          dataTable['output_type'] = 'display_data';\n",
              "          await google.colab.output.renderOutput(dataTable, element);\n",
              "          const docLink = document.createElement('div');\n",
              "          docLink.innerHTML = docLinkHtml;\n",
              "          element.appendChild(docLink);\n",
              "        }\n",
              "      </script>\n",
              "    </div>\n",
              "  </div>\n",
              "  "
            ],
            "text/plain": [
              "    school sex  age address famsize Pstatus                           Medu  \\\n",
              "0       GP   F   18       U     GT3       A               higher education   \n",
              "1       GP   F   17       U     GT3       T  primary education (4th grade)   \n",
              "2       GP   F   15       U     LE3       T  primary education (4th grade)   \n",
              "3       GP   F   15       U     GT3       T               higher education   \n",
              "4       GP   F   16       U     GT3       T            secondary education   \n",
              "..     ...  ..  ...     ...     ...     ...                            ...   \n",
              "390     MS   M   20       U     LE3       A               5th to 9th grade   \n",
              "391     MS   M   17       U     LE3       T            secondary education   \n",
              "392     MS   M   21       R     GT3       T  primary education (4th grade)   \n",
              "393     MS   M   18       R     LE3       T            secondary education   \n",
              "394     MS   M   19       U     LE3       T  primary education (4th grade)   \n",
              "\n",
              "                              Fedu      Mjob      Fjob  ... romantic_Binary  \\\n",
              "0                 higher education   at_home   teacher  ...               0   \n",
              "1    primary education (4th grade)   at_home     other  ...               0   \n",
              "2    primary education (4th grade)   at_home     other  ...               0   \n",
              "3                 5th to 9th grade    health  services  ...               1   \n",
              "4              secondary education     other     other  ...               0   \n",
              "..                             ...       ...       ...  ...             ...   \n",
              "390               5th to 9th grade  services  services  ...               0   \n",
              "391  primary education (4th grade)  services  services  ...               0   \n",
              "392  primary education (4th grade)     other     other  ...               0   \n",
              "393               5th to 9th grade  services     other  ...               0   \n",
              "394  primary education (4th grade)     other   at_home  ...               0   \n",
              "\n",
              "    Medu_ON Fedu_ON reason_ON  guardain_ON studytime_ON freetime_ON health_ON  \\\n",
              "0         4       4         3            2            1           2         2   \n",
              "1         1       1         3            1            1           2         2   \n",
              "2         1       1         0            2            1           2         2   \n",
              "3         4       2         2            2            2           1         4   \n",
              "4         3       3         2            1            1           2         4   \n",
              "..      ...     ...       ...          ...          ...         ...       ...   \n",
              "390       2       2         3            0            1           4         3   \n",
              "391       3       1         3            2            0           3         1   \n",
              "392       1       1         3            0            0           4         2   \n",
              "393       3       2         3            2            0           3         4   \n",
              "394       1       1         3            1            0           1         4   \n",
              "\n",
              "    passed category_age  \n",
              "0       no            2  \n",
              "1       no            1  \n",
              "2      yes            1  \n",
              "3      yes            1  \n",
              "4      yes            1  \n",
              "..     ...          ...  \n",
              "390    yes            2  \n",
              "391    yes            1  \n",
              "392     no            3  \n",
              "393    yes            2  \n",
              "394    yes            2  \n",
              "\n",
              "[395 rows x 51 columns]"
            ]
          },
          "execution_count": 77,
          "metadata": {},
          "output_type": "execute_result"
        }
      ],
      "source": [
        "df #to display dataframe"
      ]
    },
    {
      "cell_type": "code",
      "execution_count": null,
      "metadata": {
        "colab": {
          "base_uri": "https://localhost:8080/"
        },
        "id": "eUwvUXJV7F2d",
        "outputId": "4fcee393-bf59-4cb1-d214-8b338ee43aa7"
      },
      "outputs": [
        {
          "name": "stdout",
          "output_type": "stream",
          "text": [
            "<class 'pandas.core.frame.DataFrame'>\n",
            "RangeIndex: 395 entries, 0 to 394\n",
            "Data columns (total 33 columns):\n",
            " #   Column      Non-Null Count  Dtype \n",
            "---  ------      --------------  ----- \n",
            " 0   school      395 non-null    object\n",
            " 1   sex         395 non-null    object\n",
            " 2   age         395 non-null    int64 \n",
            " 3   address     395 non-null    object\n",
            " 4   famsize     395 non-null    object\n",
            " 5   Pstatus     395 non-null    object\n",
            " 6   Medu        395 non-null    object\n",
            " 7   Fedu        395 non-null    object\n",
            " 8   Mjob        395 non-null    object\n",
            " 9   Fjob        395 non-null    object\n",
            " 10  reason      395 non-null    object\n",
            " 11  guardian    395 non-null    object\n",
            " 12  traveltime  395 non-null    object\n",
            " 13  studytime   395 non-null    object\n",
            " 14  failures    395 non-null    int64 \n",
            " 15  schoolsup   395 non-null    object\n",
            " 16  famsup      395 non-null    object\n",
            " 17  paid        395 non-null    object\n",
            " 18  activities  395 non-null    object\n",
            " 19  nursery     395 non-null    object\n",
            " 20  higher      395 non-null    object\n",
            " 21  internet    395 non-null    object\n",
            " 22  romantic    395 non-null    object\n",
            " 23  famrel      395 non-null    object\n",
            " 24  freetime    395 non-null    object\n",
            " 25  goout       395 non-null    object\n",
            " 26  Dalc        395 non-null    object\n",
            " 27  Walc        395 non-null    object\n",
            " 28  health      395 non-null    object\n",
            " 29  absences    395 non-null    int64 \n",
            " 30  G1          395 non-null    int64 \n",
            " 31  G2          395 non-null    int64 \n",
            " 32  G3          395 non-null    int64 \n",
            "dtypes: int64(6), object(27)\n",
            "memory usage: 102.0+ KB\n"
          ]
        }
      ],
      "source": [
        "df.info() #method to get details of data contained in dataframe"
      ]
    },
    {
      "cell_type": "code",
      "execution_count": null,
      "metadata": {
        "colab": {
          "base_uri": "https://localhost:8080/"
        },
        "id": "AO8f7XCz7Lud",
        "outputId": "e257ffb0-e9e8-4a39-a24b-c3062ce0d823"
      },
      "outputs": [
        {
          "data": {
            "text/plain": [
              "<bound method DataFrame.info of     school sex  age address famsize Pstatus                           Medu  \\\n",
              "0       GP   F   18       U     GT3       A               higher education   \n",
              "1       GP   F   17       U     GT3       T  primary education (4th grade)   \n",
              "2       GP   F   15       U     LE3       T  primary education (4th grade)   \n",
              "3       GP   F   15       U     GT3       T               higher education   \n",
              "4       GP   F   16       U     GT3       T            secondary education   \n",
              "..     ...  ..  ...     ...     ...     ...                            ...   \n",
              "390     MS   M   20       U     LE3       A               5th to 9th grade   \n",
              "391     MS   M   17       U     LE3       T            secondary education   \n",
              "392     MS   M   21       R     GT3       T  primary education (4th grade)   \n",
              "393     MS   M   18       R     LE3       T            secondary education   \n",
              "394     MS   M   19       U     LE3       T  primary education (4th grade)   \n",
              "\n",
              "                              Fedu      Mjob      Fjob  ...     famrel  \\\n",
              "0                 higher education   at_home   teacher  ...  very good   \n",
              "1    primary education (4th grade)   at_home     other  ...  excellent   \n",
              "2    primary education (4th grade)   at_home     other  ...  very good   \n",
              "3                 5th to 9th grade    health  services  ...       good   \n",
              "4              secondary education     other     other  ...  very good   \n",
              "..                             ...       ...       ...  ...        ...   \n",
              "390               5th to 9th grade  services  services  ...  excellent   \n",
              "391  primary education (4th grade)  services  services  ...        bad   \n",
              "392  primary education (4th grade)     other     other  ...  excellent   \n",
              "393               5th to 9th grade  services     other  ...  very good   \n",
              "394  primary education (4th grade)     other   at_home  ...       good   \n",
              "\n",
              "      freetime      goout      Dalc       Walc     health absences  G1  G2  G3  \n",
              "0       medium       high  very low   very low       good        6   5   6   6  \n",
              "1       medium     medium  very low   very low       good        4   5   5   6  \n",
              "2       medium        low       low     medium       good       10   7   8  10  \n",
              "3          low        low  very low   very low  excellent        2  15  14  15  \n",
              "4       medium        low  very low        low  excellent        4   6  10  10  \n",
              "..         ...        ...       ...        ...        ...      ...  ..  ..  ..  \n",
              "390  very high       high      high  very high  very good       11   9   9   9  \n",
              "391       high  very high    medium       high        bad        3  14  16  16  \n",
              "392  very high     medium    medium     medium       good        3  10   8   7  \n",
              "393       high   very low    medium       high  excellent        0  11  12  10  \n",
              "394        low     medium    medium     medium  excellent        5   8   9   9  \n",
              "\n",
              "[395 rows x 33 columns]>"
            ]
          },
          "execution_count": 8,
          "metadata": {},
          "output_type": "execute_result"
        }
      ],
      "source": [
        "df.info"
      ]
    },
    {
      "cell_type": "code",
      "execution_count": null,
      "metadata": {
        "colab": {
          "base_uri": "https://localhost:8080/",
          "height": 424
        },
        "id": "EfDAGpNO7OwV",
        "outputId": "59bb8953-0727-40f5-cdb0-0db07c0377fc"
      },
      "outputs": [
        {
          "data": {
            "text/html": [
              "\n",
              "  <div id=\"df-0b1ad2c5-20bb-43de-88e3-0b0b68cdacb6\">\n",
              "    <div class=\"colab-df-container\">\n",
              "      <div>\n",
              "<style scoped>\n",
              "    .dataframe tbody tr th:only-of-type {\n",
              "        vertical-align: middle;\n",
              "    }\n",
              "\n",
              "    .dataframe tbody tr th {\n",
              "        vertical-align: top;\n",
              "    }\n",
              "\n",
              "    .dataframe thead th {\n",
              "        text-align: right;\n",
              "    }\n",
              "</style>\n",
              "<table border=\"1\" class=\"dataframe\">\n",
              "  <thead>\n",
              "    <tr style=\"text-align: right;\">\n",
              "      <th></th>\n",
              "      <th>school</th>\n",
              "      <th>sex</th>\n",
              "      <th>age</th>\n",
              "      <th>address</th>\n",
              "      <th>famsize</th>\n",
              "      <th>Pstatus</th>\n",
              "      <th>Medu</th>\n",
              "      <th>Fedu</th>\n",
              "      <th>Mjob</th>\n",
              "      <th>Fjob</th>\n",
              "      <th>...</th>\n",
              "      <th>famrel</th>\n",
              "      <th>freetime</th>\n",
              "      <th>goout</th>\n",
              "      <th>Dalc</th>\n",
              "      <th>Walc</th>\n",
              "      <th>health</th>\n",
              "      <th>absences</th>\n",
              "      <th>G1</th>\n",
              "      <th>G2</th>\n",
              "      <th>G3</th>\n",
              "    </tr>\n",
              "  </thead>\n",
              "  <tbody>\n",
              "    <tr>\n",
              "      <th>0</th>\n",
              "      <td>False</td>\n",
              "      <td>False</td>\n",
              "      <td>False</td>\n",
              "      <td>False</td>\n",
              "      <td>False</td>\n",
              "      <td>False</td>\n",
              "      <td>False</td>\n",
              "      <td>False</td>\n",
              "      <td>False</td>\n",
              "      <td>False</td>\n",
              "      <td>...</td>\n",
              "      <td>False</td>\n",
              "      <td>False</td>\n",
              "      <td>False</td>\n",
              "      <td>False</td>\n",
              "      <td>False</td>\n",
              "      <td>False</td>\n",
              "      <td>False</td>\n",
              "      <td>False</td>\n",
              "      <td>False</td>\n",
              "      <td>False</td>\n",
              "    </tr>\n",
              "    <tr>\n",
              "      <th>1</th>\n",
              "      <td>False</td>\n",
              "      <td>False</td>\n",
              "      <td>False</td>\n",
              "      <td>False</td>\n",
              "      <td>False</td>\n",
              "      <td>False</td>\n",
              "      <td>False</td>\n",
              "      <td>False</td>\n",
              "      <td>False</td>\n",
              "      <td>False</td>\n",
              "      <td>...</td>\n",
              "      <td>False</td>\n",
              "      <td>False</td>\n",
              "      <td>False</td>\n",
              "      <td>False</td>\n",
              "      <td>False</td>\n",
              "      <td>False</td>\n",
              "      <td>False</td>\n",
              "      <td>False</td>\n",
              "      <td>False</td>\n",
              "      <td>False</td>\n",
              "    </tr>\n",
              "    <tr>\n",
              "      <th>2</th>\n",
              "      <td>False</td>\n",
              "      <td>False</td>\n",
              "      <td>False</td>\n",
              "      <td>False</td>\n",
              "      <td>False</td>\n",
              "      <td>False</td>\n",
              "      <td>False</td>\n",
              "      <td>False</td>\n",
              "      <td>False</td>\n",
              "      <td>False</td>\n",
              "      <td>...</td>\n",
              "      <td>False</td>\n",
              "      <td>False</td>\n",
              "      <td>False</td>\n",
              "      <td>False</td>\n",
              "      <td>False</td>\n",
              "      <td>False</td>\n",
              "      <td>False</td>\n",
              "      <td>False</td>\n",
              "      <td>False</td>\n",
              "      <td>False</td>\n",
              "    </tr>\n",
              "    <tr>\n",
              "      <th>3</th>\n",
              "      <td>False</td>\n",
              "      <td>False</td>\n",
              "      <td>False</td>\n",
              "      <td>False</td>\n",
              "      <td>False</td>\n",
              "      <td>False</td>\n",
              "      <td>False</td>\n",
              "      <td>False</td>\n",
              "      <td>False</td>\n",
              "      <td>False</td>\n",
              "      <td>...</td>\n",
              "      <td>False</td>\n",
              "      <td>False</td>\n",
              "      <td>False</td>\n",
              "      <td>False</td>\n",
              "      <td>False</td>\n",
              "      <td>False</td>\n",
              "      <td>False</td>\n",
              "      <td>False</td>\n",
              "      <td>False</td>\n",
              "      <td>False</td>\n",
              "    </tr>\n",
              "    <tr>\n",
              "      <th>4</th>\n",
              "      <td>False</td>\n",
              "      <td>False</td>\n",
              "      <td>False</td>\n",
              "      <td>False</td>\n",
              "      <td>False</td>\n",
              "      <td>False</td>\n",
              "      <td>False</td>\n",
              "      <td>False</td>\n",
              "      <td>False</td>\n",
              "      <td>False</td>\n",
              "      <td>...</td>\n",
              "      <td>False</td>\n",
              "      <td>False</td>\n",
              "      <td>False</td>\n",
              "      <td>False</td>\n",
              "      <td>False</td>\n",
              "      <td>False</td>\n",
              "      <td>False</td>\n",
              "      <td>False</td>\n",
              "      <td>False</td>\n",
              "      <td>False</td>\n",
              "    </tr>\n",
              "    <tr>\n",
              "      <th>...</th>\n",
              "      <td>...</td>\n",
              "      <td>...</td>\n",
              "      <td>...</td>\n",
              "      <td>...</td>\n",
              "      <td>...</td>\n",
              "      <td>...</td>\n",
              "      <td>...</td>\n",
              "      <td>...</td>\n",
              "      <td>...</td>\n",
              "      <td>...</td>\n",
              "      <td>...</td>\n",
              "      <td>...</td>\n",
              "      <td>...</td>\n",
              "      <td>...</td>\n",
              "      <td>...</td>\n",
              "      <td>...</td>\n",
              "      <td>...</td>\n",
              "      <td>...</td>\n",
              "      <td>...</td>\n",
              "      <td>...</td>\n",
              "      <td>...</td>\n",
              "    </tr>\n",
              "    <tr>\n",
              "      <th>390</th>\n",
              "      <td>False</td>\n",
              "      <td>False</td>\n",
              "      <td>False</td>\n",
              "      <td>False</td>\n",
              "      <td>False</td>\n",
              "      <td>False</td>\n",
              "      <td>False</td>\n",
              "      <td>False</td>\n",
              "      <td>False</td>\n",
              "      <td>False</td>\n",
              "      <td>...</td>\n",
              "      <td>False</td>\n",
              "      <td>False</td>\n",
              "      <td>False</td>\n",
              "      <td>False</td>\n",
              "      <td>False</td>\n",
              "      <td>False</td>\n",
              "      <td>False</td>\n",
              "      <td>False</td>\n",
              "      <td>False</td>\n",
              "      <td>False</td>\n",
              "    </tr>\n",
              "    <tr>\n",
              "      <th>391</th>\n",
              "      <td>False</td>\n",
              "      <td>False</td>\n",
              "      <td>False</td>\n",
              "      <td>False</td>\n",
              "      <td>False</td>\n",
              "      <td>False</td>\n",
              "      <td>False</td>\n",
              "      <td>False</td>\n",
              "      <td>False</td>\n",
              "      <td>False</td>\n",
              "      <td>...</td>\n",
              "      <td>False</td>\n",
              "      <td>False</td>\n",
              "      <td>False</td>\n",
              "      <td>False</td>\n",
              "      <td>False</td>\n",
              "      <td>False</td>\n",
              "      <td>False</td>\n",
              "      <td>False</td>\n",
              "      <td>False</td>\n",
              "      <td>False</td>\n",
              "    </tr>\n",
              "    <tr>\n",
              "      <th>392</th>\n",
              "      <td>False</td>\n",
              "      <td>False</td>\n",
              "      <td>False</td>\n",
              "      <td>False</td>\n",
              "      <td>False</td>\n",
              "      <td>False</td>\n",
              "      <td>False</td>\n",
              "      <td>False</td>\n",
              "      <td>False</td>\n",
              "      <td>False</td>\n",
              "      <td>...</td>\n",
              "      <td>False</td>\n",
              "      <td>False</td>\n",
              "      <td>False</td>\n",
              "      <td>False</td>\n",
              "      <td>False</td>\n",
              "      <td>False</td>\n",
              "      <td>False</td>\n",
              "      <td>False</td>\n",
              "      <td>False</td>\n",
              "      <td>False</td>\n",
              "    </tr>\n",
              "    <tr>\n",
              "      <th>393</th>\n",
              "      <td>False</td>\n",
              "      <td>False</td>\n",
              "      <td>False</td>\n",
              "      <td>False</td>\n",
              "      <td>False</td>\n",
              "      <td>False</td>\n",
              "      <td>False</td>\n",
              "      <td>False</td>\n",
              "      <td>False</td>\n",
              "      <td>False</td>\n",
              "      <td>...</td>\n",
              "      <td>False</td>\n",
              "      <td>False</td>\n",
              "      <td>False</td>\n",
              "      <td>False</td>\n",
              "      <td>False</td>\n",
              "      <td>False</td>\n",
              "      <td>False</td>\n",
              "      <td>False</td>\n",
              "      <td>False</td>\n",
              "      <td>False</td>\n",
              "    </tr>\n",
              "    <tr>\n",
              "      <th>394</th>\n",
              "      <td>False</td>\n",
              "      <td>False</td>\n",
              "      <td>False</td>\n",
              "      <td>False</td>\n",
              "      <td>False</td>\n",
              "      <td>False</td>\n",
              "      <td>False</td>\n",
              "      <td>False</td>\n",
              "      <td>False</td>\n",
              "      <td>False</td>\n",
              "      <td>...</td>\n",
              "      <td>False</td>\n",
              "      <td>False</td>\n",
              "      <td>False</td>\n",
              "      <td>False</td>\n",
              "      <td>False</td>\n",
              "      <td>False</td>\n",
              "      <td>False</td>\n",
              "      <td>False</td>\n",
              "      <td>False</td>\n",
              "      <td>False</td>\n",
              "    </tr>\n",
              "  </tbody>\n",
              "</table>\n",
              "<p>395 rows × 33 columns</p>\n",
              "</div>\n",
              "      <button class=\"colab-df-convert\" onclick=\"convertToInteractive('df-0b1ad2c5-20bb-43de-88e3-0b0b68cdacb6')\"\n",
              "              title=\"Convert this dataframe to an interactive table.\"\n",
              "              style=\"display:none;\">\n",
              "        \n",
              "  <svg xmlns=\"http://www.w3.org/2000/svg\" height=\"24px\"viewBox=\"0 0 24 24\"\n",
              "       width=\"24px\">\n",
              "    <path d=\"M0 0h24v24H0V0z\" fill=\"none\"/>\n",
              "    <path d=\"M18.56 5.44l.94 2.06.94-2.06 2.06-.94-2.06-.94-.94-2.06-.94 2.06-2.06.94zm-11 1L8.5 8.5l.94-2.06 2.06-.94-2.06-.94L8.5 2.5l-.94 2.06-2.06.94zm10 10l.94 2.06.94-2.06 2.06-.94-2.06-.94-.94-2.06-.94 2.06-2.06.94z\"/><path d=\"M17.41 7.96l-1.37-1.37c-.4-.4-.92-.59-1.43-.59-.52 0-1.04.2-1.43.59L10.3 9.45l-7.72 7.72c-.78.78-.78 2.05 0 2.83L4 21.41c.39.39.9.59 1.41.59.51 0 1.02-.2 1.41-.59l7.78-7.78 2.81-2.81c.8-.78.8-2.07 0-2.86zM5.41 20L4 18.59l7.72-7.72 1.47 1.35L5.41 20z\"/>\n",
              "  </svg>\n",
              "      </button>\n",
              "      \n",
              "  <style>\n",
              "    .colab-df-container {\n",
              "      display:flex;\n",
              "      flex-wrap:wrap;\n",
              "      gap: 12px;\n",
              "    }\n",
              "\n",
              "    .colab-df-convert {\n",
              "      background-color: #E8F0FE;\n",
              "      border: none;\n",
              "      border-radius: 50%;\n",
              "      cursor: pointer;\n",
              "      display: none;\n",
              "      fill: #1967D2;\n",
              "      height: 32px;\n",
              "      padding: 0 0 0 0;\n",
              "      width: 32px;\n",
              "    }\n",
              "\n",
              "    .colab-df-convert:hover {\n",
              "      background-color: #E2EBFA;\n",
              "      box-shadow: 0px 1px 2px rgba(60, 64, 67, 0.3), 0px 1px 3px 1px rgba(60, 64, 67, 0.15);\n",
              "      fill: #174EA6;\n",
              "    }\n",
              "\n",
              "    [theme=dark] .colab-df-convert {\n",
              "      background-color: #3B4455;\n",
              "      fill: #D2E3FC;\n",
              "    }\n",
              "\n",
              "    [theme=dark] .colab-df-convert:hover {\n",
              "      background-color: #434B5C;\n",
              "      box-shadow: 0px 1px 3px 1px rgba(0, 0, 0, 0.15);\n",
              "      filter: drop-shadow(0px 1px 2px rgba(0, 0, 0, 0.3));\n",
              "      fill: #FFFFFF;\n",
              "    }\n",
              "  </style>\n",
              "\n",
              "      <script>\n",
              "        const buttonEl =\n",
              "          document.querySelector('#df-0b1ad2c5-20bb-43de-88e3-0b0b68cdacb6 button.colab-df-convert');\n",
              "        buttonEl.style.display =\n",
              "          google.colab.kernel.accessAllowed ? 'block' : 'none';\n",
              "\n",
              "        async function convertToInteractive(key) {\n",
              "          const element = document.querySelector('#df-0b1ad2c5-20bb-43de-88e3-0b0b68cdacb6');\n",
              "          const dataTable =\n",
              "            await google.colab.kernel.invokeFunction('convertToInteractive',\n",
              "                                                     [key], {});\n",
              "          if (!dataTable) return;\n",
              "\n",
              "          const docLinkHtml = 'Like what you see? Visit the ' +\n",
              "            '<a target=\"_blank\" href=https://colab.research.google.com/notebooks/data_table.ipynb>data table notebook</a>'\n",
              "            + ' to learn more about interactive tables.';\n",
              "          element.innerHTML = '';\n",
              "          dataTable['output_type'] = 'display_data';\n",
              "          await google.colab.output.renderOutput(dataTable, element);\n",
              "          const docLink = document.createElement('div');\n",
              "          docLink.innerHTML = docLinkHtml;\n",
              "          element.appendChild(docLink);\n",
              "        }\n",
              "      </script>\n",
              "    </div>\n",
              "  </div>\n",
              "  "
            ],
            "text/plain": [
              "     school    sex    age  address  famsize  Pstatus   Medu   Fedu   Mjob  \\\n",
              "0     False  False  False    False    False    False  False  False  False   \n",
              "1     False  False  False    False    False    False  False  False  False   \n",
              "2     False  False  False    False    False    False  False  False  False   \n",
              "3     False  False  False    False    False    False  False  False  False   \n",
              "4     False  False  False    False    False    False  False  False  False   \n",
              "..      ...    ...    ...      ...      ...      ...    ...    ...    ...   \n",
              "390   False  False  False    False    False    False  False  False  False   \n",
              "391   False  False  False    False    False    False  False  False  False   \n",
              "392   False  False  False    False    False    False  False  False  False   \n",
              "393   False  False  False    False    False    False  False  False  False   \n",
              "394   False  False  False    False    False    False  False  False  False   \n",
              "\n",
              "      Fjob  ...  famrel  freetime  goout   Dalc   Walc  health  absences  \\\n",
              "0    False  ...   False     False  False  False  False   False     False   \n",
              "1    False  ...   False     False  False  False  False   False     False   \n",
              "2    False  ...   False     False  False  False  False   False     False   \n",
              "3    False  ...   False     False  False  False  False   False     False   \n",
              "4    False  ...   False     False  False  False  False   False     False   \n",
              "..     ...  ...     ...       ...    ...    ...    ...     ...       ...   \n",
              "390  False  ...   False     False  False  False  False   False     False   \n",
              "391  False  ...   False     False  False  False  False   False     False   \n",
              "392  False  ...   False     False  False  False  False   False     False   \n",
              "393  False  ...   False     False  False  False  False   False     False   \n",
              "394  False  ...   False     False  False  False  False   False     False   \n",
              "\n",
              "        G1     G2     G3  \n",
              "0    False  False  False  \n",
              "1    False  False  False  \n",
              "2    False  False  False  \n",
              "3    False  False  False  \n",
              "4    False  False  False  \n",
              "..     ...    ...    ...  \n",
              "390  False  False  False  \n",
              "391  False  False  False  \n",
              "392  False  False  False  \n",
              "393  False  False  False  \n",
              "394  False  False  False  \n",
              "\n",
              "[395 rows x 33 columns]"
            ]
          },
          "execution_count": 9,
          "metadata": {},
          "output_type": "execute_result"
        }
      ],
      "source": [
        "df.isnull()  #determine where your DataFrame's missing values are"
      ]
    },
    {
      "cell_type": "markdown",
      "metadata": {
        "id": "cyWCdrIW54S2"
      },
      "source": [
        "6.2 Data Transformation: [4]\n",
        "\n",
        "Write code to transform variables according to the following instructions:\n",
        "\n",
        "1. ”School”, ”sex”, ”address”, ”schoolsup”, ”famsup”, ”activites”, ”nursery”, ”internet”, and ”romantic” into binary: 0 or 1 (create new columns without overwriting the existing ones)."
      ]
    },
    {
      "cell_type": "markdown",
      "metadata": {
        "id": "_gDP5Rif7_Qd"
      },
      "source": []
    },
    {
      "cell_type": "code",
      "execution_count": null,
      "metadata": {
        "colab": {
          "base_uri": "https://localhost:8080/"
        },
        "id": "3JR39rCO7gUN",
        "outputId": "543ba061-272e-48c0-90a5-2f6b3073ebdf"
      },
      "outputs": [
        {
          "data": {
            "text/plain": [
              "array(['GP', 'MS'], dtype=object)"
            ]
          },
          "execution_count": 10,
          "metadata": {},
          "output_type": "execute_result"
        }
      ],
      "source": [
        "df.school.unique() # method get array of the unique values in the \"school\" column of the df DataFrame."
      ]
    },
    {
      "cell_type": "code",
      "execution_count": null,
      "metadata": {
        "colab": {
          "base_uri": "https://localhost:8080/"
        },
        "id": "UNHWgmbj7oS9",
        "outputId": "642827fc-cd0e-40eb-8691-e965be7f5171"
      },
      "outputs": [
        {
          "name": "stdout",
          "output_type": "stream",
          "text": [
            "0      1\n",
            "1      1\n",
            "2      1\n",
            "3      1\n",
            "4      1\n",
            "      ..\n",
            "390    0\n",
            "391    0\n",
            "392    0\n",
            "393    0\n",
            "394    0\n",
            "Name: school_binary, Length: 395, dtype: int64\n"
          ]
        }
      ],
      "source": [
        "df['school_binary']=df[\"school\"].map({'GP':1,'MS':0}) # create the 'school_binary' column using the 'school' column\n",
        "print(df['school_binary']) # print the 'school_binary' column"
      ]
    },
    {
      "cell_type": "code",
      "execution_count": null,
      "metadata": {
        "colab": {
          "base_uri": "https://localhost:8080/"
        },
        "id": "WRz48XdS9qMc",
        "outputId": "a0d6615e-9f6e-406d-f407-ffba793dfdcc"
      },
      "outputs": [
        {
          "data": {
            "text/plain": [
              "array(['F', 'M'], dtype=object)"
            ]
          },
          "execution_count": 14,
          "metadata": {},
          "output_type": "execute_result"
        }
      ],
      "source": [
        "df.sex.unique() #method get array of the unique values in the \"sex\" column of the df DataFrame."
      ]
    },
    {
      "cell_type": "code",
      "execution_count": null,
      "metadata": {
        "colab": {
          "base_uri": "https://localhost:8080/"
        },
        "id": "Aip03e0K78_9",
        "outputId": "8f3d6095-9b2f-4841-8af7-bcc0000f1198"
      },
      "outputs": [
        {
          "data": {
            "text/plain": [
              "0      0\n",
              "1      0\n",
              "2      0\n",
              "3      0\n",
              "4      0\n",
              "      ..\n",
              "390    1\n",
              "391    1\n",
              "392    1\n",
              "393    1\n",
              "394    1\n",
              "Name: sex_binary, Length: 395, dtype: int64"
            ]
          },
          "execution_count": 13,
          "metadata": {},
          "output_type": "execute_result"
        }
      ],
      "source": [
        "df['sex_binary']=df[\"sex\"].map({'M':1 ,'F':0}) #create the 'sex_binary' column using the 'sex' column\n",
        "df['sex_binary'] # print the 'sex_binary' column"
      ]
    },
    {
      "cell_type": "code",
      "execution_count": null,
      "metadata": {
        "colab": {
          "base_uri": "https://localhost:8080/"
        },
        "id": "glzhEOkp-bOV",
        "outputId": "07f7394d-0cdd-40c0-e354-10fbd267f75e"
      },
      "outputs": [
        {
          "data": {
            "text/plain": [
              "array(['U', 'R'], dtype=object)"
            ]
          },
          "execution_count": 15,
          "metadata": {},
          "output_type": "execute_result"
        }
      ],
      "source": [
        "df.address.unique()# method get array of the unique values in the \"address\" column of the df DataFrame."
      ]
    },
    {
      "cell_type": "code",
      "execution_count": null,
      "metadata": {
        "colab": {
          "base_uri": "https://localhost:8080/"
        },
        "id": "tru8cNlwUNqE",
        "outputId": "2d21cb1c-5ac2-4182-9716-37026f818b92"
      },
      "outputs": [
        {
          "data": {
            "text/plain": [
              "0      1\n",
              "1      1\n",
              "2      1\n",
              "3      1\n",
              "4      1\n",
              "      ..\n",
              "390    1\n",
              "391    1\n",
              "392    0\n",
              "393    0\n",
              "394    1\n",
              "Name: Address_Binary, Length: 395, dtype: int64"
            ]
          },
          "execution_count": 16,
          "metadata": {},
          "output_type": "execute_result"
        }
      ],
      "source": [
        "df['Address_Binary']=df[\"address\"].map({'U':1,'R':0}) # create the 'Address_binary' column using the 'address' column\n",
        "df['Address_Binary'] # print the 'address_binary' column"
      ]
    },
    {
      "cell_type": "code",
      "execution_count": null,
      "metadata": {
        "colab": {
          "base_uri": "https://localhost:8080/"
        },
        "id": "K2HQQcq1-vH2",
        "outputId": "d409e999-161c-47bc-9451-085492bc168c"
      },
      "outputs": [
        {
          "data": {
            "text/plain": [
              "array(['yes', 'no'], dtype=object)"
            ]
          },
          "execution_count": 17,
          "metadata": {},
          "output_type": "execute_result"
        }
      ],
      "source": [
        "df.schoolsup.unique()# method get array of the unique values in the \"Schoolsup\" column of the df DataFrame."
      ]
    },
    {
      "cell_type": "code",
      "execution_count": null,
      "metadata": {
        "colab": {
          "base_uri": "https://localhost:8080/"
        },
        "id": "2LtIhA3j_FuO",
        "outputId": "e2c798d7-fcf5-4e6e-db93-2839b871894d"
      },
      "outputs": [
        {
          "data": {
            "text/plain": [
              "0      1\n",
              "1      0\n",
              "2      1\n",
              "3      0\n",
              "4      0\n",
              "      ..\n",
              "390    0\n",
              "391    0\n",
              "392    0\n",
              "393    0\n",
              "394    0\n",
              "Name: SchoolsUp_Binary, Length: 395, dtype: int64"
            ]
          },
          "execution_count": 18,
          "metadata": {},
          "output_type": "execute_result"
        }
      ],
      "source": [
        "df['SchoolsUp_Binary']=df[\"schoolsup\"].map({'yes':1,'no':0}) # create the 'schoolsup_binary' column using the 'schoolsup' column\n",
        "df['SchoolsUp_Binary']# print the 'school_binary' column"
      ]
    },
    {
      "cell_type": "code",
      "execution_count": null,
      "metadata": {
        "colab": {
          "base_uri": "https://localhost:8080/"
        },
        "id": "RBqpez9W_KE9",
        "outputId": "dc9697fe-8c34-4fa3-8afb-dcf0da74903f"
      },
      "outputs": [
        {
          "data": {
            "text/plain": [
              "array(['no', 'yes'], dtype=object)"
            ]
          },
          "execution_count": 19,
          "metadata": {},
          "output_type": "execute_result"
        }
      ],
      "source": [
        "df.famsup.unique()# method get array of the unique values in the \"famsup\" column of the df DataFrame."
      ]
    },
    {
      "cell_type": "code",
      "execution_count": null,
      "metadata": {
        "colab": {
          "base_uri": "https://localhost:8080/"
        },
        "id": "cM4-Lhmb_O8P",
        "outputId": "ff95895d-df4b-4e20-9178-d1ad18b74221"
      },
      "outputs": [
        {
          "data": {
            "text/plain": [
              "0      0\n",
              "1      1\n",
              "2      0\n",
              "3      1\n",
              "4      1\n",
              "      ..\n",
              "390    1\n",
              "391    0\n",
              "392    0\n",
              "393    0\n",
              "394    0\n",
              "Name: famsUp_Binary, Length: 395, dtype: int64"
            ]
          },
          "execution_count": 20,
          "metadata": {},
          "output_type": "execute_result"
        }
      ],
      "source": [
        "df['famsUp_Binary']=df[\"famsup\"].map({'yes':1,'no':0}) # create the 'famsup_binary' column using the 'famsup' column\n",
        "df['famsUp_Binary']# print the 'famsup_binary' column"
      ]
    },
    {
      "cell_type": "code",
      "execution_count": null,
      "metadata": {
        "colab": {
          "base_uri": "https://localhost:8080/"
        },
        "id": "JxX8jv59_ZN2",
        "outputId": "ba006b3a-4839-46f4-f7c0-738dfc0fca17"
      },
      "outputs": [
        {
          "data": {
            "text/plain": [
              "array(['no', 'yes'], dtype=object)"
            ]
          },
          "execution_count": 21,
          "metadata": {},
          "output_type": "execute_result"
        }
      ],
      "source": [
        "df.activities.unique() # method get array of the unique values in the \"activites\" column of the df DataFrame."
      ]
    },
    {
      "cell_type": "code",
      "execution_count": null,
      "metadata": {
        "colab": {
          "base_uri": "https://localhost:8080/"
        },
        "id": "k6CJxwU9_i0V",
        "outputId": "8f9b98b4-dec1-4269-c7a6-11540f509995"
      },
      "outputs": [
        {
          "data": {
            "text/plain": [
              "0      0\n",
              "1      0\n",
              "2      0\n",
              "3      1\n",
              "4      0\n",
              "      ..\n",
              "390    0\n",
              "391    0\n",
              "392    0\n",
              "393    0\n",
              "394    0\n",
              "Name: activities_Binary, Length: 395, dtype: int64"
            ]
          },
          "execution_count": 22,
          "metadata": {},
          "output_type": "execute_result"
        }
      ],
      "source": [
        "df['activities_Binary']=df[\"activities\"].map({'yes':1,'no':0}) # create the 'activities_binary' column using the 'activities' column\n",
        "df['activities_Binary']# print the 'activities_binary' column"
      ]
    },
    {
      "cell_type": "code",
      "execution_count": null,
      "metadata": {
        "colab": {
          "base_uri": "https://localhost:8080/"
        },
        "id": "n7icXQYU_aT_",
        "outputId": "db8f8407-dfb6-454c-8f52-42ed46a65a2b"
      },
      "outputs": [
        {
          "data": {
            "text/plain": [
              "array(['yes', 'no'], dtype=object)"
            ]
          },
          "execution_count": 23,
          "metadata": {},
          "output_type": "execute_result"
        }
      ],
      "source": [
        "df.nursery.unique()# method get array of the unique values in the \"nursery\" column of the df DataFrame."
      ]
    },
    {
      "cell_type": "code",
      "execution_count": null,
      "metadata": {
        "colab": {
          "base_uri": "https://localhost:8080/"
        },
        "id": "oKBMwGtR_pcW",
        "outputId": "f17c3ab1-9cc8-4d4c-b1eb-cdda37232ccd"
      },
      "outputs": [
        {
          "data": {
            "text/plain": [
              "0      1\n",
              "1      0\n",
              "2      1\n",
              "3      1\n",
              "4      1\n",
              "      ..\n",
              "390    1\n",
              "391    0\n",
              "392    0\n",
              "393    0\n",
              "394    1\n",
              "Name: nursery_Binary, Length: 395, dtype: int64"
            ]
          },
          "execution_count": 24,
          "metadata": {},
          "output_type": "execute_result"
        }
      ],
      "source": [
        "df['nursery_Binary']=df[\"nursery\"].map({'yes':1,'no':0})# create the 'nursery_binary' column using the 'nursery' column\n",
        "df['nursery_Binary']# print the 'nursery_binary' column"
      ]
    },
    {
      "cell_type": "code",
      "execution_count": null,
      "metadata": {
        "colab": {
          "base_uri": "https://localhost:8080/"
        },
        "id": "hqlwQrtu_cwF",
        "outputId": "3dd21705-9303-4e59-b804-30e4cdefa3bc"
      },
      "outputs": [
        {
          "data": {
            "text/plain": [
              "array(['no', 'yes'], dtype=object)"
            ]
          },
          "execution_count": 25,
          "metadata": {},
          "output_type": "execute_result"
        }
      ],
      "source": [
        "df.internet.unique()# method get array of the unique values in the \"internet\" column of the df DataFrame."
      ]
    },
    {
      "cell_type": "code",
      "execution_count": null,
      "metadata": {
        "colab": {
          "base_uri": "https://localhost:8080/"
        },
        "id": "KPnz792H_v_F",
        "outputId": "4800ffb4-cc03-47b9-b6a2-ac29b4ec9b95"
      },
      "outputs": [
        {
          "data": {
            "text/plain": [
              "0      0\n",
              "1      1\n",
              "2      1\n",
              "3      1\n",
              "4      0\n",
              "      ..\n",
              "390    0\n",
              "391    1\n",
              "392    0\n",
              "393    1\n",
              "394    1\n",
              "Name: internet_Binary, Length: 395, dtype: int64"
            ]
          },
          "execution_count": 26,
          "metadata": {},
          "output_type": "execute_result"
        }
      ],
      "source": [
        "df['internet_Binary']=df[\"internet\"].map({'yes':1,'no':0}) ## create the 'internet_binary' column using the 'internet' column\n",
        "df['internet_Binary']# print the 'internet_binary' column"
      ]
    },
    {
      "cell_type": "code",
      "execution_count": null,
      "metadata": {
        "colab": {
          "base_uri": "https://localhost:8080/"
        },
        "id": "V_5rqkrC_d8N",
        "outputId": "631df95c-4ec2-4f45-cd4a-d4dd22045d3e"
      },
      "outputs": [
        {
          "data": {
            "text/plain": [
              "array(['no', 'yes'], dtype=object)"
            ]
          },
          "execution_count": 27,
          "metadata": {},
          "output_type": "execute_result"
        }
      ],
      "source": [
        "df.romantic.unique() # method get array of the unique values in the \"romantic\" column of the df DataFrame."
      ]
    },
    {
      "cell_type": "code",
      "execution_count": null,
      "metadata": {
        "colab": {
          "base_uri": "https://localhost:8080/"
        },
        "id": "0tTLcLz1_2Pd",
        "outputId": "f1aa5f44-8924-467f-d354-56a87c058d64"
      },
      "outputs": [
        {
          "data": {
            "text/plain": [
              "0      0\n",
              "1      0\n",
              "2      0\n",
              "3      1\n",
              "4      0\n",
              "      ..\n",
              "390    0\n",
              "391    0\n",
              "392    0\n",
              "393    0\n",
              "394    0\n",
              "Name: romantic_Binary, Length: 395, dtype: int64"
            ]
          },
          "execution_count": 78,
          "metadata": {},
          "output_type": "execute_result"
        }
      ],
      "source": [
        "df['romantic_Binary']=df[\"romantic\"].map({'yes':1,'no':0})# create the 'romantic_binary' column using the 'romantic' column\n",
        "df['romantic_Binary'] # print the 'romantic_binary' column\n"
      ]
    },
    {
      "cell_type": "markdown",
      "metadata": {
        "id": "YwbUiPx_8Cid"
      },
      "source": [
        "2.”Medu”, ”Fedu”, ”reason”, ”guardian”, ”studytime”, ”freetime”, and ”health” into ordinal numbers based on the number cases in the data set (create news columns without overwriting the existing ones)"
      ]
    },
    {
      "cell_type": "code",
      "execution_count": null,
      "metadata": {
        "colab": {
          "base_uri": "https://localhost:8080/"
        },
        "id": "ait6T8tj8Q-e",
        "outputId": "f9ee6eec-06f3-4d9c-b790-8694781ea132"
      },
      "outputs": [
        {
          "data": {
            "text/plain": [
              "array(['higher education', 'primary education (4th grade)',\n",
              "       'secondary education', '5th to 9th grade', 'none'], dtype=object)"
            ]
          },
          "execution_count": 30,
          "metadata": {},
          "output_type": "execute_result"
        }
      ],
      "source": [
        "df.Medu.unique() # method get array of the unique values in the \"Medu\" column of the df DataFrame.\n"
      ]
    },
    {
      "cell_type": "code",
      "execution_count": null,
      "metadata": {
        "colab": {
          "base_uri": "https://localhost:8080/"
        },
        "id": "6hGVgpADAGAW",
        "outputId": "ee26fb33-c768-4043-ee87-556e6cd7ee46"
      },
      "outputs": [
        {
          "data": {
            "text/plain": [
              "0      4\n",
              "1      1\n",
              "2      1\n",
              "3      4\n",
              "4      3\n",
              "      ..\n",
              "390    2\n",
              "391    3\n",
              "392    1\n",
              "393    3\n",
              "394    1\n",
              "Name: Medu_ON, Length: 395, dtype: int64"
            ]
          },
          "execution_count": 31,
          "metadata": {},
          "output_type": "execute_result"
        }
      ],
      "source": [
        "df['Medu_ON']=df[\"Medu\"].map({'higher education':4, 'secondary education':3, '5th to 9th grade':2,'primary education (4th grade)':1,'none':0})# create the 'Medu_On' column using the 'Medu' column\n",
        "df['Medu_ON']# print the 'Medu_On' column"
      ]
    },
    {
      "cell_type": "code",
      "execution_count": null,
      "metadata": {
        "colab": {
          "base_uri": "https://localhost:8080/"
        },
        "id": "fCibIINWANNO",
        "outputId": "65c969d2-205c-4b19-8597-99adc19a225b"
      },
      "outputs": [
        {
          "data": {
            "text/plain": [
              "array(['higher education', 'primary education (4th grade)',\n",
              "       '5th to 9th grade', 'secondary education', 'none'], dtype=object)"
            ]
          },
          "execution_count": 32,
          "metadata": {},
          "output_type": "execute_result"
        }
      ],
      "source": [
        "df.Fedu.unique() # method get array of the unique values in the \"Fedu\" column of the df DataFrame."
      ]
    },
    {
      "cell_type": "code",
      "execution_count": null,
      "metadata": {
        "colab": {
          "base_uri": "https://localhost:8080/"
        },
        "id": "JcBjlbILAOr-",
        "outputId": "fc9464d5-32c9-4885-bf45-28dbb0800368"
      },
      "outputs": [
        {
          "data": {
            "text/plain": [
              "0      4\n",
              "1      1\n",
              "2      1\n",
              "3      2\n",
              "4      3\n",
              "      ..\n",
              "390    2\n",
              "391    1\n",
              "392    1\n",
              "393    2\n",
              "394    1\n",
              "Name: Fedu_ON, Length: 395, dtype: int64"
            ]
          },
          "execution_count": 33,
          "metadata": {},
          "output_type": "execute_result"
        }
      ],
      "source": [
        "df['Fedu_ON']=df[\"Fedu\"].map({'higher education':4, 'secondary education':3, '5th to 9th grade':2,'primary education (4th grade)':1,'none':0}) # create the 'Fedu_On' column using the 'Fedu' column\n",
        "df['Fedu_ON']# print the 'Fedu_On' column"
      ]
    },
    {
      "cell_type": "code",
      "execution_count": null,
      "metadata": {
        "colab": {
          "base_uri": "https://localhost:8080/"
        },
        "id": "sdtOkjQ7AVqG",
        "outputId": "73c58bff-5cde-4667-f755-75dfbc608dec"
      },
      "outputs": [
        {
          "data": {
            "text/plain": [
              "array(['course', 'other', 'home', 'reputation'], dtype=object)"
            ]
          },
          "execution_count": 34,
          "metadata": {},
          "output_type": "execute_result"
        }
      ],
      "source": [
        "df.reason.unique() # method get array of the unique values in the \"reason\" column of the df DataFrame."
      ]
    },
    {
      "cell_type": "code",
      "execution_count": null,
      "metadata": {
        "colab": {
          "base_uri": "https://localhost:8080/"
        },
        "id": "QMd32pm0AXOW",
        "outputId": "702eb1f0-e403-447a-dfde-9493e4bd7c70"
      },
      "outputs": [
        {
          "data": {
            "text/plain": [
              "0      3\n",
              "1      3\n",
              "2      0\n",
              "3      2\n",
              "4      2\n",
              "      ..\n",
              "390    3\n",
              "391    3\n",
              "392    3\n",
              "393    3\n",
              "394    3\n",
              "Name: reason_ON, Length: 395, dtype: int64"
            ]
          },
          "execution_count": 35,
          "metadata": {},
          "output_type": "execute_result"
        }
      ],
      "source": [
        "df['reason_ON']=df[\"reason\"].map({ 'course':3, 'home':2,'reputation':1,'other':0})# create the 'reason_On' column using the 'reason' column\n",
        "df['reason_ON']# print 'reason_On column"
      ]
    },
    {
      "cell_type": "code",
      "execution_count": null,
      "metadata": {
        "colab": {
          "base_uri": "https://localhost:8080/"
        },
        "id": "CPssdJr0AdlA",
        "outputId": "5af6cc66-52cb-4593-d549-8dedd8f3e70d"
      },
      "outputs": [
        {
          "data": {
            "text/plain": [
              "array(['mother', 'father', 'other'], dtype=object)"
            ]
          },
          "execution_count": 36,
          "metadata": {},
          "output_type": "execute_result"
        }
      ],
      "source": [
        "df.guardian.unique() # method get array of the unique values in the \"guardian\" column of the df DataFrame."
      ]
    },
    {
      "cell_type": "code",
      "execution_count": null,
      "metadata": {
        "colab": {
          "base_uri": "https://localhost:8080/"
        },
        "id": "dPJ9EgZjAdj9",
        "outputId": "777c33f9-648e-4d2c-961b-67c46d8fdced"
      },
      "outputs": [
        {
          "data": {
            "text/plain": [
              "0      2\n",
              "1      1\n",
              "2      2\n",
              "3      2\n",
              "4      1\n",
              "      ..\n",
              "390    0\n",
              "391    2\n",
              "392    0\n",
              "393    2\n",
              "394    1\n",
              "Name: guardain_ON, Length: 395, dtype: int64"
            ]
          },
          "execution_count": 37,
          "metadata": {},
          "output_type": "execute_result"
        }
      ],
      "source": [
        "df['guardain_ON']=df[\"guardian\"].map({  'mother':2,'father':1,'other':0}) # create the 'guardain_On' column using the 'guardain' column\n",
        "df['guardain_ON']# print the 'guardain_On' column"
      ]
    },
    {
      "cell_type": "code",
      "execution_count": null,
      "metadata": {
        "colab": {
          "base_uri": "https://localhost:8080/"
        },
        "id": "HNn92oRxAkEl",
        "outputId": "1d8665e5-e5ba-41f9-b14b-04c36ba38ed5"
      },
      "outputs": [
        {
          "data": {
            "text/plain": [
              "array(['2 to 5 hours', '5 to 10 hours', '<2 hours', '>10 hours'],\n",
              "      dtype=object)"
            ]
          },
          "execution_count": 38,
          "metadata": {},
          "output_type": "execute_result"
        }
      ],
      "source": [
        "df.studytime.unique() # method get array of the unique values in the \"studytime\" column of the df DataFrame."
      ]
    },
    {
      "cell_type": "code",
      "execution_count": null,
      "metadata": {
        "colab": {
          "base_uri": "https://localhost:8080/"
        },
        "id": "WTcxJRw8AlYN",
        "outputId": "75d24318-884a-4406-e956-ebbba016dd03"
      },
      "outputs": [
        {
          "data": {
            "text/plain": [
              "0      1\n",
              "1      1\n",
              "2      1\n",
              "3      2\n",
              "4      1\n",
              "      ..\n",
              "390    1\n",
              "391    0\n",
              "392    0\n",
              "393    0\n",
              "394    0\n",
              "Name: studytime_ON, Length: 395, dtype: int64"
            ]
          },
          "execution_count": 39,
          "metadata": {},
          "output_type": "execute_result"
        }
      ],
      "source": [
        "df['studytime_ON']=df[\"studytime\"].map({ '>10 hours':3,'5 to 10 hours':2,'2 to 5 hours':1 ,'<2 hours':0 })# create the 'Studytime_On' column using the 'Studytime' column\n",
        "df['studytime_ON']# print the 'StudyTime_On' column"
      ]
    },
    {
      "cell_type": "code",
      "execution_count": null,
      "metadata": {
        "colab": {
          "base_uri": "https://localhost:8080/"
        },
        "id": "HExUtPsqAq52",
        "outputId": "4b1cf9b1-7bec-4e9e-fdc1-679806bbadc3"
      },
      "outputs": [
        {
          "data": {
            "text/plain": [
              "array(['medium', 'low', 'high', 'very low', 'very high'], dtype=object)"
            ]
          },
          "execution_count": 40,
          "metadata": {},
          "output_type": "execute_result"
        }
      ],
      "source": [
        "df.freetime.unique() # method get array of the unique values in the \"freetime\" column of the df DataFrame."
      ]
    },
    {
      "cell_type": "code",
      "execution_count": null,
      "metadata": {
        "colab": {
          "base_uri": "https://localhost:8080/"
        },
        "id": "50NzISUIAsCW",
        "outputId": "b32e0d95-568a-41ee-9d55-781c5d52e1c5"
      },
      "outputs": [
        {
          "data": {
            "text/plain": [
              "0      2\n",
              "1      2\n",
              "2      2\n",
              "3      1\n",
              "4      2\n",
              "      ..\n",
              "390    4\n",
              "391    3\n",
              "392    4\n",
              "393    3\n",
              "394    1\n",
              "Name: freetime_ON, Length: 395, dtype: int64"
            ]
          },
          "execution_count": 41,
          "metadata": {},
          "output_type": "execute_result"
        }
      ],
      "source": [
        "df['freetime_ON']=df[\"freetime\"].map({'very high':4 ,'high':3,'medium':2,'low':1 ,'very low':0 }) # create the 'freetime_On' column using the 'freetime' column\n",
        "df['freetime_ON']# create the 'Freetime_On' column using the 'Medu' column"
      ]
    },
    {
      "cell_type": "code",
      "execution_count": null,
      "metadata": {
        "colab": {
          "base_uri": "https://localhost:8080/"
        },
        "id": "b4FYC6ExAxFe",
        "outputId": "50117573-570b-4bfa-aa5a-c8d3297deef4"
      },
      "outputs": [
        {
          "data": {
            "text/plain": [
              "array(['good', 'excellent', 'very bad', 'bad', 'very good'], dtype=object)"
            ]
          },
          "execution_count": 79,
          "metadata": {},
          "output_type": "execute_result"
        }
      ],
      "source": [
        "df.health.unique() # method get array of the unique values in the \"health\" column of the df DataFrame."
      ]
    },
    {
      "cell_type": "code",
      "execution_count": null,
      "metadata": {
        "colab": {
          "base_uri": "https://localhost:8080/"
        },
        "id": "ahcCOZzcA0kV",
        "outputId": "6d13caf8-7b3c-4f88-9418-d3e05a5e3516"
      },
      "outputs": [
        {
          "data": {
            "text/plain": [
              "<bound method DataFrame.info of     school sex  age address famsize Pstatus                           Medu  \\\n",
              "0       GP   F   18       U     GT3       A               higher education   \n",
              "1       GP   F   17       U     GT3       T  primary education (4th grade)   \n",
              "2       GP   F   15       U     LE3       T  primary education (4th grade)   \n",
              "3       GP   F   15       U     GT3       T               higher education   \n",
              "4       GP   F   16       U     GT3       T            secondary education   \n",
              "..     ...  ..  ...     ...     ...     ...                            ...   \n",
              "390     MS   M   20       U     LE3       A               5th to 9th grade   \n",
              "391     MS   M   17       U     LE3       T            secondary education   \n",
              "392     MS   M   21       R     GT3       T  primary education (4th grade)   \n",
              "393     MS   M   18       R     LE3       T            secondary education   \n",
              "394     MS   M   19       U     LE3       T  primary education (4th grade)   \n",
              "\n",
              "                              Fedu      Mjob      Fjob  ... romantic_Binary  \\\n",
              "0                 higher education   at_home   teacher  ...               0   \n",
              "1    primary education (4th grade)   at_home     other  ...               0   \n",
              "2    primary education (4th grade)   at_home     other  ...               0   \n",
              "3                 5th to 9th grade    health  services  ...               1   \n",
              "4              secondary education     other     other  ...               0   \n",
              "..                             ...       ...       ...  ...             ...   \n",
              "390               5th to 9th grade  services  services  ...               0   \n",
              "391  primary education (4th grade)  services  services  ...               0   \n",
              "392  primary education (4th grade)     other     other  ...               0   \n",
              "393               5th to 9th grade  services     other  ...               0   \n",
              "394  primary education (4th grade)     other   at_home  ...               0   \n",
              "\n",
              "    Medu_ON Fedu_ON reason_ON  guardain_ON studytime_ON freetime_ON health_ON  \\\n",
              "0         4       4         3            2            1           2         2   \n",
              "1         1       1         3            1            1           2         2   \n",
              "2         1       1         0            2            1           2         2   \n",
              "3         4       2         2            2            2           1         4   \n",
              "4         3       3         2            1            1           2         4   \n",
              "..      ...     ...       ...          ...          ...         ...       ...   \n",
              "390       2       2         3            0            1           4         3   \n",
              "391       3       1         3            2            0           3         1   \n",
              "392       1       1         3            0            0           4         2   \n",
              "393       3       2         3            2            0           3         4   \n",
              "394       1       1         3            1            0           1         4   \n",
              "\n",
              "    passed category_age  \n",
              "0       no            2  \n",
              "1       no            1  \n",
              "2      yes            1  \n",
              "3      yes            1  \n",
              "4      yes            1  \n",
              "..     ...          ...  \n",
              "390    yes            2  \n",
              "391    yes            1  \n",
              "392     no            3  \n",
              "393    yes            2  \n",
              "394    yes            2  \n",
              "\n",
              "[395 rows x 51 columns]>"
            ]
          },
          "execution_count": 80,
          "metadata": {},
          "output_type": "execute_result"
        }
      ],
      "source": [
        "df['health_ON']=df[\"health\"].map({'excellent':4 ,'very good':3,'good':2,'bad':1 ,'very bad':0 })# create the 'health_On' column using the 'health' columnv\n",
        "df['health_ON']# create the 'health_On' column using the 'Medu' column\n",
        "df.info"
      ]
    },
    {
      "cell_type": "markdown",
      "metadata": {
        "id": "AIrN5b478Rit"
      },
      "source": [
        "\n",
        "3. Convert column ”age” to interval datatype. i.e. Create a new column name category age whose values\n",
        "should be based on the frequency in the column ”age”, You can create categorical data with following\n",
        "interval.\n",
        "\n",
        "  (a) interval1: [15-17]\n",
        "\n",
        "  (b) interval2: [18-20]\n",
        "\n",
        "  (c) interval3: [21-all]"
      ]
    },
    {
      "cell_type": "code",
      "execution_count": null,
      "metadata": {
        "colab": {
          "base_uri": "https://localhost:8080/"
        },
        "id": "-tmw3H8_8U_u",
        "outputId": "7c1f2565-9530-4fe5-c79c-4398451e6599"
      },
      "outputs": [
        {
          "data": {
            "text/plain": [
              "0      2\n",
              "1      1\n",
              "2      1\n",
              "3      1\n",
              "4      1\n",
              "      ..\n",
              "390    2\n",
              "391    1\n",
              "392    3\n",
              "393    2\n",
              "394    2\n",
              "Name: category_age, Length: 395, dtype: int64"
            ]
          },
          "execution_count": 53,
          "metadata": {},
          "output_type": "execute_result"
        }
      ],
      "source": [
        "# list of conditions for the 'category_age'\n",
        "conditions = [\n",
        "     # Age is between 15 and 17\n",
        "    (df['age'] >= 15) & (df['age'] <= 17),\n",
        "    # Age is between 18 and 20\n",
        "    (df['age'] >= 18) & (df['age'] <= 20),\n",
        "    # Age is 21 or older\n",
        "    (df['age'] >= 21)\n",
        "]\n",
        "\n",
        "# list of values that correspond to each condition\n",
        "values = [1,2,3]\n",
        "\n",
        "# Use the 'np.select()' function to assign values to the 'category_age' column based on the conditions\n",
        "df['category_age'] = np.select(conditions, values) \n",
        "\n",
        "df['category_age'] # Print the 'category_age' column\n"
      ]
    },
    {
      "cell_type": "markdown",
      "metadata": {
        "id": "6LaH_v-s8ir2"
      },
      "source": [
        "4. Create a new column name passed (yes or no) whose values should be based on the values present in the\n",
        "G3 column (>= 8–yes, < −no)."
      ]
    },
    {
      "cell_type": "markdown",
      "metadata": {
        "id": "tAFD86QWiN16"
      },
      "source": [
        "- The apply() function applies a function (a lambda function in this case) to each element of column G3. A lambda function takes an argument x and returns \"yes\" if x is greater than or equal to 8, and \"no\" if x is less than 8. The resulting value is assigned to the Passed column."
      ]
    },
    {
      "cell_type": "code",
      "execution_count": null,
      "metadata": {
        "colab": {
          "base_uri": "https://localhost:8080/"
        },
        "id": "e_x4_aII8mAU",
        "outputId": "e4bde6a1-b9e7-40e9-8cb8-ff4f0f74e0a6"
      },
      "outputs": [
        {
          "name": "stdout",
          "output_type": "stream",
          "text": [
            "    school sex  age address famsize Pstatus                           Medu  \\\n",
            "0       GP   F   18       U     GT3       A               higher education   \n",
            "1       GP   F   17       U     GT3       T  primary education (4th grade)   \n",
            "2       GP   F   15       U     LE3       T  primary education (4th grade)   \n",
            "3       GP   F   15       U     GT3       T               higher education   \n",
            "4       GP   F   16       U     GT3       T            secondary education   \n",
            "..     ...  ..  ...     ...     ...     ...                            ...   \n",
            "390     MS   M   20       U     LE3       A               5th to 9th grade   \n",
            "391     MS   M   17       U     LE3       T            secondary education   \n",
            "392     MS   M   21       R     GT3       T  primary education (4th grade)   \n",
            "393     MS   M   18       R     LE3       T            secondary education   \n",
            "394     MS   M   19       U     LE3       T  primary education (4th grade)   \n",
            "\n",
            "                              Fedu      Mjob      Fjob  ... internet_Binary  \\\n",
            "0                 higher education   at_home   teacher  ...               0   \n",
            "1    primary education (4th grade)   at_home     other  ...               1   \n",
            "2    primary education (4th grade)   at_home     other  ...               1   \n",
            "3                 5th to 9th grade    health  services  ...               1   \n",
            "4              secondary education     other     other  ...               0   \n",
            "..                             ...       ...       ...  ...             ...   \n",
            "390               5th to 9th grade  services  services  ...               0   \n",
            "391  primary education (4th grade)  services  services  ...               1   \n",
            "392  primary education (4th grade)     other     other  ...               0   \n",
            "393               5th to 9th grade  services     other  ...               1   \n",
            "394  primary education (4th grade)     other   at_home  ...               1   \n",
            "\n",
            "    romantic_Binary Medu_ON Fedu_ON  reason_ON guardain_ON studytime_ON  \\\n",
            "0                 0       4       4          3           2            1   \n",
            "1                 0       1       1          3           1            1   \n",
            "2                 0       1       1          0           2            1   \n",
            "3                 1       4       2          2           2            2   \n",
            "4                 0       3       3          2           1            1   \n",
            "..              ...     ...     ...        ...         ...          ...   \n",
            "390               0       2       2          3           0            1   \n",
            "391               0       3       1          3           2            0   \n",
            "392               0       1       1          3           0            0   \n",
            "393               0       3       2          3           2            0   \n",
            "394               0       1       1          3           1            0   \n",
            "\n",
            "    freetime_ON health_ON passed  \n",
            "0             2         2     no  \n",
            "1             2         2     no  \n",
            "2             2         2    yes  \n",
            "3             1         4    yes  \n",
            "4             2         4    yes  \n",
            "..          ...       ...    ...  \n",
            "390           4         3    yes  \n",
            "391           3         1    yes  \n",
            "392           4         2     no  \n",
            "393           3         4    yes  \n",
            "394           1         4    yes  \n",
            "\n",
            "[395 rows x 50 columns]\n"
          ]
        },
        {
          "data": {
            "text/plain": [
              "0       no\n",
              "1       no\n",
              "2      yes\n",
              "3      yes\n",
              "4      yes\n",
              "      ... \n",
              "390    yes\n",
              "391    yes\n",
              "392     no\n",
              "393    yes\n",
              "394    yes\n",
              "Name: passed, Length: 395, dtype: object"
            ]
          },
          "execution_count": 46,
          "metadata": {},
          "output_type": "execute_result"
        }
      ],
      "source": [
        "# create the 'passed' column using the 'G3' column\n",
        "df['passed'] = df[\"G3\"].apply(lambda x: \"yes\" if x >= 8 else \"no\")\n",
        "\n",
        "# print the entire dataframe\n",
        "print(df)\n",
        "\n",
        "# print just the 'passed' column\n",
        "df['passed']"
      ]
    },
    {
      "cell_type": "code",
      "execution_count": null,
      "metadata": {
        "colab": {
          "base_uri": "https://localhost:8080/",
          "height": 394
        },
        "id": "lMyfoGC-auPj",
        "outputId": "334b3527-9e30-4ad7-9b18-3e5d327c6a67"
      },
      "outputs": [
        {
          "data": {
            "text/html": [
              "\n",
              "  <div id=\"df-96abdce9-5976-4026-93a6-af30ac09f0bd\">\n",
              "    <div class=\"colab-df-container\">\n",
              "      <div>\n",
              "<style scoped>\n",
              "    .dataframe tbody tr th:only-of-type {\n",
              "        vertical-align: middle;\n",
              "    }\n",
              "\n",
              "    .dataframe tbody tr th {\n",
              "        vertical-align: top;\n",
              "    }\n",
              "\n",
              "    .dataframe thead th {\n",
              "        text-align: right;\n",
              "    }\n",
              "</style>\n",
              "<table border=\"1\" class=\"dataframe\">\n",
              "  <thead>\n",
              "    <tr style=\"text-align: right;\">\n",
              "      <th></th>\n",
              "      <th>age</th>\n",
              "      <th>failures</th>\n",
              "      <th>absences</th>\n",
              "      <th>G1</th>\n",
              "      <th>G2</th>\n",
              "      <th>G3</th>\n",
              "      <th>school_binary</th>\n",
              "      <th>sex_binary</th>\n",
              "      <th>Address_Binary</th>\n",
              "      <th>SchoolsUp_Binary</th>\n",
              "      <th>...</th>\n",
              "      <th>internet_Binary</th>\n",
              "      <th>romantic_Binary</th>\n",
              "      <th>Medu_ON</th>\n",
              "      <th>Fedu_ON</th>\n",
              "      <th>reason_ON</th>\n",
              "      <th>guardain_ON</th>\n",
              "      <th>studytime_ON</th>\n",
              "      <th>freetime_ON</th>\n",
              "      <th>health_ON</th>\n",
              "      <th>category_age</th>\n",
              "    </tr>\n",
              "  </thead>\n",
              "  <tbody>\n",
              "    <tr>\n",
              "      <th>count</th>\n",
              "      <td>395.000000</td>\n",
              "      <td>395.000000</td>\n",
              "      <td>395.000000</td>\n",
              "      <td>395.000000</td>\n",
              "      <td>395.000000</td>\n",
              "      <td>395.000000</td>\n",
              "      <td>395.000000</td>\n",
              "      <td>395.000000</td>\n",
              "      <td>395.000000</td>\n",
              "      <td>395.000000</td>\n",
              "      <td>...</td>\n",
              "      <td>395.000000</td>\n",
              "      <td>395.000000</td>\n",
              "      <td>395.000000</td>\n",
              "      <td>395.000000</td>\n",
              "      <td>395.000000</td>\n",
              "      <td>395.000000</td>\n",
              "      <td>395.000000</td>\n",
              "      <td>395.000000</td>\n",
              "      <td>395.000000</td>\n",
              "      <td>395.000000</td>\n",
              "    </tr>\n",
              "    <tr>\n",
              "      <th>mean</th>\n",
              "      <td>16.696203</td>\n",
              "      <td>0.334177</td>\n",
              "      <td>5.708861</td>\n",
              "      <td>10.908861</td>\n",
              "      <td>10.713924</td>\n",
              "      <td>10.415190</td>\n",
              "      <td>0.883544</td>\n",
              "      <td>0.473418</td>\n",
              "      <td>0.777215</td>\n",
              "      <td>0.129114</td>\n",
              "      <td>...</td>\n",
              "      <td>0.832911</td>\n",
              "      <td>0.334177</td>\n",
              "      <td>2.749367</td>\n",
              "      <td>2.521519</td>\n",
              "      <td>1.918987</td>\n",
              "      <td>1.610127</td>\n",
              "      <td>1.035443</td>\n",
              "      <td>2.235443</td>\n",
              "      <td>2.554430</td>\n",
              "      <td>1.286076</td>\n",
              "    </tr>\n",
              "    <tr>\n",
              "      <th>std</th>\n",
              "      <td>1.276043</td>\n",
              "      <td>0.743651</td>\n",
              "      <td>8.003096</td>\n",
              "      <td>3.319195</td>\n",
              "      <td>3.761505</td>\n",
              "      <td>4.581443</td>\n",
              "      <td>0.321177</td>\n",
              "      <td>0.499926</td>\n",
              "      <td>0.416643</td>\n",
              "      <td>0.335751</td>\n",
              "      <td>...</td>\n",
              "      <td>0.373528</td>\n",
              "      <td>0.472300</td>\n",
              "      <td>1.094735</td>\n",
              "      <td>1.088201</td>\n",
              "      <td>0.996705</td>\n",
              "      <td>0.633176</td>\n",
              "      <td>0.839240</td>\n",
              "      <td>0.998862</td>\n",
              "      <td>1.390303</td>\n",
              "      <td>0.463581</td>\n",
              "    </tr>\n",
              "    <tr>\n",
              "      <th>min</th>\n",
              "      <td>15.000000</td>\n",
              "      <td>0.000000</td>\n",
              "      <td>0.000000</td>\n",
              "      <td>3.000000</td>\n",
              "      <td>0.000000</td>\n",
              "      <td>0.000000</td>\n",
              "      <td>0.000000</td>\n",
              "      <td>0.000000</td>\n",
              "      <td>0.000000</td>\n",
              "      <td>0.000000</td>\n",
              "      <td>...</td>\n",
              "      <td>0.000000</td>\n",
              "      <td>0.000000</td>\n",
              "      <td>0.000000</td>\n",
              "      <td>0.000000</td>\n",
              "      <td>0.000000</td>\n",
              "      <td>0.000000</td>\n",
              "      <td>0.000000</td>\n",
              "      <td>0.000000</td>\n",
              "      <td>0.000000</td>\n",
              "      <td>1.000000</td>\n",
              "    </tr>\n",
              "    <tr>\n",
              "      <th>25%</th>\n",
              "      <td>16.000000</td>\n",
              "      <td>0.000000</td>\n",
              "      <td>0.000000</td>\n",
              "      <td>8.000000</td>\n",
              "      <td>9.000000</td>\n",
              "      <td>8.000000</td>\n",
              "      <td>1.000000</td>\n",
              "      <td>0.000000</td>\n",
              "      <td>1.000000</td>\n",
              "      <td>0.000000</td>\n",
              "      <td>...</td>\n",
              "      <td>1.000000</td>\n",
              "      <td>0.000000</td>\n",
              "      <td>2.000000</td>\n",
              "      <td>2.000000</td>\n",
              "      <td>1.000000</td>\n",
              "      <td>1.000000</td>\n",
              "      <td>0.000000</td>\n",
              "      <td>2.000000</td>\n",
              "      <td>2.000000</td>\n",
              "      <td>1.000000</td>\n",
              "    </tr>\n",
              "    <tr>\n",
              "      <th>50%</th>\n",
              "      <td>17.000000</td>\n",
              "      <td>0.000000</td>\n",
              "      <td>4.000000</td>\n",
              "      <td>11.000000</td>\n",
              "      <td>11.000000</td>\n",
              "      <td>11.000000</td>\n",
              "      <td>1.000000</td>\n",
              "      <td>0.000000</td>\n",
              "      <td>1.000000</td>\n",
              "      <td>0.000000</td>\n",
              "      <td>...</td>\n",
              "      <td>1.000000</td>\n",
              "      <td>0.000000</td>\n",
              "      <td>3.000000</td>\n",
              "      <td>2.000000</td>\n",
              "      <td>2.000000</td>\n",
              "      <td>2.000000</td>\n",
              "      <td>1.000000</td>\n",
              "      <td>2.000000</td>\n",
              "      <td>3.000000</td>\n",
              "      <td>1.000000</td>\n",
              "    </tr>\n",
              "    <tr>\n",
              "      <th>75%</th>\n",
              "      <td>18.000000</td>\n",
              "      <td>0.000000</td>\n",
              "      <td>8.000000</td>\n",
              "      <td>13.000000</td>\n",
              "      <td>13.000000</td>\n",
              "      <td>14.000000</td>\n",
              "      <td>1.000000</td>\n",
              "      <td>1.000000</td>\n",
              "      <td>1.000000</td>\n",
              "      <td>0.000000</td>\n",
              "      <td>...</td>\n",
              "      <td>1.000000</td>\n",
              "      <td>1.000000</td>\n",
              "      <td>4.000000</td>\n",
              "      <td>3.000000</td>\n",
              "      <td>3.000000</td>\n",
              "      <td>2.000000</td>\n",
              "      <td>1.000000</td>\n",
              "      <td>3.000000</td>\n",
              "      <td>4.000000</td>\n",
              "      <td>2.000000</td>\n",
              "    </tr>\n",
              "    <tr>\n",
              "      <th>max</th>\n",
              "      <td>22.000000</td>\n",
              "      <td>3.000000</td>\n",
              "      <td>75.000000</td>\n",
              "      <td>19.000000</td>\n",
              "      <td>19.000000</td>\n",
              "      <td>20.000000</td>\n",
              "      <td>1.000000</td>\n",
              "      <td>1.000000</td>\n",
              "      <td>1.000000</td>\n",
              "      <td>1.000000</td>\n",
              "      <td>...</td>\n",
              "      <td>1.000000</td>\n",
              "      <td>1.000000</td>\n",
              "      <td>4.000000</td>\n",
              "      <td>4.000000</td>\n",
              "      <td>3.000000</td>\n",
              "      <td>2.000000</td>\n",
              "      <td>3.000000</td>\n",
              "      <td>4.000000</td>\n",
              "      <td>4.000000</td>\n",
              "      <td>3.000000</td>\n",
              "    </tr>\n",
              "  </tbody>\n",
              "</table>\n",
              "<p>8 rows × 23 columns</p>\n",
              "</div>\n",
              "      <button class=\"colab-df-convert\" onclick=\"convertToInteractive('df-96abdce9-5976-4026-93a6-af30ac09f0bd')\"\n",
              "              title=\"Convert this dataframe to an interactive table.\"\n",
              "              style=\"display:none;\">\n",
              "        \n",
              "  <svg xmlns=\"http://www.w3.org/2000/svg\" height=\"24px\"viewBox=\"0 0 24 24\"\n",
              "       width=\"24px\">\n",
              "    <path d=\"M0 0h24v24H0V0z\" fill=\"none\"/>\n",
              "    <path d=\"M18.56 5.44l.94 2.06.94-2.06 2.06-.94-2.06-.94-.94-2.06-.94 2.06-2.06.94zm-11 1L8.5 8.5l.94-2.06 2.06-.94-2.06-.94L8.5 2.5l-.94 2.06-2.06.94zm10 10l.94 2.06.94-2.06 2.06-.94-2.06-.94-.94-2.06-.94 2.06-2.06.94z\"/><path d=\"M17.41 7.96l-1.37-1.37c-.4-.4-.92-.59-1.43-.59-.52 0-1.04.2-1.43.59L10.3 9.45l-7.72 7.72c-.78.78-.78 2.05 0 2.83L4 21.41c.39.39.9.59 1.41.59.51 0 1.02-.2 1.41-.59l7.78-7.78 2.81-2.81c.8-.78.8-2.07 0-2.86zM5.41 20L4 18.59l7.72-7.72 1.47 1.35L5.41 20z\"/>\n",
              "  </svg>\n",
              "      </button>\n",
              "      \n",
              "  <style>\n",
              "    .colab-df-container {\n",
              "      display:flex;\n",
              "      flex-wrap:wrap;\n",
              "      gap: 12px;\n",
              "    }\n",
              "\n",
              "    .colab-df-convert {\n",
              "      background-color: #E8F0FE;\n",
              "      border: none;\n",
              "      border-radius: 50%;\n",
              "      cursor: pointer;\n",
              "      display: none;\n",
              "      fill: #1967D2;\n",
              "      height: 32px;\n",
              "      padding: 0 0 0 0;\n",
              "      width: 32px;\n",
              "    }\n",
              "\n",
              "    .colab-df-convert:hover {\n",
              "      background-color: #E2EBFA;\n",
              "      box-shadow: 0px 1px 2px rgba(60, 64, 67, 0.3), 0px 1px 3px 1px rgba(60, 64, 67, 0.15);\n",
              "      fill: #174EA6;\n",
              "    }\n",
              "\n",
              "    [theme=dark] .colab-df-convert {\n",
              "      background-color: #3B4455;\n",
              "      fill: #D2E3FC;\n",
              "    }\n",
              "\n",
              "    [theme=dark] .colab-df-convert:hover {\n",
              "      background-color: #434B5C;\n",
              "      box-shadow: 0px 1px 3px 1px rgba(0, 0, 0, 0.15);\n",
              "      filter: drop-shadow(0px 1px 2px rgba(0, 0, 0, 0.3));\n",
              "      fill: #FFFFFF;\n",
              "    }\n",
              "  </style>\n",
              "\n",
              "      <script>\n",
              "        const buttonEl =\n",
              "          document.querySelector('#df-96abdce9-5976-4026-93a6-af30ac09f0bd button.colab-df-convert');\n",
              "        buttonEl.style.display =\n",
              "          google.colab.kernel.accessAllowed ? 'block' : 'none';\n",
              "\n",
              "        async function convertToInteractive(key) {\n",
              "          const element = document.querySelector('#df-96abdce9-5976-4026-93a6-af30ac09f0bd');\n",
              "          const dataTable =\n",
              "            await google.colab.kernel.invokeFunction('convertToInteractive',\n",
              "                                                     [key], {});\n",
              "          if (!dataTable) return;\n",
              "\n",
              "          const docLinkHtml = 'Like what you see? Visit the ' +\n",
              "            '<a target=\"_blank\" href=https://colab.research.google.com/notebooks/data_table.ipynb>data table notebook</a>'\n",
              "            + ' to learn more about interactive tables.';\n",
              "          element.innerHTML = '';\n",
              "          dataTable['output_type'] = 'display_data';\n",
              "          await google.colab.output.renderOutput(dataTable, element);\n",
              "          const docLink = document.createElement('div');\n",
              "          docLink.innerHTML = docLinkHtml;\n",
              "          element.appendChild(docLink);\n",
              "        }\n",
              "      </script>\n",
              "    </div>\n",
              "  </div>\n",
              "  "
            ],
            "text/plain": [
              "              age    failures    absences          G1          G2          G3  \\\n",
              "count  395.000000  395.000000  395.000000  395.000000  395.000000  395.000000   \n",
              "mean    16.696203    0.334177    5.708861   10.908861   10.713924   10.415190   \n",
              "std      1.276043    0.743651    8.003096    3.319195    3.761505    4.581443   \n",
              "min     15.000000    0.000000    0.000000    3.000000    0.000000    0.000000   \n",
              "25%     16.000000    0.000000    0.000000    8.000000    9.000000    8.000000   \n",
              "50%     17.000000    0.000000    4.000000   11.000000   11.000000   11.000000   \n",
              "75%     18.000000    0.000000    8.000000   13.000000   13.000000   14.000000   \n",
              "max     22.000000    3.000000   75.000000   19.000000   19.000000   20.000000   \n",
              "\n",
              "       school_binary  sex_binary  Address_Binary  SchoolsUp_Binary  ...  \\\n",
              "count     395.000000  395.000000      395.000000        395.000000  ...   \n",
              "mean        0.883544    0.473418        0.777215          0.129114  ...   \n",
              "std         0.321177    0.499926        0.416643          0.335751  ...   \n",
              "min         0.000000    0.000000        0.000000          0.000000  ...   \n",
              "25%         1.000000    0.000000        1.000000          0.000000  ...   \n",
              "50%         1.000000    0.000000        1.000000          0.000000  ...   \n",
              "75%         1.000000    1.000000        1.000000          0.000000  ...   \n",
              "max         1.000000    1.000000        1.000000          1.000000  ...   \n",
              "\n",
              "       internet_Binary  romantic_Binary     Medu_ON     Fedu_ON   reason_ON  \\\n",
              "count       395.000000       395.000000  395.000000  395.000000  395.000000   \n",
              "mean          0.832911         0.334177    2.749367    2.521519    1.918987   \n",
              "std           0.373528         0.472300    1.094735    1.088201    0.996705   \n",
              "min           0.000000         0.000000    0.000000    0.000000    0.000000   \n",
              "25%           1.000000         0.000000    2.000000    2.000000    1.000000   \n",
              "50%           1.000000         0.000000    3.000000    2.000000    2.000000   \n",
              "75%           1.000000         1.000000    4.000000    3.000000    3.000000   \n",
              "max           1.000000         1.000000    4.000000    4.000000    3.000000   \n",
              "\n",
              "       guardain_ON  studytime_ON  freetime_ON   health_ON  category_age  \n",
              "count   395.000000    395.000000   395.000000  395.000000    395.000000  \n",
              "mean      1.610127      1.035443     2.235443    2.554430      1.286076  \n",
              "std       0.633176      0.839240     0.998862    1.390303      0.463581  \n",
              "min       0.000000      0.000000     0.000000    0.000000      1.000000  \n",
              "25%       1.000000      0.000000     2.000000    2.000000      1.000000  \n",
              "50%       2.000000      1.000000     2.000000    3.000000      1.000000  \n",
              "75%       2.000000      1.000000     3.000000    4.000000      2.000000  \n",
              "max       2.000000      3.000000     4.000000    4.000000      3.000000  \n",
              "\n",
              "[8 rows x 23 columns]"
            ]
          },
          "execution_count": 76,
          "metadata": {},
          "output_type": "execute_result"
        }
      ],
      "source": [
        "df.describe() #printing descripition of datasets"
      ]
    },
    {
      "cell_type": "markdown",
      "metadata": {
        "id": "aSJ63RMv8mrF"
      },
      "source": [
        "6.3 Descriptive Analysis: \n",
        "\n",
        "Write a code to show the summary statistic (sum, mean, median, standard deviation, max, and min) of the\n",
        "variables age, absences, G1, G2, and G3).\n"
      ]
    },
    {
      "cell_type": "code",
      "execution_count": null,
      "metadata": {
        "colab": {
          "base_uri": "https://localhost:8080/"
        },
        "id": "cwKgnh_E8zll",
        "outputId": "dea61b98-843f-4307-bc3f-4d167894644d"
      },
      "outputs": [
        {
          "name": "stdout",
          "output_type": "stream",
          "text": [
            "age\n",
            "Sum of age 6595\n",
            "Mean of age 16.696202531645568\n",
            "Median of age 17.0\n",
            "Standard deviation of age 1.2760427246056283\n",
            "Max of age 22\n",
            "Min of age 15\n",
            "----------------------------------------\n",
            "absences\n",
            "Sum of absences 2255\n",
            "Mean of absences 5.708860759493671\n",
            "Median of absences 4.0\n",
            "Standard deviation of absences 8.00309568710818\n",
            "Max of absences 75\n",
            "Min of absences 0\n",
            "----------------------------------------\n",
            "G1\n",
            "Sum of G1 4309\n",
            "Mean of G1 10.90886075949367\n",
            "Median of G1 11.0\n",
            "Standard deviation of G1 3.319194671507669\n",
            "Max of G1 19\n",
            "Min of G1 3\n",
            "----------------------------------------\n",
            "G2\n",
            "Sum of G2 4232\n",
            "Mean of G2 10.713924050632912\n",
            "Median of G2 11.0\n",
            "Standard deviation of G2 3.7615046595560298\n",
            "Max of G2 19\n",
            "Min of G2 0\n",
            "----------------------------------------\n",
            "G3\n",
            "Sum of G3 4114\n",
            "Mean of G3 10.415189873417722\n",
            "Median of G3 11.0\n",
            "Standard deviation of G3 4.5814426109978434\n",
            "Max of G3 20\n",
            "Min of G3 0\n",
            "----------------------------------------\n"
          ]
        }
      ],
      "source": [
        "for x in df: # dataframe df each variable is denoted by x\n",
        "# iterated through each column\n",
        "  if x in[\"age\",\"absences\",\"G1\",\"G2\",\"G3\"]:  # check if the column name is in the list\n",
        "    print(x) # print the column name\n",
        "     \n",
        "    print('Sum of',x,df[x].sum()) # print the sum\n",
        "    print('Mean of',x,df[x].mean()) # print the mean\n",
        "    print('Median of',x,df[x].median()) # print the median\n",
        "    print('Standard deviation of',x,df[x].std())  # print the standard deviation\n",
        "    print('Max of',x,df[x].max()) # print the max value\n",
        "    print('Min of',x,df[x].min()) # print the min value\n",
        "    print(\"----------------------------------------\")"
      ]
    },
    {
      "cell_type": "markdown",
      "metadata": {
        "id": "cRBpPTkN80W1"
      },
      "source": [
        "6.4 Data Exploration and Visualization: [4]\n",
        "\n",
        "1. Write a code to show histogram plots and boxplots to visualize the distribution of the variables\n",
        "”age”, ”absence”, and ”G3”. Interpret the results and comment on the distribution of each variable.Write your answer in text cell of jupyter notebook."
      ]
    },
    {
      "cell_type": "code",
      "execution_count": null,
      "metadata": {
        "colab": {
          "base_uri": "https://localhost:8080/",
          "height": 298
        },
        "id": "pRfQVFsm870d",
        "outputId": "4bd42e08-828d-4ddc-92f0-422355df7387"
      },
      "outputs": [
        {
          "data": {
            "text/plain": [
              "<matplotlib.axes._subplots.AxesSubplot at 0x7f57911afca0>"
            ]
          },
          "execution_count": 65,
          "metadata": {},
          "output_type": "execute_result"
        },
        {
          "data": {
            "image/png": "[encoded data removed]",
            "text/plain": [
              "<Figure size 432x288 with 1 Axes>"
            ]
          },
          "metadata": {
            "needs_background": "light"
          },
          "output_type": "display_data"
        }
      ],
      "source": [
        "df['age'].plot(kind='hist',title='Histogram of Age',color='#180E5A')\n",
        "# create a histogram of the 'age' column"
      ]
    },
    {
      "cell_type": "markdown",
      "metadata": {
        "id": "Axxg6mbYbcDA"
      },
      "source": [
        "- A histogram is a graphic representation of data in a grouped frequency distribution with continuous classes.\n",
        "- The use of graphs and charts facilitates the analysis of data. Data represented visually is easier to understand and is thus clearer to the human mind.\n",
        "- In this dataset \"age\" column determine the age of students and this histogram represents the freguency of ages.By the above histogram we can understand  16 is higly repeated age,wheras 21 and 22 doesnot recurs many time."
      ]
    },
    {
      "cell_type": "code",
      "execution_count": null,
      "metadata": {
        "colab": {
          "base_uri": "https://localhost:8080/",
          "height": 298
        },
        "id": "0GDI1830J1X_",
        "outputId": "40d1ed10-0392-4689-8151-f4e750b0d89e"
      },
      "outputs": [
        {
          "data": {
            "text/plain": [
              "<matplotlib.axes._subplots.AxesSubplot at 0x7f5790d8f610>"
            ]
          },
          "execution_count": 64,
          "metadata": {},
          "output_type": "execute_result"
        },
        {
          "data": {
            "image/png": "[encoded data removed]",
            "text/plain": [
              "<Figure size 432x288 with 1 Axes>"
            ]
          },
          "metadata": {
            "needs_background": "light"
          },
          "output_type": "display_data"
        }
      ],
      "source": [
        "df['absences'].plot(kind='hist',title='Histogram of Absence', color='#980C3C')\n",
        "# create a histogram of the 'abscence' column\n"
      ]
    },
    {
      "cell_type": "markdown",
      "metadata": {
        "id": "XH0Hi6hsLFsp"
      },
      "source": [
        "- In this dataset \"absence\" column determine how many days has student absent and this histogram represents the freguency of recurring absence of student and absence of student .By the above histogram we can understand student of being absent  is higly repeated  in dataset ,whereas student being absent in range (20-30) is low.The graph shows the range of possible outcomes for the data on the X-axis and the number of data points in each range on the Y-axis.This histogram facilitates the analysis of data. Above histogram represented visually is easier to understand and is thus clearer to the human mind."
      ]
    },
    {
      "cell_type": "code",
      "execution_count": null,
      "metadata": {
        "colab": {
          "base_uri": "https://localhost:8080/",
          "height": 298
        },
        "id": "PNuuegt1J2yv",
        "outputId": "6c40377a-73cc-4513-cbc5-fa0e0f31305d"
      },
      "outputs": [
        {
          "data": {
            "text/plain": [
              "<matplotlib.axes._subplots.AxesSubplot at 0x7f5790ff1040>"
            ]
          },
          "execution_count": 58,
          "metadata": {},
          "output_type": "execute_result"
        },
        {
          "data": {
            "image/png": "[encoded data removed]",
            "text/plain": [
              "<Figure size 432x288 with 1 Axes>"
            ]
          },
          "metadata": {
            "needs_background": "light"
          },
          "output_type": "display_data"
        }
      ],
      "source": [
        "df['G3'].plot(kind='hist',title='Histogram of G3')\n",
        " #create a histogram of the 'G3' column"
      ]
    },
    {
      "cell_type": "markdown",
      "metadata": {
        "id": "GR8j30E3dDOV"
      },
      "source": [
        "- A histogram is a graphic representation of data in a grouped frequency distribution with continuous classes.\n",
        "- The use of graphs and charts facilitates the analysis of data. Data represented visually is easier to understand and is thus clearer to the human mind.\n",
        "- In this dataset \"G3\" column determine the ratio of  total mark obtained  and this histogram represents the freguency of recurring mark ratio  and mark ratio of students.By the above histogram we can understand (10.0 to 12.5) is higly repeated mark ratio in dataset ,whereas 5.0 doesnot recurs many time.The graph shows the range of possible outcomes for the data on the X-axis and the number of data points in each range on the Y-axis.\n"
      ]
    },
    {
      "cell_type": "code",
      "execution_count": null,
      "metadata": {
        "colab": {
          "base_uri": "https://localhost:8080/",
          "height": 282
        },
        "id": "3bZpoDikJ4m4",
        "outputId": "e02cc553-4c1c-4b79-9531-0dbf06e5e1b7"
      },
      "outputs": [
        {
          "data": {
            "text/plain": [
              "<matplotlib.axes._subplots.AxesSubplot at 0x7f5790f6d6a0>"
            ]
          },
          "execution_count": 59,
          "metadata": {},
          "output_type": "execute_result"
        },
        {
          "data": {
            "image/png": "[encoded data removed]",
            "text/plain": [
              "<Figure size 432x288 with 1 Axes>"
            ]
          },
          "metadata": {
            "needs_background": "light"
          },
          "output_type": "display_data"
        }
      ],
      "source": [
        "    df.boxplot(column=['age','absences','G3'])\n",
        "# create a boxplot for the 'age', 'absences', and 'G3' columns\n"
      ]
    },
    {
      "cell_type": "markdown",
      "metadata": {
        "id": "_VaFXbxogLKq"
      },
      "source": [
        "- In its simplest form, the boxplot presents five sample statistics - the minimum, the lower quartile, the median, the upper quartile and the maximum - in a visual display.\n",
        "- If the box for the age column is centered around 20 and ranges from 18 to 22, it is obvious that the majority of the values in the age column are between 18 and 22, with a median of 20. Outliers would be plotted as separate points outside the box, with whiskers if present.\n",
        "- In this above boxplot represents the variable \"age\",\"absence\" and 'g3\" ofv dataframe df.he range of values for each variable. The bottom of the box represents the first quartile (25th percentile), the line in the middle of the box is the median (50th percentile), and the top of the box is the third quartile (75th percentile). The whiskers extending from the box show the minimum and maximum values, excluding any outliers. Outliers are plotted as individual points.\n",
        "- Box plot useful tool for quickly visualizing the distribution of a variable and identifying any outliers. It can be helpful for understanding the distribution of the data and identifying patterns or trends"
      ]
    },
    {
      "cell_type": "markdown",
      "metadata": {
        "id": "f99GXzqW88Vt"
      },
      "source": [
        "2. Write a code to show a bar graph of the total number of students who passed the final term grouped\n",
        "according to the school that they belong to. Use proper labels in the graph and interpret the results."
      ]
    },
    {
      "cell_type": "code",
      "execution_count": 6,
      "metadata": {
        "colab": {
          "base_uri": "https://localhost:8080/",
          "height": 312
        },
        "id": "hL6sXUKI9G9U",
        "outputId": "e259253d-b2fc-4b1d-802d-ee71fec14547"
      },
      "outputs": [
        {
          "data": {
            "text/plain": [
              "Text(0, 0.5, 'Number of Students')"
            ]
          },
          "execution_count": 6,
          "metadata": {},
          "output_type": "execute_result"
        },
        {
          "data": {
            "image/png": "[encoded data removed]",
            "text/plain": [
              "<Figure size 432x288 with 1 Axes>"
            ]
          },
          "metadata": {
            "needs_background": "light"
          },
          "output_type": "display_data"
        }
      ],
      "source": [
        "school_counts = df[df[\"G3\"] >= 10].groupby(\"school\").size().reset_index(name=\"count\")\n",
        "\n",
        "\n",
        "plt.bar(school_counts[\"school\"], school_counts[\"count\"])\n",
        "# The plot is labeled with a title, x-axis label, and y-axis label.\n",
        "plt.title(\"Number of Students Who Passed the Final Term by School\")\n",
        "plt.xlabel(\"School\")\n",
        "plt.ylabel(\"Number of Students\")\n"
      ]
    },
    {
      "cell_type": "markdown",
      "metadata": {
        "id": "YMgn_L0FgX3t"
      },
      "source": [
        "- The title, x-axis label, and y-axis label of the plot are all labeled.The dataframe (df) is initially filtered to include only rows with \"G3\" column values greater than or equal to 10. The remaining rows are then sorted by the \"school\" column, and the size() function is used to count how many rows are in each group. The resulting Series is named \"count\" and transformed into a dataframe using the reset index() method. The values in the \"school\" column of the school counts dataframe are set as the x-axis, while the values in the \"count\" column are set as the y-axis. The title(), xlabel(), and ylabel() functions are then applied to the plot to add a title, x-axis label, and y-axis label.\n",
        "- Above bargraph represents number of student who passed Finalterm by School. Bargraph represented visually is easier to understand and is thus clearer to the human mind. From above bargraph we can state that number of student passed from GP\"Gabriel Pereira\" is higher than that of MP\"Mousinho da Silveira\"."
      ]
    },
    {
      "cell_type": "markdown",
      "metadata": {
        "id": "Pt2F9iG89FP9"
      },
      "source": [
        "3. Write a code to show a pie chart of analysis of students’ grades as per their school. Use proper labels\n",
        "in the graph and interpret the results."
      ]
    },
    {
      "cell_type": "code",
      "execution_count": 7,
      "metadata": {
        "colab": {
          "base_uri": "https://localhost:8080/",
          "height": 972
        },
        "id": "FzuzVut99F19",
        "outputId": "5960c9b9-7757-4722-c5e9-d2fca5818ff3"
      },
      "outputs": [
        {
          "data": {
            "text/plain": [
              "<matplotlib.axes._subplots.AxesSubplot at 0x7fb7380e7820>"
            ]
          },
          "execution_count": 7,
          "metadata": {},
          "output_type": "execute_result"
        },
        {
          "data": {
            "image/png": "[encoded data removed]",
            "text/plain": [
              "<Figure size 1224x1224 with 1 Axes>"
            ]
          },
          "metadata": {},
          "output_type": "display_data"
        }
      ],
      "source": [
        "\n",
        "colors = [\"red\", \"green\", \"blue\", \"orange\", \"purple\", \"pink\"]  # list of colors to use\n",
        "x = df.groupby([\"school\", \"G3\"]).size() #creates a new pandas Series x by grouping the data in the DataFrame df by the values in the columns \"school\" and \"G3\"\n",
        "x.plot(kind='pie', figsize=(17,17), colors=colors) #plot x with parameter kind and figsize\n"
      ]
    },
    {
      "cell_type": "markdown",
      "metadata": {
        "id": "DHL9HcDP9Wjq"
      },
      "source": [
        "- Above pie chart  shows the distribution of values in the \"G3\" column within each group defined by the \"school\" column in a data frame called \"df\".The pie chart above will have individual slices for each distinct pairing of \"school\" and \"G3\" values. The number of rows in each group will determine how big each slice will be. For instance, if the \"school\" column has two separate values, \"A\" and \"B,\" and the \"G3\" column has three distinct values, \"10, 20, and 30,,\" then the pie chart will have six slices, one for each pair of values (A, 10), (A, 20), (A, 30), (B, 10), (B, 20), and (C, 10). (B, 30). (B, 30). Each slice's dimensions are determined by the number of rows in the Schools group.\n",
        "- Above piechart figsize is set value of 17*17.\n",
        "\n",
        "\n"
      ]
    },
    {
      "cell_type": "markdown",
      "metadata": {
        "id": "LWnNpi9V9LDF"
      },
      "source": [
        "4. Write a code to show a bar graph with the relation of the father’s occupation with the grade of the\n",
        "student. Use proper labels in the graph and interpret the results."
      ]
    },
    {
      "cell_type": "code",
      "execution_count": 12,
      "metadata": {
        "colab": {
          "base_uri": "https://localhost:8080/",
          "height": 313
        },
        "id": "V3XCRJLwEawe",
        "outputId": "ad030e43-f135-4ce0-c25e-c781c2780122"
      },
      "outputs": [
        {
          "data": {
            "text/plain": [
              "Text(0, 0.5, 'Mean of Grade ratio')"
            ]
          },
          "execution_count": 12,
          "metadata": {},
          "output_type": "execute_result"
        },
        {
          "data": {
            "image/png": "[encoded data removed]",
            "text/plain": [
              "<Figure size 432x288 with 1 Axes>"
            ]
          },
          "metadata": {
            "needs_background": "light"
          },
          "output_type": "display_data"
        }
      ],
      "source": [
        "foccupGrades = df.groupby(\"Fjob\")[\"G3\"].mean().reset_index(name=\"G3\")\n",
        "# The data is first grouped by the \"Fjob\" column and the mean of the \"G3\" column is calculated for each group.\n",
        "\n",
        " \n",
        "colors = [\"red\", \"green\", \"blue\", \"orange\", \"purple\"]\n",
        "plt.bar(foccupGrades[\"Fjob\"], foccupGrades[\"G3\"],color=colors)\n",
        "plt.title(\"Relationship between Father's Occupation and Student Grades\")\n",
        "# The plot is labeled with a title, x-axis label, and y-axis label.\n",
        "plt.xlabel(\"Father's Occupation\")\n",
        "plt.ylabel(\"Mean of Grade ratio\")\n",
        "\n"
      ]
    },
    {
      "cell_type": "markdown",
      "metadata": {
        "id": "4ZFOAgDkzo_a"
      },
      "source": [
        "- Approximately three students have fathers who work from home \"at_home,\" based on the index in the top right corner of the image, about one student's father works in the health industry based on the red index, about 25 students have fathers who work in different fields based on the lime green index.\n",
        "- In this dataset we have column \"fjob\", \"G3\" which is extracted to visualize relationship of data of those column.\"G3\" is the total mark ratio of resulted mark.Mean of \"G3\" is the average value of \"G3\" column. \n",
        "- Above bargraph represents the rows of the data frame according to the \"Fjob\" column before using the groupby() and mean() methods to calculate the mean of the \"G3\" column for each group. A new data frame with two columns, \"Fjob\" and \"G3,\" is created and contains the calculated mean values.\n",
        "\n",
        "Using the bar() function, the \"Fjob\" column is used as the x-axis and the \"G3\" column as the y-axis to generate a bar chart. The chart's title, x-axis label, and y-axis label are all labeled using the title(), xlabel(), and ylabel() functions. Finally, the chart is shown by invoking the show() function."
      ]
    }
  ],
  "metadata": {
    "colab": {
      "provenance": []
    },
    "kernelspec": {
      "display_name": "Python 3",
      "name": "python3"
    },
    "language_info": {
      "name": "python"
    }
  },
  "nbformat": 4,
  "nbformat_minor": 0
}
